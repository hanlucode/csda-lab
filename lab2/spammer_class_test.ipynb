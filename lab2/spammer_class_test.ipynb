{
 "cells": [
  {
   "cell_type": "code",
   "execution_count": 1,
   "metadata": {},
   "outputs": [],
   "source": [
    "from spammer import SpamIdentifier"
   ]
  },
  {
   "cell_type": "code",
   "execution_count": 2,
   "metadata": {},
   "outputs": [
    {
     "output_type": "stream",
     "name": "stderr",
     "text": "INFO:spammer:starting spam id engine...\nINFO:spammer:Loading TF-IDF Vectorizer...\nINFO:spammer:Preparing Train/Test Set...\nINFO:spammer:Fitting Linear SVC Model...\nINFO:spammer:Finalizing Vectorizer, Linear SVC Accuracy: 0.9748743718592965\nINFO:spammer:completing spam id engine...\n"
    }
   ],
   "source": [
    "spam = SpamIdentifier()"
   ]
  },
  {
   "cell_type": "code",
   "execution_count": 3,
   "metadata": {},
   "outputs": [
    {
     "output_type": "execute_result",
     "data": {
      "text/plain": "      Unnamed: 0 label                                               text  \\\n0              0   ham  Go until jurong point, crazy.. Available only ...   \n1              1   ham                      Ok lar... Joking wif u oni...   \n2              2  spam  Free entry in 2 a wkly comp to win FA Cup fina...   \n3              3   ham  U dun say so early hor... U c already then say...   \n4              4   ham  Nah I don't think he goes to usf, he lives aro...   \n...          ...   ...                                                ...   \n5567        5567  spam  This is the 2nd time we have tried 2 contact u...   \n5568        5568   ham             Will Ã_ b going to esplanade fr home?   \n5569        5569   ham  Pity, * was in mood for that. So...any other s...   \n5570        5570   ham  The guy did some bitching but I acted like i'd...   \n5571        5571   ham                         Rofl. Its true to its name   \n\n      spam  length                                      filtered_text  \n0        0     111  go jurong point crazy available bugis n great ...  \n1        0      29                            ok lar joking wif u oni  \n2        1     155  free entry 2 wkly comp win fa cup final tkts 2...  \n3        0      49                u dun say early hor u c already say  \n4        0      61        nah dont think goes usf lives around though  \n...    ...     ...                                                ...  \n5567     1     161  2nd time tried 2 contact u u Ã¥Â£750 pound pri...  \n5568     0      37                       Ã¬ b going esplanade fr home  \n5569     0      57                        pity mood soany suggestions  \n5570     0     125  guy bitching acted like id interested buying s...  \n5571     0      26                                     rofl true name  \n\n[5572 rows x 6 columns]",
      "text/html": "<div>\n<style scoped>\n    .dataframe tbody tr th:only-of-type {\n        vertical-align: middle;\n    }\n\n    .dataframe tbody tr th {\n        vertical-align: top;\n    }\n\n    .dataframe thead th {\n        text-align: right;\n    }\n</style>\n<table border=\"1\" class=\"dataframe\">\n  <thead>\n    <tr style=\"text-align: right;\">\n      <th></th>\n      <th>Unnamed: 0</th>\n      <th>label</th>\n      <th>text</th>\n      <th>spam</th>\n      <th>length</th>\n      <th>filtered_text</th>\n    </tr>\n  </thead>\n  <tbody>\n    <tr>\n      <th>0</th>\n      <td>0</td>\n      <td>ham</td>\n      <td>Go until jurong point, crazy.. Available only ...</td>\n      <td>0</td>\n      <td>111</td>\n      <td>go jurong point crazy available bugis n great ...</td>\n    </tr>\n    <tr>\n      <th>1</th>\n      <td>1</td>\n      <td>ham</td>\n      <td>Ok lar... Joking wif u oni...</td>\n      <td>0</td>\n      <td>29</td>\n      <td>ok lar joking wif u oni</td>\n    </tr>\n    <tr>\n      <th>2</th>\n      <td>2</td>\n      <td>spam</td>\n      <td>Free entry in 2 a wkly comp to win FA Cup fina...</td>\n      <td>1</td>\n      <td>155</td>\n      <td>free entry 2 wkly comp win fa cup final tkts 2...</td>\n    </tr>\n    <tr>\n      <th>3</th>\n      <td>3</td>\n      <td>ham</td>\n      <td>U dun say so early hor... U c already then say...</td>\n      <td>0</td>\n      <td>49</td>\n      <td>u dun say early hor u c already say</td>\n    </tr>\n    <tr>\n      <th>4</th>\n      <td>4</td>\n      <td>ham</td>\n      <td>Nah I don't think he goes to usf, he lives aro...</td>\n      <td>0</td>\n      <td>61</td>\n      <td>nah dont think goes usf lives around though</td>\n    </tr>\n    <tr>\n      <th>...</th>\n      <td>...</td>\n      <td>...</td>\n      <td>...</td>\n      <td>...</td>\n      <td>...</td>\n      <td>...</td>\n    </tr>\n    <tr>\n      <th>5567</th>\n      <td>5567</td>\n      <td>spam</td>\n      <td>This is the 2nd time we have tried 2 contact u...</td>\n      <td>1</td>\n      <td>161</td>\n      <td>2nd time tried 2 contact u u Ã¥Â£750 pound pri...</td>\n    </tr>\n    <tr>\n      <th>5568</th>\n      <td>5568</td>\n      <td>ham</td>\n      <td>Will Ã_ b going to esplanade fr home?</td>\n      <td>0</td>\n      <td>37</td>\n      <td>Ã¬ b going esplanade fr home</td>\n    </tr>\n    <tr>\n      <th>5569</th>\n      <td>5569</td>\n      <td>ham</td>\n      <td>Pity, * was in mood for that. So...any other s...</td>\n      <td>0</td>\n      <td>57</td>\n      <td>pity mood soany suggestions</td>\n    </tr>\n    <tr>\n      <th>5570</th>\n      <td>5570</td>\n      <td>ham</td>\n      <td>The guy did some bitching but I acted like i'd...</td>\n      <td>0</td>\n      <td>125</td>\n      <td>guy bitching acted like id interested buying s...</td>\n    </tr>\n    <tr>\n      <th>5571</th>\n      <td>5571</td>\n      <td>ham</td>\n      <td>Rofl. Its true to its name</td>\n      <td>0</td>\n      <td>26</td>\n      <td>rofl true name</td>\n    </tr>\n  </tbody>\n</table>\n<p>5572 rows × 6 columns</p>\n</div>"
     },
     "metadata": {},
     "execution_count": 3
    }
   ],
   "source": [
    "spam.spam_data"
   ]
  },
  {
   "cell_type": "code",
   "execution_count": 4,
   "metadata": {},
   "outputs": [],
   "source": [
    "# spam.save_ml_objects()"
   ]
  },
  {
   "cell_type": "code",
   "execution_count": 5,
   "metadata": {},
   "outputs": [],
   "source": [
    "# spam.load_ml_objects()"
   ]
  },
  {
   "cell_type": "code",
   "execution_count": 6,
   "metadata": {},
   "outputs": [],
   "source": [
    "# spam.start_spam_id_engine()"
   ]
  },
  {
   "cell_type": "code",
   "execution_count": 7,
   "metadata": {},
   "outputs": [
    {
     "output_type": "execute_result",
     "data": {
      "text/plain": "      Unnamed: 0 label                                               text  \\\n5461        5461   ham  Ok i thk i got it. Then u wan me 2 come now or...   \n3838        3838   ham  Erm ÂÃ_ ill pick you up at about 6.45pm. Tha...   \n3574        3574   ham  And do you have any one that can teach me how ...   \n5550        5550   ham        Cool, what time you think you can get here?   \n1730        1730   ham                        Doing project w frens lor.    \n\n      spam  length                                      filtered_text  \n5461     0      51                        ok thk got u wan 2 come wat  \n3838     0      94  erm ÂÃ» ill pick 645pm thatll give enough tim...  \n3574     0      59                                one teach ship cars  \n5550     0      43                                cool time think get  \n1730     0      27                                project w frens lor  ",
      "text/html": "<div>\n<style scoped>\n    .dataframe tbody tr th:only-of-type {\n        vertical-align: middle;\n    }\n\n    .dataframe tbody tr th {\n        vertical-align: top;\n    }\n\n    .dataframe thead th {\n        text-align: right;\n    }\n</style>\n<table border=\"1\" class=\"dataframe\">\n  <thead>\n    <tr style=\"text-align: right;\">\n      <th></th>\n      <th>Unnamed: 0</th>\n      <th>label</th>\n      <th>text</th>\n      <th>spam</th>\n      <th>length</th>\n      <th>filtered_text</th>\n    </tr>\n  </thead>\n  <tbody>\n    <tr>\n      <th>5461</th>\n      <td>5461</td>\n      <td>ham</td>\n      <td>Ok i thk i got it. Then u wan me 2 come now or...</td>\n      <td>0</td>\n      <td>51</td>\n      <td>ok thk got u wan 2 come wat</td>\n    </tr>\n    <tr>\n      <th>3838</th>\n      <td>3838</td>\n      <td>ham</td>\n      <td>Erm ÂÃ_ ill pick you up at about 6.45pm. Tha...</td>\n      <td>0</td>\n      <td>94</td>\n      <td>erm ÂÃ» ill pick 645pm thatll give enough tim...</td>\n    </tr>\n    <tr>\n      <th>3574</th>\n      <td>3574</td>\n      <td>ham</td>\n      <td>And do you have any one that can teach me how ...</td>\n      <td>0</td>\n      <td>59</td>\n      <td>one teach ship cars</td>\n    </tr>\n    <tr>\n      <th>5550</th>\n      <td>5550</td>\n      <td>ham</td>\n      <td>Cool, what time you think you can get here?</td>\n      <td>0</td>\n      <td>43</td>\n      <td>cool time think get</td>\n    </tr>\n    <tr>\n      <th>1730</th>\n      <td>1730</td>\n      <td>ham</td>\n      <td>Doing project w frens lor.</td>\n      <td>0</td>\n      <td>27</td>\n      <td>project w frens lor</td>\n    </tr>\n  </tbody>\n</table>\n</div>"
     },
     "metadata": {},
     "execution_count": 7
    }
   ],
   "source": [
    "spam.get_sample_ham()"
   ]
  },
  {
   "cell_type": "code",
   "execution_count": 8,
   "metadata": {},
   "outputs": [
    {
     "output_type": "execute_result",
     "data": {
      "text/plain": "      Unnamed: 0 label                                               text  \\\n3419        3419  spam  As a valued customer, I am pleased to advise y...   \n5487        5487  spam  2p per min to call Germany 08448350055 from yo...   \n3151        3151  spam  Hard LIVE 121 chat just 60p/min. Choose your g...   \n4296        4296  spam  thesmszone.com lets you send free anonymous an...   \n3422        3422  spam  Had your mobile 10 mths? Update to latest Oran...   \n\n      spam  length                                      filtered_text  \n3419     1     153  valued customer pleased advise following recen...  \n5487     1     145  2p per min call germany 08448350055 bt line 2p...  \n3151     1     145  hard live 121 chat 60pmin choose girl connect ...  \n4296     1     138  thesmszonecom lets send free anonymous masked ...  \n3422     1     158  mobile 10 mths update latest orange cameravide...  ",
      "text/html": "<div>\n<style scoped>\n    .dataframe tbody tr th:only-of-type {\n        vertical-align: middle;\n    }\n\n    .dataframe tbody tr th {\n        vertical-align: top;\n    }\n\n    .dataframe thead th {\n        text-align: right;\n    }\n</style>\n<table border=\"1\" class=\"dataframe\">\n  <thead>\n    <tr style=\"text-align: right;\">\n      <th></th>\n      <th>Unnamed: 0</th>\n      <th>label</th>\n      <th>text</th>\n      <th>spam</th>\n      <th>length</th>\n      <th>filtered_text</th>\n    </tr>\n  </thead>\n  <tbody>\n    <tr>\n      <th>3419</th>\n      <td>3419</td>\n      <td>spam</td>\n      <td>As a valued customer, I am pleased to advise y...</td>\n      <td>1</td>\n      <td>153</td>\n      <td>valued customer pleased advise following recen...</td>\n    </tr>\n    <tr>\n      <th>5487</th>\n      <td>5487</td>\n      <td>spam</td>\n      <td>2p per min to call Germany 08448350055 from yo...</td>\n      <td>1</td>\n      <td>145</td>\n      <td>2p per min call germany 08448350055 bt line 2p...</td>\n    </tr>\n    <tr>\n      <th>3151</th>\n      <td>3151</td>\n      <td>spam</td>\n      <td>Hard LIVE 121 chat just 60p/min. Choose your g...</td>\n      <td>1</td>\n      <td>145</td>\n      <td>hard live 121 chat 60pmin choose girl connect ...</td>\n    </tr>\n    <tr>\n      <th>4296</th>\n      <td>4296</td>\n      <td>spam</td>\n      <td>thesmszone.com lets you send free anonymous an...</td>\n      <td>1</td>\n      <td>138</td>\n      <td>thesmszonecom lets send free anonymous masked ...</td>\n    </tr>\n    <tr>\n      <th>3422</th>\n      <td>3422</td>\n      <td>spam</td>\n      <td>Had your mobile 10 mths? Update to latest Oran...</td>\n      <td>1</td>\n      <td>158</td>\n      <td>mobile 10 mths update latest orange cameravide...</td>\n    </tr>\n  </tbody>\n</table>\n</div>"
     },
     "metadata": {},
     "execution_count": 8
    }
   ],
   "source": [
    "spam.get_sample_spam()"
   ]
  },
  {
   "cell_type": "code",
   "execution_count": 9,
   "metadata": {},
   "outputs": [],
   "source": [
    "# spam.start_vectorizer()"
   ]
  },
  {
   "cell_type": "code",
   "execution_count": 10,
   "metadata": {},
   "outputs": [
    {
     "output_type": "stream",
     "name": "stdout",
     "text": "Go until jurong point, crazy.. Available only in bugis n great world la e buffet... Cine there got amore wat...\ngo jurong point crazy available bugis n great world la e buffet cine got amore wat\n"
    }
   ],
   "source": [
    "print(spam.spam_data['text'][0])\n",
    "print(spam.spam_data['filtered_text'][0])"
   ]
  },
  {
   "cell_type": "code",
   "execution_count": 12,
   "metadata": {},
   "outputs": [
    {
     "output_type": "execute_result",
     "data": {
      "text/plain": "'go jurong point crazy available bugis n great world la e buffet cine got amore wat'"
     },
     "metadata": {},
     "execution_count": 12
    }
   ],
   "source": [
    "spam.identify_message('Go until jurong point, crazy.. Available only in bugis n great world la e buffet... Cine there got amore wat...')"
   ]
  },
  {
   "cell_type": "code",
   "execution_count": null,
   "metadata": {},
   "outputs": [],
   "source": []
  }
 ],
 "metadata": {
  "language_info": {
   "codemirror_mode": {
    "name": "ipython",
    "version": 3
   },
   "file_extension": ".py",
   "mimetype": "text/x-python",
   "name": "python",
   "nbconvert_exporter": "python",
   "pygments_lexer": "ipython3",
   "version": "3.7.4-final"
  },
  "orig_nbformat": 2,
  "kernelspec": {
   "name": "python37464bitenvvenvc6419c7479fb4c348c72c3d2f96f3f35",
   "display_name": "Python 3.7.4 64-bit ('env': venv)"
  }
 },
 "nbformat": 4,
 "nbformat_minor": 2
}
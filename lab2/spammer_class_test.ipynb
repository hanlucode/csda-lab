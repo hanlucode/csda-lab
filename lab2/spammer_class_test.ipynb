{
 "cells": [
  {
   "cell_type": "code",
   "execution_count": 1,
   "metadata": {},
   "outputs": [],
   "source": [
    "from spammer import SpamIdentifier"
   ]
  },
  {
   "cell_type": "code",
   "execution_count": 2,
   "metadata": {},
   "outputs": [
    {
     "output_type": "stream",
     "name": "stderr",
     "text": "INFO:spammer:starting spam id engine...\nINFO:spammer:Building Train/Test split from spam data...\nINFO:spammer:Vectorizing Training Set...\nINFO:spammer:Vectorizing Test Set...\nINFO:spammer:Fitting Linear SVC Model...\nINFO:spammer:Finalizing Vectorizer, Linear SVC Accuracy: 0.9856424982053122\nINFO:spammer:completing spam id engine...\n"
    }
   ],
   "source": [
    "spam = SpamIdentifier()"
   ]
  },
  {
   "cell_type": "code",
   "execution_count": 3,
   "metadata": {},
   "outputs": [
    {
     "output_type": "execute_result",
     "data": {
      "text/plain": "      Unnamed: 0 label                                               text  \\\n0              0   ham  Go until jurong point, crazy.. Available only ...   \n1              1   ham                      Ok lar... Joking wif u oni...   \n2              2  spam  Free entry in 2 a wkly comp to win FA Cup fina...   \n3              3   ham  U dun say so early hor... U c already then say...   \n4              4   ham  Nah I don't think he goes to usf, he lives aro...   \n...          ...   ...                                                ...   \n5567        5567  spam  This is the 2nd time we have tried 2 contact u...   \n5568        5568   ham             Will Ã_ b going to esplanade fr home?   \n5569        5569   ham  Pity, * was in mood for that. So...any other s...   \n5570        5570   ham  The guy did some bitching but I acted like i'd...   \n5571        5571   ham                         Rofl. Its true to its name   \n\n      spam  length                                      filtered_text  \n0        0     111  go jurong point crazy available bugis n great ...  \n1        0      29                            ok lar joking wif u oni  \n2        1     155  free entry 2 wkly comp win fa cup final tkts 2...  \n3        0      49                u dun say early hor u c already say  \n4        0      61        nah dont think goes usf lives around though  \n...    ...     ...                                                ...  \n5567     1     161  2nd time tried 2 contact u u Ã¥Â£750 pound pri...  \n5568     0      37                       Ã¬ b going esplanade fr home  \n5569     0      57                        pity mood soany suggestions  \n5570     0     125  guy bitching acted like id interested buying s...  \n5571     0      26                                     rofl true name  \n\n[5572 rows x 6 columns]",
      "text/html": "<div>\n<style scoped>\n    .dataframe tbody tr th:only-of-type {\n        vertical-align: middle;\n    }\n\n    .dataframe tbody tr th {\n        vertical-align: top;\n    }\n\n    .dataframe thead th {\n        text-align: right;\n    }\n</style>\n<table border=\"1\" class=\"dataframe\">\n  <thead>\n    <tr style=\"text-align: right;\">\n      <th></th>\n      <th>Unnamed: 0</th>\n      <th>label</th>\n      <th>text</th>\n      <th>spam</th>\n      <th>length</th>\n      <th>filtered_text</th>\n    </tr>\n  </thead>\n  <tbody>\n    <tr>\n      <th>0</th>\n      <td>0</td>\n      <td>ham</td>\n      <td>Go until jurong point, crazy.. Available only ...</td>\n      <td>0</td>\n      <td>111</td>\n      <td>go jurong point crazy available bugis n great ...</td>\n    </tr>\n    <tr>\n      <th>1</th>\n      <td>1</td>\n      <td>ham</td>\n      <td>Ok lar... Joking wif u oni...</td>\n      <td>0</td>\n      <td>29</td>\n      <td>ok lar joking wif u oni</td>\n    </tr>\n    <tr>\n      <th>2</th>\n      <td>2</td>\n      <td>spam</td>\n      <td>Free entry in 2 a wkly comp to win FA Cup fina...</td>\n      <td>1</td>\n      <td>155</td>\n      <td>free entry 2 wkly comp win fa cup final tkts 2...</td>\n    </tr>\n    <tr>\n      <th>3</th>\n      <td>3</td>\n      <td>ham</td>\n      <td>U dun say so early hor... U c already then say...</td>\n      <td>0</td>\n      <td>49</td>\n      <td>u dun say early hor u c already say</td>\n    </tr>\n    <tr>\n      <th>4</th>\n      <td>4</td>\n      <td>ham</td>\n      <td>Nah I don't think he goes to usf, he lives aro...</td>\n      <td>0</td>\n      <td>61</td>\n      <td>nah dont think goes usf lives around though</td>\n    </tr>\n    <tr>\n      <th>...</th>\n      <td>...</td>\n      <td>...</td>\n      <td>...</td>\n      <td>...</td>\n      <td>...</td>\n      <td>...</td>\n    </tr>\n    <tr>\n      <th>5567</th>\n      <td>5567</td>\n      <td>spam</td>\n      <td>This is the 2nd time we have tried 2 contact u...</td>\n      <td>1</td>\n      <td>161</td>\n      <td>2nd time tried 2 contact u u Ã¥Â£750 pound pri...</td>\n    </tr>\n    <tr>\n      <th>5568</th>\n      <td>5568</td>\n      <td>ham</td>\n      <td>Will Ã_ b going to esplanade fr home?</td>\n      <td>0</td>\n      <td>37</td>\n      <td>Ã¬ b going esplanade fr home</td>\n    </tr>\n    <tr>\n      <th>5569</th>\n      <td>5569</td>\n      <td>ham</td>\n      <td>Pity, * was in mood for that. So...any other s...</td>\n      <td>0</td>\n      <td>57</td>\n      <td>pity mood soany suggestions</td>\n    </tr>\n    <tr>\n      <th>5570</th>\n      <td>5570</td>\n      <td>ham</td>\n      <td>The guy did some bitching but I acted like i'd...</td>\n      <td>0</td>\n      <td>125</td>\n      <td>guy bitching acted like id interested buying s...</td>\n    </tr>\n    <tr>\n      <th>5571</th>\n      <td>5571</td>\n      <td>ham</td>\n      <td>Rofl. Its true to its name</td>\n      <td>0</td>\n      <td>26</td>\n      <td>rofl true name</td>\n    </tr>\n  </tbody>\n</table>\n<p>5572 rows × 6 columns</p>\n</div>"
     },
     "metadata": {},
     "execution_count": 3
    }
   ],
   "source": [
    "spam.spam_data"
   ]
  },
  {
   "cell_type": "code",
   "execution_count": 4,
   "metadata": {},
   "outputs": [],
   "source": [
    "# spam.save_ml_objects()"
   ]
  },
  {
   "cell_type": "code",
   "execution_count": 5,
   "metadata": {},
   "outputs": [],
   "source": [
    "# spam.load_ml_objects()"
   ]
  },
  {
   "cell_type": "code",
   "execution_count": 6,
   "metadata": {},
   "outputs": [],
   "source": [
    "# spam.start_spam_id_engine()"
   ]
  },
  {
   "cell_type": "code",
   "execution_count": 7,
   "metadata": {},
   "outputs": [
    {
     "output_type": "execute_result",
     "data": {
      "text/plain": "      Unnamed: 0 label                                               text  \\\n4547        4547   ham  Hope you are having a good week. Just checking in   \n4939        4939   ham   ÃÃ go home liao? Ask dad to pick me up at 6...   \n1749        1749   ham                             DO NOT B LATE LOVE MUM   \n171          171   ham  Hmmm.. Thk sure got time to hop ard... Ya, can...   \n391          391   ham  Hey so this sat are we going for the intro pil...   \n\n      spam  length                                      filtered_text  \n4547     0      49                            hope good week checking  \n4939     0      46                   Ã¬Ã¯ go home liao ask dad pick 6  \n1749     0      22                                    b late love mum  \n171      0      94  hmmm thk sure got time hop ard ya go 4 free ab...  \n391      0      80             hey sat going intro pilates kickboxing  ",
      "text/html": "<div>\n<style scoped>\n    .dataframe tbody tr th:only-of-type {\n        vertical-align: middle;\n    }\n\n    .dataframe tbody tr th {\n        vertical-align: top;\n    }\n\n    .dataframe thead th {\n        text-align: right;\n    }\n</style>\n<table border=\"1\" class=\"dataframe\">\n  <thead>\n    <tr style=\"text-align: right;\">\n      <th></th>\n      <th>Unnamed: 0</th>\n      <th>label</th>\n      <th>text</th>\n      <th>spam</th>\n      <th>length</th>\n      <th>filtered_text</th>\n    </tr>\n  </thead>\n  <tbody>\n    <tr>\n      <th>4547</th>\n      <td>4547</td>\n      <td>ham</td>\n      <td>Hope you are having a good week. Just checking in</td>\n      <td>0</td>\n      <td>49</td>\n      <td>hope good week checking</td>\n    </tr>\n    <tr>\n      <th>4939</th>\n      <td>4939</td>\n      <td>ham</td>\n      <td>ÃÃ go home liao? Ask dad to pick me up at 6...</td>\n      <td>0</td>\n      <td>46</td>\n      <td>Ã¬Ã¯ go home liao ask dad pick 6</td>\n    </tr>\n    <tr>\n      <th>1749</th>\n      <td>1749</td>\n      <td>ham</td>\n      <td>DO NOT B LATE LOVE MUM</td>\n      <td>0</td>\n      <td>22</td>\n      <td>b late love mum</td>\n    </tr>\n    <tr>\n      <th>171</th>\n      <td>171</td>\n      <td>ham</td>\n      <td>Hmmm.. Thk sure got time to hop ard... Ya, can...</td>\n      <td>0</td>\n      <td>94</td>\n      <td>hmmm thk sure got time hop ard ya go 4 free ab...</td>\n    </tr>\n    <tr>\n      <th>391</th>\n      <td>391</td>\n      <td>ham</td>\n      <td>Hey so this sat are we going for the intro pil...</td>\n      <td>0</td>\n      <td>80</td>\n      <td>hey sat going intro pilates kickboxing</td>\n    </tr>\n  </tbody>\n</table>\n</div>"
     },
     "metadata": {},
     "execution_count": 7
    }
   ],
   "source": [
    "spam.get_sample_ham()"
   ]
  },
  {
   "cell_type": "code",
   "execution_count": 8,
   "metadata": {},
   "outputs": [
    {
     "output_type": "execute_result",
     "data": {
      "text/plain": "      Unnamed: 0 label                                               text  \\\n1068        1068  spam  Someone U know has asked our dating service 2 ...   \n2043        2043  spam  4mths half price Orange line rental & latest c...   \n1673        1673  spam  Monthly password for wap. mobsi.com is 391784....   \n530          530  spam  PRIVATE! Your 2003 Account Statement for 07815...   \n400          400  spam  FREE RINGTONE text FIRST to 87131 for a poly o...   \n\n      spam  length                                      filtered_text  \n1068     1     134  someone u know asked dating service 2 contact ...  \n2043     1     155  4mths half price orange line rental latest cam...  \n1673     1      73  monthly password wap mobsicom 391784 use wap p...  \n530      1     146  private 2003 account statement 07815296484 sho...  \n400      1     158  free ringtone text first 87131 poly text get 8...  ",
      "text/html": "<div>\n<style scoped>\n    .dataframe tbody tr th:only-of-type {\n        vertical-align: middle;\n    }\n\n    .dataframe tbody tr th {\n        vertical-align: top;\n    }\n\n    .dataframe thead th {\n        text-align: right;\n    }\n</style>\n<table border=\"1\" class=\"dataframe\">\n  <thead>\n    <tr style=\"text-align: right;\">\n      <th></th>\n      <th>Unnamed: 0</th>\n      <th>label</th>\n      <th>text</th>\n      <th>spam</th>\n      <th>length</th>\n      <th>filtered_text</th>\n    </tr>\n  </thead>\n  <tbody>\n    <tr>\n      <th>1068</th>\n      <td>1068</td>\n      <td>spam</td>\n      <td>Someone U know has asked our dating service 2 ...</td>\n      <td>1</td>\n      <td>134</td>\n      <td>someone u know asked dating service 2 contact ...</td>\n    </tr>\n    <tr>\n      <th>2043</th>\n      <td>2043</td>\n      <td>spam</td>\n      <td>4mths half price Orange line rental &amp; latest c...</td>\n      <td>1</td>\n      <td>155</td>\n      <td>4mths half price orange line rental latest cam...</td>\n    </tr>\n    <tr>\n      <th>1673</th>\n      <td>1673</td>\n      <td>spam</td>\n      <td>Monthly password for wap. mobsi.com is 391784....</td>\n      <td>1</td>\n      <td>73</td>\n      <td>monthly password wap mobsicom 391784 use wap p...</td>\n    </tr>\n    <tr>\n      <th>530</th>\n      <td>530</td>\n      <td>spam</td>\n      <td>PRIVATE! Your 2003 Account Statement for 07815...</td>\n      <td>1</td>\n      <td>146</td>\n      <td>private 2003 account statement 07815296484 sho...</td>\n    </tr>\n    <tr>\n      <th>400</th>\n      <td>400</td>\n      <td>spam</td>\n      <td>FREE RINGTONE text FIRST to 87131 for a poly o...</td>\n      <td>1</td>\n      <td>158</td>\n      <td>free ringtone text first 87131 poly text get 8...</td>\n    </tr>\n  </tbody>\n</table>\n</div>"
     },
     "metadata": {},
     "execution_count": 8
    }
   ],
   "source": [
    "spam.get_sample_spam()"
   ]
  },
  {
   "cell_type": "code",
   "execution_count": 9,
   "metadata": {},
   "outputs": [],
   "source": [
    "# spam.start_vectorizer()"
   ]
  },
  {
   "cell_type": "code",
   "execution_count": 10,
   "metadata": {},
   "outputs": [
    {
     "output_type": "stream",
     "name": "stdout",
     "text": "Go until jurong point, crazy.. Available only in bugis n great world la e buffet... Cine there got amore wat...\ngo jurong point crazy available bugis n great world la e buffet cine got amore wat\n"
    }
   ],
   "source": [
    "print(spam.spam_data['text'][0])\n",
    "print(spam.spam_data['filtered_text'][0])"
   ]
  },
  {
   "cell_type": "code",
   "execution_count": 11,
   "metadata": {},
   "outputs": [
    {
     "output_type": "stream",
     "name": "stderr",
     "text": "INFO:spammer:Building Train/Test split from spam data...\nINFO:spammer:Vectorizing Training Set...\nINFO:spammer:Vectorizing Test Set...\nINFO:spammer:Fitting Linear SVC Model...\nINFO:spammer:Finalizing Vectorizer, Linear SVC Accuracy: 0.9827709978463748\n"
    }
   ],
   "source": [
    "spam.build_model()"
   ]
  },
  {
   "cell_type": "code",
   "execution_count": 12,
   "metadata": {},
   "outputs": [
    {
     "output_type": "execute_result",
     "data": {
      "text/plain": "array([0])"
     },
     "metadata": {},
     "execution_count": 12
    }
   ],
   "source": [
    "spam.identify_message('Go until jurong point, crazy.. Available only in bugis n great world la e buffet... Cine there got amore wat...')"
   ]
  },
  {
   "cell_type": "code",
   "execution_count": 18,
   "metadata": {},
   "outputs": [
    {
     "output_type": "execute_result",
     "data": {
      "text/plain": "      Unnamed: 0 label                                  text  spam  length  \\\n2259        2259   ham  Ill call you evening ill some ideas.     0      36   \n\n                   filtered_text  \n2259  ill call evening ill ideas  ",
      "text/html": "<div>\n<style scoped>\n    .dataframe tbody tr th:only-of-type {\n        vertical-align: middle;\n    }\n\n    .dataframe tbody tr th {\n        vertical-align: top;\n    }\n\n    .dataframe thead th {\n        text-align: right;\n    }\n</style>\n<table border=\"1\" class=\"dataframe\">\n  <thead>\n    <tr style=\"text-align: right;\">\n      <th></th>\n      <th>Unnamed: 0</th>\n      <th>label</th>\n      <th>text</th>\n      <th>spam</th>\n      <th>length</th>\n      <th>filtered_text</th>\n    </tr>\n  </thead>\n  <tbody>\n    <tr>\n      <th>2259</th>\n      <td>2259</td>\n      <td>ham</td>\n      <td>Ill call you evening ill some ideas.</td>\n      <td>0</td>\n      <td>36</td>\n      <td>ill call evening ill ideas</td>\n    </tr>\n  </tbody>\n</table>\n</div>"
     },
     "metadata": {},
     "execution_count": 18
    }
   ],
   "source": [
    "good = spam.spam_data[spam.spam_data['label'] == 'ham'].sample(1)\n",
    "good"
   ]
  },
  {
   "cell_type": "code",
   "execution_count": 19,
   "metadata": {},
   "outputs": [
    {
     "output_type": "execute_result",
     "data": {
      "text/plain": "      Unnamed: 0 label                                               text  \\\n3065        3065  spam  Get a brand new mobile phone by being an agent...   \n\n      spam  length                                      filtered_text  \n3065     1     121  get brand new mobile phone agent mob plus load...  ",
      "text/html": "<div>\n<style scoped>\n    .dataframe tbody tr th:only-of-type {\n        vertical-align: middle;\n    }\n\n    .dataframe tbody tr th {\n        vertical-align: top;\n    }\n\n    .dataframe thead th {\n        text-align: right;\n    }\n</style>\n<table border=\"1\" class=\"dataframe\">\n  <thead>\n    <tr style=\"text-align: right;\">\n      <th></th>\n      <th>Unnamed: 0</th>\n      <th>label</th>\n      <th>text</th>\n      <th>spam</th>\n      <th>length</th>\n      <th>filtered_text</th>\n    </tr>\n  </thead>\n  <tbody>\n    <tr>\n      <th>3065</th>\n      <td>3065</td>\n      <td>spam</td>\n      <td>Get a brand new mobile phone by being an agent...</td>\n      <td>1</td>\n      <td>121</td>\n      <td>get brand new mobile phone agent mob plus load...</td>\n    </tr>\n  </tbody>\n</table>\n</div>"
     },
     "metadata": {},
     "execution_count": 19
    }
   ],
   "source": [
    "bad = spam.spam_data[spam.spam_data['label'] == 'spam'].sample(1)\n",
    "bad"
   ]
  },
  {
   "cell_type": "code",
   "execution_count": 20,
   "metadata": {},
   "outputs": [
    {
     "output_type": "execute_result",
     "data": {
      "text/plain": "array([0])"
     },
     "metadata": {},
     "execution_count": 20
    }
   ],
   "source": [
    "spam.identify_message(good.text)"
   ]
  },
  {
   "cell_type": "code",
   "execution_count": 21,
   "metadata": {},
   "outputs": [
    {
     "output_type": "execute_result",
     "data": {
      "text/plain": "array([1])"
     },
     "metadata": {},
     "execution_count": 21
    }
   ],
   "source": [
    "spam.identify_message(bad.text)"
   ]
  },
  {
   "cell_type": "code",
   "execution_count": null,
   "metadata": {},
   "outputs": [],
   "source": []
  }
 ],
 "metadata": {
  "language_info": {
   "codemirror_mode": {
    "name": "ipython",
    "version": 3
   },
   "file_extension": ".py",
   "mimetype": "text/x-python",
   "name": "python",
   "nbconvert_exporter": "python",
   "pygments_lexer": "ipython3",
   "version": "3.7.4-final"
  },
  "orig_nbformat": 2,
  "kernelspec": {
   "name": "python37464bitenvvenvc6419c7479fb4c348c72c3d2f96f3f35",
   "display_name": "Python 3.7.4 64-bit ('env': venv)"
  }
 },
 "nbformat": 4,
 "nbformat_minor": 2
}
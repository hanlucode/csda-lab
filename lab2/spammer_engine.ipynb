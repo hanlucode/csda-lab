{
 "cells": [
  {
   "cell_type": "code",
   "execution_count": null,
   "metadata": {},
   "outputs": [],
   "source": [
    "# FOR BACKUP ONLY"
   ]
  },
  {
   "cell_type": "code",
   "execution_count": 1,
   "metadata": {},
   "outputs": [],
   "source": [
    "import logging\n",
    "import pickle\n",
    "\n",
    "import string\n",
    "\n",
    "import pandas as pd \n",
    "import numpy as np \n",
    "import re\n",
    "import os.path\n",
    "\n",
    "from sklearn.feature_extraction.text import TfidfVectorizer, CountVectorizer\n",
    "\n",
    "from sklearn.svm import LinearSVC\n",
    "\n",
    "from sklearn.model_selection import train_test_split\n",
    "from sklearn.metrics import accuracy_score\n",
    "\n",
    "import nltk\n",
    "from nltk.corpus import stopwords"
   ]
  },
  {
   "cell_type": "code",
   "execution_count": 2,
   "metadata": {},
   "outputs": [],
   "source": [
    "spam_data = pd.read_csv(\"../data/spam_cleaned.csv\", encoding='latin-1')"
   ]
  },
  {
   "cell_type": "code",
   "execution_count": 3,
   "metadata": {},
   "outputs": [
    {
     "output_type": "execute_result",
     "data": {
      "text/plain": "      Unnamed: 0 label                                               text  \\\n64            64   ham  Ok lar i double check wif da hair dresser alre...   \n2239        2239   ham  Every day i use to sleep after  &lt;#&gt;  so ...   \n5149        5149   ham                       Pls call me da. What happen.   \n1132        1132   ham                Good morning princess! How are you?   \n4557        4557   ham  PISS IS TALKING IS SOMEONE THAT REALISE U THAT...   \n\n      spam  length                                      filtered_text  \n64       0     110  ok lar double check wif da hair dresser alread...  \n2239     0      51                           every day use sleep ltgt  \n5149     0      28                                 pls call da happen  \n1132     0      35                              good morning princess  \n4557     0      90  piss talking someone realise u point itnow rea...  ",
      "text/html": "<div>\n<style scoped>\n    .dataframe tbody tr th:only-of-type {\n        vertical-align: middle;\n    }\n\n    .dataframe tbody tr th {\n        vertical-align: top;\n    }\n\n    .dataframe thead th {\n        text-align: right;\n    }\n</style>\n<table border=\"1\" class=\"dataframe\">\n  <thead>\n    <tr style=\"text-align: right;\">\n      <th></th>\n      <th>Unnamed: 0</th>\n      <th>label</th>\n      <th>text</th>\n      <th>spam</th>\n      <th>length</th>\n      <th>filtered_text</th>\n    </tr>\n  </thead>\n  <tbody>\n    <tr>\n      <th>64</th>\n      <td>64</td>\n      <td>ham</td>\n      <td>Ok lar i double check wif da hair dresser alre...</td>\n      <td>0</td>\n      <td>110</td>\n      <td>ok lar double check wif da hair dresser alread...</td>\n    </tr>\n    <tr>\n      <th>2239</th>\n      <td>2239</td>\n      <td>ham</td>\n      <td>Every day i use to sleep after  &amp;lt;#&amp;gt;  so ...</td>\n      <td>0</td>\n      <td>51</td>\n      <td>every day use sleep ltgt</td>\n    </tr>\n    <tr>\n      <th>5149</th>\n      <td>5149</td>\n      <td>ham</td>\n      <td>Pls call me da. What happen.</td>\n      <td>0</td>\n      <td>28</td>\n      <td>pls call da happen</td>\n    </tr>\n    <tr>\n      <th>1132</th>\n      <td>1132</td>\n      <td>ham</td>\n      <td>Good morning princess! How are you?</td>\n      <td>0</td>\n      <td>35</td>\n      <td>good morning princess</td>\n    </tr>\n    <tr>\n      <th>4557</th>\n      <td>4557</td>\n      <td>ham</td>\n      <td>PISS IS TALKING IS SOMEONE THAT REALISE U THAT...</td>\n      <td>0</td>\n      <td>90</td>\n      <td>piss talking someone realise u point itnow rea...</td>\n    </tr>\n  </tbody>\n</table>\n</div>"
     },
     "metadata": {},
     "execution_count": 3
    }
   ],
   "source": [
    "spam_data[spam_data['label'] == 'ham'].sample(5)"
   ]
  },
  {
   "cell_type": "code",
   "execution_count": 4,
   "metadata": {},
   "outputs": [],
   "source": [
    "# Train Test Split\n",
    "# logger.info('Preparing Train/Test Set...')\n",
    "corpus = spam_data.filtered_text.values.astype('U')\n",
    "y = spam_data.spam.values\n",
    "Xc_train, Xc_test, y_train, y_test = train_test_split(corpus, y, test_size=0.25)"
   ]
  },
  {
   "cell_type": "code",
   "execution_count": 5,
   "metadata": {},
   "outputs": [
    {
     "output_type": "execute_result",
     "data": {
      "text/plain": "array(['wat r u',\n       'madamregret disturbancemight receive reference check dlf premaricakindly informedrgdsrakheshkerala',\n       'good afternoon starshine hows boytoy crave yet ache fuck sips cappuccino miss babe teasing kiss',\n       ...,\n       'erm woodland avenue somewhere get parish magazine telephone number',\n       'sfirst timedhoni rocks',\n       'sounds good fingers makes difficult type'], dtype='<U516')"
     },
     "metadata": {},
     "execution_count": 5
    }
   ],
   "source": [
    "Xc_train"
   ]
  },
  {
   "cell_type": "code",
   "execution_count": 6,
   "metadata": {},
   "outputs": [
    {
     "output_type": "execute_result",
     "data": {
      "text/plain": "array([0, 0, 0, ..., 0, 0, 0])"
     },
     "metadata": {},
     "execution_count": 6
    }
   ],
   "source": [
    "y_train"
   ]
  },
  {
   "cell_type": "code",
   "execution_count": 9,
   "metadata": {},
   "outputs": [],
   "source": [
    "# logger.info('Vectorizing Training Set')\n",
    "tf = TfidfVectorizer(use_idf=True)\n",
    "Xctr_tf_fitted = tf.fit(Xc_train)\n",
    "# should save Xct_tf_fitted in pickle for vocab list\n",
    "Xctr_tf_fitted_txform = Xctr_tf_fitted.transform(Xc_train)"
   ]
  },
  {
   "cell_type": "code",
   "execution_count": 10,
   "metadata": {},
   "outputs": [
    {
     "output_type": "execute_result",
     "data": {
      "text/plain": "'wat r u'"
     },
     "metadata": {},
     "execution_count": 10
    }
   ],
   "source": [
    "Xc_train[0]"
   ]
  },
  {
   "cell_type": "code",
   "execution_count": 11,
   "metadata": {},
   "outputs": [
    {
     "output_type": "execute_result",
     "data": {
      "text/plain": "              tfidf\nwat             1.0\n008704050406    0.0\nperhaps         0.0\npersonality     0.0\npersonal        0.0\n...             ...\nends            0.0\nendowed         0.0\nendless         0.0\nending          0.0\nãµve            0.0\n\n[8021 rows x 1 columns]",
      "text/html": "<div>\n<style scoped>\n    .dataframe tbody tr th:only-of-type {\n        vertical-align: middle;\n    }\n\n    .dataframe tbody tr th {\n        vertical-align: top;\n    }\n\n    .dataframe thead th {\n        text-align: right;\n    }\n</style>\n<table border=\"1\" class=\"dataframe\">\n  <thead>\n    <tr style=\"text-align: right;\">\n      <th></th>\n      <th>tfidf</th>\n    </tr>\n  </thead>\n  <tbody>\n    <tr>\n      <th>wat</th>\n      <td>1.0</td>\n    </tr>\n    <tr>\n      <th>008704050406</th>\n      <td>0.0</td>\n    </tr>\n    <tr>\n      <th>perhaps</th>\n      <td>0.0</td>\n    </tr>\n    <tr>\n      <th>personality</th>\n      <td>0.0</td>\n    </tr>\n    <tr>\n      <th>personal</th>\n      <td>0.0</td>\n    </tr>\n    <tr>\n      <th>...</th>\n      <td>...</td>\n    </tr>\n    <tr>\n      <th>ends</th>\n      <td>0.0</td>\n    </tr>\n    <tr>\n      <th>endowed</th>\n      <td>0.0</td>\n    </tr>\n    <tr>\n      <th>endless</th>\n      <td>0.0</td>\n    </tr>\n    <tr>\n      <th>ending</th>\n      <td>0.0</td>\n    </tr>\n    <tr>\n      <th>ãµve</th>\n      <td>0.0</td>\n    </tr>\n  </tbody>\n</table>\n<p>8021 rows × 1 columns</p>\n</div>"
     },
     "metadata": {},
     "execution_count": 11
    }
   ],
   "source": [
    "first_vec=Xctr_tf_fitted_txform[0]\n",
    "df = pd.DataFrame(first_vec.T.todense(), index=tf.get_feature_names(), columns=['tfidf'])\n",
    "df.sort_values(by=[\"tfidf\"],ascending=False)"
   ]
  },
  {
   "cell_type": "code",
   "execution_count": 12,
   "metadata": {},
   "outputs": [
    {
     "output_type": "execute_result",
     "data": {
      "text/plain": "LinearSVC()"
     },
     "metadata": {},
     "execution_count": 12
    }
   ],
   "source": [
    "# logger.info('Fitting Training Set into Linear SVC')\n",
    "algo = LinearSVC()\n",
    "algo.fit(Xctr_tf_fitted_txform, y_train)"
   ]
  },
  {
   "cell_type": "code",
   "execution_count": 13,
   "metadata": {},
   "outputs": [],
   "source": [
    "# Vectorizing Test Set\n",
    "tf_test = TfidfVectorizer(use_idf=True, vocabulary=tf.vocabulary_)\n",
    "Xcte_tf_fitted_txform = tf_test.fit_transform(Xc_test)"
   ]
  },
  {
   "cell_type": "code",
   "execution_count": 14,
   "metadata": {},
   "outputs": [
    {
     "output_type": "execute_result",
     "data": {
      "text/plain": "'cant pick phone right pls send message'"
     },
     "metadata": {},
     "execution_count": 14
    }
   ],
   "source": [
    "Xc_test[0]"
   ]
  },
  {
   "cell_type": "code",
   "execution_count": 15,
   "metadata": {},
   "outputs": [
    {
     "output_type": "execute_result",
     "data": {
      "text/plain": "            tfidf\npick     0.404234\npls      0.393043\nright    0.389650\nmessage  0.377410\ncant     0.374634\n...           ...\nends     0.000000\nendowed  0.000000\nendless  0.000000\nending   0.000000\nãµve     0.000000\n\n[8021 rows x 1 columns]",
      "text/html": "<div>\n<style scoped>\n    .dataframe tbody tr th:only-of-type {\n        vertical-align: middle;\n    }\n\n    .dataframe tbody tr th {\n        vertical-align: top;\n    }\n\n    .dataframe thead th {\n        text-align: right;\n    }\n</style>\n<table border=\"1\" class=\"dataframe\">\n  <thead>\n    <tr style=\"text-align: right;\">\n      <th></th>\n      <th>tfidf</th>\n    </tr>\n  </thead>\n  <tbody>\n    <tr>\n      <th>pick</th>\n      <td>0.404234</td>\n    </tr>\n    <tr>\n      <th>pls</th>\n      <td>0.393043</td>\n    </tr>\n    <tr>\n      <th>right</th>\n      <td>0.389650</td>\n    </tr>\n    <tr>\n      <th>message</th>\n      <td>0.377410</td>\n    </tr>\n    <tr>\n      <th>cant</th>\n      <td>0.374634</td>\n    </tr>\n    <tr>\n      <th>...</th>\n      <td>...</td>\n    </tr>\n    <tr>\n      <th>ends</th>\n      <td>0.000000</td>\n    </tr>\n    <tr>\n      <th>endowed</th>\n      <td>0.000000</td>\n    </tr>\n    <tr>\n      <th>endless</th>\n      <td>0.000000</td>\n    </tr>\n    <tr>\n      <th>ending</th>\n      <td>0.000000</td>\n    </tr>\n    <tr>\n      <th>ãµve</th>\n      <td>0.000000</td>\n    </tr>\n  </tbody>\n</table>\n<p>8021 rows × 1 columns</p>\n</div>"
     },
     "metadata": {},
     "execution_count": 15
    }
   ],
   "source": [
    "first_vec=Xcte_tf_fitted_txform[0]\n",
    "df = pd.DataFrame(first_vec.T.todense(), index=tf_test.get_feature_names(), columns=['tfidf'])\n",
    "df.sort_values(by=[\"tfidf\"],ascending=False)"
   ]
  },
  {
   "cell_type": "code",
   "execution_count": 18,
   "metadata": {},
   "outputs": [
    {
     "output_type": "stream",
     "name": "stdout",
     "text": "Finalizing Vectorizer, Linear SVC Accuracy: 0.9849246231155779\n"
    }
   ],
   "source": [
    "yt_pred_LSVC = algo.predict(Xcte_tf_fitted_txform)\n",
    "LSVC_acc = accuracy_score(y_test, yt_pred_LSVC)\n",
    "msg = 'Finalizing Vectorizer, Linear SVC Accuracy: ' + str(LSVC_acc)\n",
    "print(msg)\n",
    "#logger.info(msg)"
   ]
  },
  {
   "cell_type": "code",
   "execution_count": null,
   "metadata": {},
   "outputs": [],
   "source": [
    "# Evaluate Test Set"
   ]
  },
  {
   "cell_type": "code",
   "execution_count": null,
   "metadata": {},
   "outputs": [],
   "source": []
  },
  {
   "cell_type": "code",
   "execution_count": null,
   "metadata": {},
   "outputs": [],
   "source": []
  },
  {
   "cell_type": "code",
   "execution_count": null,
   "metadata": {},
   "outputs": [],
   "source": []
  },
  {
   "cell_type": "code",
   "execution_count": null,
   "metadata": {},
   "outputs": [],
   "source": []
  }
 ],
 "metadata": {
  "language_info": {
   "codemirror_mode": {
    "name": "ipython",
    "version": 3
   },
   "file_extension": ".py",
   "mimetype": "text/x-python",
   "name": "python",
   "nbconvert_exporter": "python",
   "pygments_lexer": "ipython3",
   "version": "3.7.4-final"
  },
  "orig_nbformat": 2,
  "kernelspec": {
   "name": "python37464bitenvvenvc6419c7479fb4c348c72c3d2f96f3f35",
   "display_name": "Python 3.7.4 64-bit ('env': venv)"
  }
 },
 "nbformat": 4,
 "nbformat_minor": 2
}
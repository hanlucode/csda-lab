{
 "cells": [
  {
   "cell_type": "markdown",
   "metadata": {},
   "source": [
    "# Recommender System Example #1\n",
    "\n",
    "[Movie Recommender Systems on Kaggle](https://www.kaggle.com/rounakbanik/movie-recommender-systems)\n"
   ]
  },
  {
   "cell_type": "code",
   "execution_count": 1,
   "metadata": {},
   "outputs": [],
   "source": [
    "%matplotlib inline\n",
    "import pandas as pd\n",
    "import numpy as np\n",
    "import matplotlib.pyplot as plt\n",
    "import seaborn as sns\n",
    "from scipy import stats\n",
    "from ast import literal_eval\n",
    "from sklearn.feature_extraction.text import TfidfVectorizer, CountVectorizer\n",
    "from sklearn.metrics.pairwise import linear_kernel, cosine_similarity\n",
    "from nltk.stem.snowball import SnowballStemmer\n",
    "from nltk.stem.wordnet import WordNetLemmatizer\n",
    "from nltk.corpus import wordnet\n",
    "from surprise import Reader, Dataset, SVD\n",
    "# depreciated\n",
    "# from surprise import evaluate\n",
    "\n",
    "import warnings; warnings.simplefilter('ignore')"
   ]
  },
  {
   "cell_type": "code",
   "execution_count": 2,
   "metadata": {},
   "outputs": [
    {
     "output_type": "execute_result",
     "data": {
      "text/plain": "   adult                              belongs_to_collection    budget  \\\n0  False  {'id': 10194, 'name': 'Toy Story Collection', ...  30000000   \n1  False                                                NaN  65000000   \n2  False  {'id': 119050, 'name': 'Grumpy Old Men Collect...         0   \n3  False                                                NaN  16000000   \n4  False  {'id': 96871, 'name': 'Father of the Bride Col...         0   \n\n                                              genres  \\\n0  [{'id': 16, 'name': 'Animation'}, {'id': 35, '...   \n1  [{'id': 12, 'name': 'Adventure'}, {'id': 14, '...   \n2  [{'id': 10749, 'name': 'Romance'}, {'id': 35, ...   \n3  [{'id': 35, 'name': 'Comedy'}, {'id': 18, 'nam...   \n4                     [{'id': 35, 'name': 'Comedy'}]   \n\n                               homepage     id    imdb_id original_language  \\\n0  http://toystory.disney.com/toy-story    862  tt0114709                en   \n1                                   NaN   8844  tt0113497                en   \n2                                   NaN  15602  tt0113228                en   \n3                                   NaN  31357  tt0114885                en   \n4                                   NaN  11862  tt0113041                en   \n\n                original_title  \\\n0                    Toy Story   \n1                      Jumanji   \n2             Grumpier Old Men   \n3            Waiting to Exhale   \n4  Father of the Bride Part II   \n\n                                            overview  ... release_date  \\\n0  Led by Woody, Andy's toys live happily in his ...  ...   1995-10-30   \n1  When siblings Judy and Peter discover an encha...  ...   1995-12-15   \n2  A family wedding reignites the ancient feud be...  ...   1995-12-22   \n3  Cheated on, mistreated and stepped on, the wom...  ...   1995-12-22   \n4  Just when George Banks has recovered from his ...  ...   1995-02-10   \n\n       revenue runtime                                   spoken_languages  \\\n0  373554033.0    81.0           [{'iso_639_1': 'en', 'name': 'English'}]   \n1  262797249.0   104.0  [{'iso_639_1': 'en', 'name': 'English'}, {'iso...   \n2          0.0   101.0           [{'iso_639_1': 'en', 'name': 'English'}]   \n3   81452156.0   127.0           [{'iso_639_1': 'en', 'name': 'English'}]   \n4   76578911.0   106.0           [{'iso_639_1': 'en', 'name': 'English'}]   \n\n     status                                            tagline  \\\n0  Released                                                NaN   \n1  Released          Roll the dice and unleash the excitement!   \n2  Released  Still Yelling. Still Fighting. Still Ready for...   \n3  Released  Friends are the people who let you be yourself...   \n4  Released  Just When His World Is Back To Normal... He's ...   \n\n                         title  video vote_average vote_count  \n0                    Toy Story  False          7.7     5415.0  \n1                      Jumanji  False          6.9     2413.0  \n2             Grumpier Old Men  False          6.5       92.0  \n3            Waiting to Exhale  False          6.1       34.0  \n4  Father of the Bride Part II  False          5.7      173.0  \n\n[5 rows x 24 columns]",
      "text/html": "<div>\n<style scoped>\n    .dataframe tbody tr th:only-of-type {\n        vertical-align: middle;\n    }\n\n    .dataframe tbody tr th {\n        vertical-align: top;\n    }\n\n    .dataframe thead th {\n        text-align: right;\n    }\n</style>\n<table border=\"1\" class=\"dataframe\">\n  <thead>\n    <tr style=\"text-align: right;\">\n      <th></th>\n      <th>adult</th>\n      <th>belongs_to_collection</th>\n      <th>budget</th>\n      <th>genres</th>\n      <th>homepage</th>\n      <th>id</th>\n      <th>imdb_id</th>\n      <th>original_language</th>\n      <th>original_title</th>\n      <th>overview</th>\n      <th>...</th>\n      <th>release_date</th>\n      <th>revenue</th>\n      <th>runtime</th>\n      <th>spoken_languages</th>\n      <th>status</th>\n      <th>tagline</th>\n      <th>title</th>\n      <th>video</th>\n      <th>vote_average</th>\n      <th>vote_count</th>\n    </tr>\n  </thead>\n  <tbody>\n    <tr>\n      <td>0</td>\n      <td>False</td>\n      <td>{'id': 10194, 'name': 'Toy Story Collection', ...</td>\n      <td>30000000</td>\n      <td>[{'id': 16, 'name': 'Animation'}, {'id': 35, '...</td>\n      <td>http://toystory.disney.com/toy-story</td>\n      <td>862</td>\n      <td>tt0114709</td>\n      <td>en</td>\n      <td>Toy Story</td>\n      <td>Led by Woody, Andy's toys live happily in his ...</td>\n      <td>...</td>\n      <td>1995-10-30</td>\n      <td>373554033.0</td>\n      <td>81.0</td>\n      <td>[{'iso_639_1': 'en', 'name': 'English'}]</td>\n      <td>Released</td>\n      <td>NaN</td>\n      <td>Toy Story</td>\n      <td>False</td>\n      <td>7.7</td>\n      <td>5415.0</td>\n    </tr>\n    <tr>\n      <td>1</td>\n      <td>False</td>\n      <td>NaN</td>\n      <td>65000000</td>\n      <td>[{'id': 12, 'name': 'Adventure'}, {'id': 14, '...</td>\n      <td>NaN</td>\n      <td>8844</td>\n      <td>tt0113497</td>\n      <td>en</td>\n      <td>Jumanji</td>\n      <td>When siblings Judy and Peter discover an encha...</td>\n      <td>...</td>\n      <td>1995-12-15</td>\n      <td>262797249.0</td>\n      <td>104.0</td>\n      <td>[{'iso_639_1': 'en', 'name': 'English'}, {'iso...</td>\n      <td>Released</td>\n      <td>Roll the dice and unleash the excitement!</td>\n      <td>Jumanji</td>\n      <td>False</td>\n      <td>6.9</td>\n      <td>2413.0</td>\n    </tr>\n    <tr>\n      <td>2</td>\n      <td>False</td>\n      <td>{'id': 119050, 'name': 'Grumpy Old Men Collect...</td>\n      <td>0</td>\n      <td>[{'id': 10749, 'name': 'Romance'}, {'id': 35, ...</td>\n      <td>NaN</td>\n      <td>15602</td>\n      <td>tt0113228</td>\n      <td>en</td>\n      <td>Grumpier Old Men</td>\n      <td>A family wedding reignites the ancient feud be...</td>\n      <td>...</td>\n      <td>1995-12-22</td>\n      <td>0.0</td>\n      <td>101.0</td>\n      <td>[{'iso_639_1': 'en', 'name': 'English'}]</td>\n      <td>Released</td>\n      <td>Still Yelling. Still Fighting. Still Ready for...</td>\n      <td>Grumpier Old Men</td>\n      <td>False</td>\n      <td>6.5</td>\n      <td>92.0</td>\n    </tr>\n    <tr>\n      <td>3</td>\n      <td>False</td>\n      <td>NaN</td>\n      <td>16000000</td>\n      <td>[{'id': 35, 'name': 'Comedy'}, {'id': 18, 'nam...</td>\n      <td>NaN</td>\n      <td>31357</td>\n      <td>tt0114885</td>\n      <td>en</td>\n      <td>Waiting to Exhale</td>\n      <td>Cheated on, mistreated and stepped on, the wom...</td>\n      <td>...</td>\n      <td>1995-12-22</td>\n      <td>81452156.0</td>\n      <td>127.0</td>\n      <td>[{'iso_639_1': 'en', 'name': 'English'}]</td>\n      <td>Released</td>\n      <td>Friends are the people who let you be yourself...</td>\n      <td>Waiting to Exhale</td>\n      <td>False</td>\n      <td>6.1</td>\n      <td>34.0</td>\n    </tr>\n    <tr>\n      <td>4</td>\n      <td>False</td>\n      <td>{'id': 96871, 'name': 'Father of the Bride Col...</td>\n      <td>0</td>\n      <td>[{'id': 35, 'name': 'Comedy'}]</td>\n      <td>NaN</td>\n      <td>11862</td>\n      <td>tt0113041</td>\n      <td>en</td>\n      <td>Father of the Bride Part II</td>\n      <td>Just when George Banks has recovered from his ...</td>\n      <td>...</td>\n      <td>1995-02-10</td>\n      <td>76578911.0</td>\n      <td>106.0</td>\n      <td>[{'iso_639_1': 'en', 'name': 'English'}]</td>\n      <td>Released</td>\n      <td>Just When His World Is Back To Normal... He's ...</td>\n      <td>Father of the Bride Part II</td>\n      <td>False</td>\n      <td>5.7</td>\n      <td>173.0</td>\n    </tr>\n  </tbody>\n</table>\n<p>5 rows × 24 columns</p>\n</div>"
     },
     "metadata": {},
     "execution_count": 2
    }
   ],
   "source": [
    "md = pd.read_csv('../input/movies_metadata.csv')\n",
    "md.head()"
   ]
  },
  {
   "cell_type": "code",
   "execution_count": 3,
   "metadata": {},
   "outputs": [],
   "source": [
    "md['genres'] = md['genres'].fillna('[]').apply(literal_eval).apply(lambda x: [i['name'] for i in x] if isinstance(x, list) else [])\n"
   ]
  },
  {
   "cell_type": "code",
   "execution_count": 4,
   "metadata": {},
   "outputs": [
    {
     "output_type": "execute_result",
     "data": {
      "text/plain": "5.244896612406511"
     },
     "metadata": {},
     "execution_count": 4
    }
   ],
   "source": [
    "vote_counts = md[md['vote_count'].notnull()]['vote_count'].astype('int')\n",
    "vote_averages = md[md['vote_average'].notnull()]['vote_average'].astype('int')\n",
    "C = vote_averages.mean()\n",
    "C"
   ]
  },
  {
   "cell_type": "code",
   "execution_count": 5,
   "metadata": {},
   "outputs": [
    {
     "output_type": "execute_result",
     "data": {
      "text/plain": "434.0"
     },
     "metadata": {},
     "execution_count": 5
    }
   ],
   "source": [
    "m = vote_counts.quantile(0.95)\n",
    "m"
   ]
  },
  {
   "cell_type": "code",
   "execution_count": 6,
   "metadata": {},
   "outputs": [],
   "source": [
    "md['year'] = pd.to_datetime(md['release_date'], errors='coerce').apply(lambda x: str(x).split('-')[0] if x != np.nan else np.nan)\n"
   ]
  },
  {
   "cell_type": "code",
   "execution_count": 7,
   "metadata": {},
   "outputs": [
    {
     "output_type": "execute_result",
     "data": {
      "text/plain": "(2274, 6)"
     },
     "metadata": {},
     "execution_count": 7
    }
   ],
   "source": [
    "qualified = md[(md['vote_count'] >= m) & (md['vote_count'].notnull()) & (md['vote_average'].notnull())][['title', 'year', 'vote_count', 'vote_average', 'popularity', 'genres']]\n",
    "qualified['vote_count'] = qualified['vote_count'].astype('int')\n",
    "qualified['vote_average'] = qualified['vote_average'].astype('int')\n",
    "qualified.shape"
   ]
  },
  {
   "cell_type": "code",
   "execution_count": 8,
   "metadata": {},
   "outputs": [],
   "source": [
    "def weighted_rating(x):\n",
    "    v = x['vote_count']\n",
    "    R = x['vote_average']\n",
    "    return (v/(v+m) * R) + (m/(m+v) * C)"
   ]
  },
  {
   "cell_type": "code",
   "execution_count": 9,
   "metadata": {},
   "outputs": [],
   "source": [
    "qualified['wr'] = qualified.apply(weighted_rating, axis=1)\n"
   ]
  },
  {
   "cell_type": "code",
   "execution_count": 10,
   "metadata": {},
   "outputs": [],
   "source": [
    "qualified = qualified.sort_values('wr', ascending=False).head(250)\n"
   ]
  },
  {
   "cell_type": "markdown",
   "metadata": {},
   "source": [
    "# Top Movies"
   ]
  },
  {
   "cell_type": "code",
   "execution_count": 11,
   "metadata": {},
   "outputs": [
    {
     "output_type": "execute_result",
     "data": {
      "text/plain": "                                                   title  year  vote_count  \\\n15480                                          Inception  2010       14075   \n12481                                    The Dark Knight  2008       12269   \n22879                                       Interstellar  2014       11187   \n2843                                          Fight Club  1999        9678   \n4863   The Lord of the Rings: The Fellowship of the Ring  2001        8892   \n292                                         Pulp Fiction  1994        8670   \n314                             The Shawshank Redemption  1994        8358   \n7000       The Lord of the Rings: The Return of the King  2003        8226   \n351                                         Forrest Gump  1994        8147   \n5814               The Lord of the Rings: The Two Towers  2002        7641   \n256                                            Star Wars  1977        6778   \n1225                                  Back to the Future  1985        6239   \n834                                        The Godfather  1972        6024   \n1154                             The Empire Strikes Back  1980        5998   \n46                                                 Se7en  1995        5915   \n\n       vote_average popularity  \\\n15480             8    29.1081   \n12481             8    123.167   \n22879             8    32.2135   \n2843              8    63.8696   \n4863              8    32.0707   \n292               8     140.95   \n314               8    51.6454   \n7000              8    29.3244   \n351               8    48.3072   \n5814              8    29.4235   \n256               8    42.1497   \n1225              8    25.7785   \n834               8    41.1093   \n1154              8     19.471   \n46                8    18.4574   \n\n                                                  genres        wr  \n15480  [Action, Thriller, Science Fiction, Mystery, A...  7.917588  \n12481                   [Drama, Action, Crime, Thriller]  7.905871  \n22879                [Adventure, Drama, Science Fiction]  7.897107  \n2843                                             [Drama]  7.881753  \n4863                        [Adventure, Fantasy, Action]  7.871787  \n292                                    [Thriller, Crime]  7.868660  \n314                                       [Drama, Crime]  7.864000  \n7000                        [Adventure, Fantasy, Action]  7.861927  \n351                             [Comedy, Drama, Romance]  7.860656  \n5814                        [Adventure, Fantasy, Action]  7.851924  \n256                 [Adventure, Action, Science Fiction]  7.834205  \n1225        [Adventure, Comedy, Science Fiction, Family]  7.820813  \n834                                       [Drama, Crime]  7.814847  \n1154                [Adventure, Action, Science Fiction]  7.814099  \n46                            [Crime, Mystery, Thriller]  7.811669  ",
      "text/html": "<div>\n<style scoped>\n    .dataframe tbody tr th:only-of-type {\n        vertical-align: middle;\n    }\n\n    .dataframe tbody tr th {\n        vertical-align: top;\n    }\n\n    .dataframe thead th {\n        text-align: right;\n    }\n</style>\n<table border=\"1\" class=\"dataframe\">\n  <thead>\n    <tr style=\"text-align: right;\">\n      <th></th>\n      <th>title</th>\n      <th>year</th>\n      <th>vote_count</th>\n      <th>vote_average</th>\n      <th>popularity</th>\n      <th>genres</th>\n      <th>wr</th>\n    </tr>\n  </thead>\n  <tbody>\n    <tr>\n      <td>15480</td>\n      <td>Inception</td>\n      <td>2010</td>\n      <td>14075</td>\n      <td>8</td>\n      <td>29.1081</td>\n      <td>[Action, Thriller, Science Fiction, Mystery, A...</td>\n      <td>7.917588</td>\n    </tr>\n    <tr>\n      <td>12481</td>\n      <td>The Dark Knight</td>\n      <td>2008</td>\n      <td>12269</td>\n      <td>8</td>\n      <td>123.167</td>\n      <td>[Drama, Action, Crime, Thriller]</td>\n      <td>7.905871</td>\n    </tr>\n    <tr>\n      <td>22879</td>\n      <td>Interstellar</td>\n      <td>2014</td>\n      <td>11187</td>\n      <td>8</td>\n      <td>32.2135</td>\n      <td>[Adventure, Drama, Science Fiction]</td>\n      <td>7.897107</td>\n    </tr>\n    <tr>\n      <td>2843</td>\n      <td>Fight Club</td>\n      <td>1999</td>\n      <td>9678</td>\n      <td>8</td>\n      <td>63.8696</td>\n      <td>[Drama]</td>\n      <td>7.881753</td>\n    </tr>\n    <tr>\n      <td>4863</td>\n      <td>The Lord of the Rings: The Fellowship of the Ring</td>\n      <td>2001</td>\n      <td>8892</td>\n      <td>8</td>\n      <td>32.0707</td>\n      <td>[Adventure, Fantasy, Action]</td>\n      <td>7.871787</td>\n    </tr>\n    <tr>\n      <td>292</td>\n      <td>Pulp Fiction</td>\n      <td>1994</td>\n      <td>8670</td>\n      <td>8</td>\n      <td>140.95</td>\n      <td>[Thriller, Crime]</td>\n      <td>7.868660</td>\n    </tr>\n    <tr>\n      <td>314</td>\n      <td>The Shawshank Redemption</td>\n      <td>1994</td>\n      <td>8358</td>\n      <td>8</td>\n      <td>51.6454</td>\n      <td>[Drama, Crime]</td>\n      <td>7.864000</td>\n    </tr>\n    <tr>\n      <td>7000</td>\n      <td>The Lord of the Rings: The Return of the King</td>\n      <td>2003</td>\n      <td>8226</td>\n      <td>8</td>\n      <td>29.3244</td>\n      <td>[Adventure, Fantasy, Action]</td>\n      <td>7.861927</td>\n    </tr>\n    <tr>\n      <td>351</td>\n      <td>Forrest Gump</td>\n      <td>1994</td>\n      <td>8147</td>\n      <td>8</td>\n      <td>48.3072</td>\n      <td>[Comedy, Drama, Romance]</td>\n      <td>7.860656</td>\n    </tr>\n    <tr>\n      <td>5814</td>\n      <td>The Lord of the Rings: The Two Towers</td>\n      <td>2002</td>\n      <td>7641</td>\n      <td>8</td>\n      <td>29.4235</td>\n      <td>[Adventure, Fantasy, Action]</td>\n      <td>7.851924</td>\n    </tr>\n    <tr>\n      <td>256</td>\n      <td>Star Wars</td>\n      <td>1977</td>\n      <td>6778</td>\n      <td>8</td>\n      <td>42.1497</td>\n      <td>[Adventure, Action, Science Fiction]</td>\n      <td>7.834205</td>\n    </tr>\n    <tr>\n      <td>1225</td>\n      <td>Back to the Future</td>\n      <td>1985</td>\n      <td>6239</td>\n      <td>8</td>\n      <td>25.7785</td>\n      <td>[Adventure, Comedy, Science Fiction, Family]</td>\n      <td>7.820813</td>\n    </tr>\n    <tr>\n      <td>834</td>\n      <td>The Godfather</td>\n      <td>1972</td>\n      <td>6024</td>\n      <td>8</td>\n      <td>41.1093</td>\n      <td>[Drama, Crime]</td>\n      <td>7.814847</td>\n    </tr>\n    <tr>\n      <td>1154</td>\n      <td>The Empire Strikes Back</td>\n      <td>1980</td>\n      <td>5998</td>\n      <td>8</td>\n      <td>19.471</td>\n      <td>[Adventure, Action, Science Fiction]</td>\n      <td>7.814099</td>\n    </tr>\n    <tr>\n      <td>46</td>\n      <td>Se7en</td>\n      <td>1995</td>\n      <td>5915</td>\n      <td>8</td>\n      <td>18.4574</td>\n      <td>[Crime, Mystery, Thriller]</td>\n      <td>7.811669</td>\n    </tr>\n  </tbody>\n</table>\n</div>"
     },
     "metadata": {},
     "execution_count": 11
    }
   ],
   "source": [
    "qualified.head(15)\n"
   ]
  },
  {
   "cell_type": "markdown",
   "metadata": {},
   "source": [
    "we will use relax our default conditions to the 85th percentile instead of 95"
   ]
  },
  {
   "cell_type": "markdown",
   "metadata": {},
   "source": []
  },
  {
   "cell_type": "code",
   "execution_count": 12,
   "metadata": {},
   "outputs": [],
   "source": [
    "s = md.apply(lambda x: pd.Series(x['genres']),axis=1).stack().reset_index(level=1, drop=True)\n",
    "s.name = 'genre'\n",
    "gen_md = md.drop('genres', axis=1).join(s)"
   ]
  },
  {
   "cell_type": "code",
   "execution_count": 13,
   "metadata": {},
   "outputs": [],
   "source": [
    "def build_chart(genre, percentile=0.85):\n",
    "    df = gen_md[gen_md['genre'] == genre]\n",
    "    vote_counts = df[df['vote_count'].notnull()]['vote_count'].astype('int')\n",
    "    vote_averages = df[df['vote_average'].notnull()]['vote_average'].astype('int')\n",
    "    C = vote_averages.mean()\n",
    "    m = vote_counts.quantile(percentile)\n",
    "    \n",
    "    qualified = df[(df['vote_count'] >= m) & (df['vote_count'].notnull()) & (df['vote_average'].notnull())][['title', 'year', 'vote_count', 'vote_average', 'popularity']]\n",
    "    qualified['vote_count'] = qualified['vote_count'].astype('int')\n",
    "    qualified['vote_average'] = qualified['vote_average'].astype('int')\n",
    "    \n",
    "    qualified['wr'] = qualified.apply(lambda x: (x['vote_count']/(x['vote_count']+m) * x['vote_average']) + (m/(m+x['vote_count']) * C), axis=1)\n",
    "    qualified = qualified.sort_values('wr', ascending=False).head(250)\n",
    "    \n",
    "    return qualified"
   ]
  },
  {
   "cell_type": "markdown",
   "metadata": {},
   "source": [
    "## Top Romance Movies"
   ]
  },
  {
   "cell_type": "code",
   "execution_count": 14,
   "metadata": {},
   "outputs": [
    {
     "output_type": "execute_result",
     "data": {
      "text/plain": "                             title  year  vote_count  vote_average popularity  \\\n10309  Dilwale Dulhania Le Jayenge  1995         661             9     34.457   \n351                   Forrest Gump  1994        8147             8    48.3072   \n876                        Vertigo  1958        1162             8    18.2082   \n40251                   Your Name.  2016        1030             8  34.461252   \n883               Some Like It Hot  1959         835             8    11.8451   \n1132               Cinema Paradiso  1988         834             8     14.177   \n19901                     Paperman  2012         734             8    7.19863   \n37863                  Sing Street  2016         669             8  10.672862   \n882                  The Apartment  1960         498             8    11.9943   \n38718               The Handmaiden  2016         453             8  16.727405   \n3189                   City Lights  1931         444             8    10.8915   \n24886             The Way He Looks  2014         262             8    5.71127   \n45437               In a Heartbeat  2017         146             8   20.82178   \n1639                       Titanic  1997        7770             7    26.8891   \n19731      Silver Linings Playbook  2012        4840             7    14.4881   \n\n             wr  \n10309  8.565285  \n351    7.971357  \n876    7.811667  \n40251  7.789489  \n883    7.745154  \n1132   7.744878  \n19901  7.713951  \n37863  7.689483  \n882    7.599317  \n38718  7.566166  \n3189   7.558867  \n24886  7.331363  \n45437  7.003959  \n1639   6.981546  \n19731  6.970581  ",
      "text/html": "<div>\n<style scoped>\n    .dataframe tbody tr th:only-of-type {\n        vertical-align: middle;\n    }\n\n    .dataframe tbody tr th {\n        vertical-align: top;\n    }\n\n    .dataframe thead th {\n        text-align: right;\n    }\n</style>\n<table border=\"1\" class=\"dataframe\">\n  <thead>\n    <tr style=\"text-align: right;\">\n      <th></th>\n      <th>title</th>\n      <th>year</th>\n      <th>vote_count</th>\n      <th>vote_average</th>\n      <th>popularity</th>\n      <th>wr</th>\n    </tr>\n  </thead>\n  <tbody>\n    <tr>\n      <td>10309</td>\n      <td>Dilwale Dulhania Le Jayenge</td>\n      <td>1995</td>\n      <td>661</td>\n      <td>9</td>\n      <td>34.457</td>\n      <td>8.565285</td>\n    </tr>\n    <tr>\n      <td>351</td>\n      <td>Forrest Gump</td>\n      <td>1994</td>\n      <td>8147</td>\n      <td>8</td>\n      <td>48.3072</td>\n      <td>7.971357</td>\n    </tr>\n    <tr>\n      <td>876</td>\n      <td>Vertigo</td>\n      <td>1958</td>\n      <td>1162</td>\n      <td>8</td>\n      <td>18.2082</td>\n      <td>7.811667</td>\n    </tr>\n    <tr>\n      <td>40251</td>\n      <td>Your Name.</td>\n      <td>2016</td>\n      <td>1030</td>\n      <td>8</td>\n      <td>34.461252</td>\n      <td>7.789489</td>\n    </tr>\n    <tr>\n      <td>883</td>\n      <td>Some Like It Hot</td>\n      <td>1959</td>\n      <td>835</td>\n      <td>8</td>\n      <td>11.8451</td>\n      <td>7.745154</td>\n    </tr>\n    <tr>\n      <td>1132</td>\n      <td>Cinema Paradiso</td>\n      <td>1988</td>\n      <td>834</td>\n      <td>8</td>\n      <td>14.177</td>\n      <td>7.744878</td>\n    </tr>\n    <tr>\n      <td>19901</td>\n      <td>Paperman</td>\n      <td>2012</td>\n      <td>734</td>\n      <td>8</td>\n      <td>7.19863</td>\n      <td>7.713951</td>\n    </tr>\n    <tr>\n      <td>37863</td>\n      <td>Sing Street</td>\n      <td>2016</td>\n      <td>669</td>\n      <td>8</td>\n      <td>10.672862</td>\n      <td>7.689483</td>\n    </tr>\n    <tr>\n      <td>882</td>\n      <td>The Apartment</td>\n      <td>1960</td>\n      <td>498</td>\n      <td>8</td>\n      <td>11.9943</td>\n      <td>7.599317</td>\n    </tr>\n    <tr>\n      <td>38718</td>\n      <td>The Handmaiden</td>\n      <td>2016</td>\n      <td>453</td>\n      <td>8</td>\n      <td>16.727405</td>\n      <td>7.566166</td>\n    </tr>\n    <tr>\n      <td>3189</td>\n      <td>City Lights</td>\n      <td>1931</td>\n      <td>444</td>\n      <td>8</td>\n      <td>10.8915</td>\n      <td>7.558867</td>\n    </tr>\n    <tr>\n      <td>24886</td>\n      <td>The Way He Looks</td>\n      <td>2014</td>\n      <td>262</td>\n      <td>8</td>\n      <td>5.71127</td>\n      <td>7.331363</td>\n    </tr>\n    <tr>\n      <td>45437</td>\n      <td>In a Heartbeat</td>\n      <td>2017</td>\n      <td>146</td>\n      <td>8</td>\n      <td>20.82178</td>\n      <td>7.003959</td>\n    </tr>\n    <tr>\n      <td>1639</td>\n      <td>Titanic</td>\n      <td>1997</td>\n      <td>7770</td>\n      <td>7</td>\n      <td>26.8891</td>\n      <td>6.981546</td>\n    </tr>\n    <tr>\n      <td>19731</td>\n      <td>Silver Linings Playbook</td>\n      <td>2012</td>\n      <td>4840</td>\n      <td>7</td>\n      <td>14.4881</td>\n      <td>6.970581</td>\n    </tr>\n  </tbody>\n</table>\n</div>"
     },
     "metadata": {},
     "execution_count": 14
    }
   ],
   "source": [
    "build_chart('Romance').head(15)"
   ]
  },
  {
   "cell_type": "markdown",
   "metadata": {},
   "source": [
    "## Content Based Recommender"
   ]
  },
  {
   "cell_type": "code",
   "execution_count": 15,
   "metadata": {},
   "outputs": [],
   "source": [
    "links_small = pd.read_csv('../input/links_small.csv')\n",
    "links_small = links_small[links_small['tmdbId'].notnull()]['tmdbId'].astype('int')"
   ]
  },
  {
   "cell_type": "code",
   "execution_count": 16,
   "metadata": {},
   "outputs": [],
   "source": [
    "md = md.drop([19730, 29503, 35587])\n"
   ]
  },
  {
   "cell_type": "code",
   "execution_count": 17,
   "metadata": {},
   "outputs": [],
   "source": [
    "#Check EDA Notebook for how and why I got these indices.\n",
    "md['id'] = md['id'].astype('int')"
   ]
  },
  {
   "cell_type": "code",
   "execution_count": 18,
   "metadata": {},
   "outputs": [
    {
     "output_type": "execute_result",
     "data": {
      "text/plain": "(9099, 25)"
     },
     "metadata": {},
     "execution_count": 18
    }
   ],
   "source": [
    "smd = md[md['id'].isin(links_small)]\n",
    "smd.shape"
   ]
  },
  {
   "cell_type": "markdown",
   "metadata": {},
   "source": [
    "## Movie Description Based Recommender"
   ]
  },
  {
   "cell_type": "code",
   "execution_count": 19,
   "metadata": {},
   "outputs": [],
   "source": [
    "smd['tagline'] = smd['tagline'].fillna('')\n",
    "smd['description'] = smd['overview'] + smd['tagline']\n",
    "smd['description'] = smd['description'].fillna('')"
   ]
  },
  {
   "cell_type": "code",
   "execution_count": 20,
   "metadata": {},
   "outputs": [],
   "source": [
    "tf = TfidfVectorizer(analyzer='word',ngram_range=(1, 2),min_df=0, stop_words='english')\n",
    "tfidf_matrix = tf.fit_transform(smd['description'])"
   ]
  },
  {
   "cell_type": "code",
   "execution_count": 21,
   "metadata": {},
   "outputs": [
    {
     "output_type": "execute_result",
     "data": {
      "text/plain": "(9099, 268124)"
     },
     "metadata": {},
     "execution_count": 21
    }
   ],
   "source": [
    "tfidf_matrix.shape\n"
   ]
  },
  {
   "cell_type": "code",
   "execution_count": 22,
   "metadata": {},
   "outputs": [],
   "source": [
    "#### Cosine Similiarity"
   ]
  },
  {
   "cell_type": "code",
   "execution_count": 23,
   "metadata": {},
   "outputs": [],
   "source": [
    "cosine_sim = linear_kernel(tfidf_matrix, tfidf_matrix)\n"
   ]
  },
  {
   "cell_type": "code",
   "execution_count": 24,
   "metadata": {},
   "outputs": [
    {
     "output_type": "execute_result",
     "data": {
      "text/plain": "array([1.        , 0.00680476, 0.        , ..., 0.        , 0.00344913,\n       0.        ])"
     },
     "metadata": {},
     "execution_count": 24
    }
   ],
   "source": [
    "cosine_sim[0]\n"
   ]
  },
  {
   "cell_type": "code",
   "execution_count": 25,
   "metadata": {},
   "outputs": [],
   "source": [
    "smd = smd.reset_index()\n",
    "titles = smd['title']\n",
    "indices = pd.Series(smd.index, index=smd['title'])"
   ]
  },
  {
   "cell_type": "code",
   "execution_count": 26,
   "metadata": {},
   "outputs": [],
   "source": [
    "def get_recommendations(title):\n",
    "    idx = indices[title]\n",
    "    sim_scores = list(enumerate(cosine_sim[idx]))\n",
    "    sim_scores = sorted(sim_scores, key=lambda x: x[1], reverse=True)\n",
    "    sim_scores = sim_scores[1:31]\n",
    "    movie_indices = [i[0] for i in sim_scores]\n",
    "    return titles.iloc[movie_indices]"
   ]
  },
  {
   "cell_type": "code",
   "execution_count": 27,
   "metadata": {},
   "outputs": [
    {
     "output_type": "execute_result",
     "data": {
      "text/plain": "973      The Godfather: Part II\n8387                 The Family\n3509                       Made\n4196         Johnny Dangerously\n29               Shanghai Triad\n5667                       Fury\n2412             American Movie\n1582    The Godfather: Part III\n4221                    8 Women\n2159              Summer of Sam\nName: title, dtype: object"
     },
     "metadata": {},
     "execution_count": 27
    }
   ],
   "source": [
    "get_recommendations('The Godfather').head(10)\n"
   ]
  },
  {
   "cell_type": "code",
   "execution_count": 28,
   "metadata": {},
   "outputs": [
    {
     "output_type": "execute_result",
     "data": {
      "text/plain": "7931                      The Dark Knight Rises\n132                              Batman Forever\n1113                             Batman Returns\n8227    Batman: The Dark Knight Returns, Part 2\n7565                 Batman: Under the Red Hood\n524                                      Batman\n7901                           Batman: Year One\n2579               Batman: Mask of the Phantasm\n2696                                        JFK\n8165    Batman: The Dark Knight Returns, Part 1\nName: title, dtype: object"
     },
     "metadata": {},
     "execution_count": 28
    }
   ],
   "source": [
    "get_recommendations('The Dark Knight').head(10)"
   ]
  },
  {
   "cell_type": "markdown",
   "metadata": {},
   "source": [
    "### Metadata Based Recommender"
   ]
  },
  {
   "cell_type": "code",
   "execution_count": 29,
   "metadata": {},
   "outputs": [],
   "source": [
    "credits = pd.read_csv('../input/credits.csv')\n",
    "keywords = pd.read_csv('../input/keywords.csv')"
   ]
  },
  {
   "cell_type": "code",
   "execution_count": 30,
   "metadata": {},
   "outputs": [],
   "source": [
    "keywords['id'] = keywords['id'].astype('int')\n",
    "credits['id'] = credits['id'].astype('int')\n",
    "md['id'] = md['id'].astype('int')"
   ]
  },
  {
   "cell_type": "code",
   "execution_count": 31,
   "metadata": {},
   "outputs": [
    {
     "output_type": "execute_result",
     "data": {
      "text/plain": "(45463, 25)"
     },
     "metadata": {},
     "execution_count": 31
    }
   ],
   "source": [
    "md.shape\n"
   ]
  },
  {
   "cell_type": "code",
   "execution_count": 32,
   "metadata": {},
   "outputs": [],
   "source": [
    "md = md.merge(credits, on='id')\n",
    "md = md.merge(keywords, on='id')"
   ]
  },
  {
   "cell_type": "code",
   "execution_count": 33,
   "metadata": {},
   "outputs": [
    {
     "output_type": "execute_result",
     "data": {
      "text/plain": "(9219, 28)"
     },
     "metadata": {},
     "execution_count": 33
    }
   ],
   "source": [
    "smd = md[md['id'].isin(links_small)]\n",
    "smd.shape"
   ]
  },
  {
   "cell_type": "code",
   "execution_count": 34,
   "metadata": {},
   "outputs": [],
   "source": [
    "smd['cast'] = smd['cast'].apply(literal_eval)\n",
    "smd['crew'] = smd['crew'].apply(literal_eval)\n",
    "smd['keywords'] = smd['keywords'].apply(literal_eval)\n",
    "smd['cast_size'] = smd['cast'].apply(lambda x: len(x))\n",
    "smd['crew_size'] = smd['crew'].apply(lambda x: len(x))"
   ]
  },
  {
   "cell_type": "code",
   "execution_count": 35,
   "metadata": {},
   "outputs": [],
   "source": [
    "def get_director(x):\n",
    "    for i in x:\n",
    "        if i['job'] == 'Director':\n",
    "            return i['name']\n",
    "    return np.nan"
   ]
  },
  {
   "cell_type": "code",
   "execution_count": 36,
   "metadata": {},
   "outputs": [],
   "source": [
    "smd['director'] = smd['crew'].apply(get_director)\n"
   ]
  },
  {
   "cell_type": "code",
   "execution_count": 37,
   "metadata": {},
   "outputs": [],
   "source": [
    "smd['cast'] = smd['cast'].apply(lambda x: [i['name'] for i in x] if isinstance(x, list) else [])\n",
    "smd['cast'] = smd['cast'].apply(lambda x: x[:3] if len(x) >=3 else x)"
   ]
  },
  {
   "cell_type": "code",
   "execution_count": 38,
   "metadata": {},
   "outputs": [],
   "source": [
    "smd['keywords'] = smd['keywords'].apply(lambda x: [i['name'] for i in x] if isinstance(x, list) else [])\n"
   ]
  },
  {
   "cell_type": "code",
   "execution_count": 39,
   "metadata": {},
   "outputs": [],
   "source": [
    "smd['cast'] = smd['cast'].apply(lambda x: [str.lower(i.replace(\" \", \"\")) for i in x])\n"
   ]
  },
  {
   "cell_type": "code",
   "execution_count": 40,
   "metadata": {},
   "outputs": [],
   "source": [
    "smd['director'] = smd['director'].astype('str').apply(lambda x: str.lower(x.replace(\" \", \"\")))\n",
    "smd['director'] = smd['director'].apply(lambda x: [x,x, x])"
   ]
  },
  {
   "cell_type": "markdown",
   "metadata": {},
   "source": [
    "### Keywords"
   ]
  },
  {
   "cell_type": "code",
   "execution_count": 41,
   "metadata": {},
   "outputs": [],
   "source": [
    "s = smd.apply(lambda x: pd.Series(x['keywords']),axis=1).stack().reset_index(level=1, drop=True)\n",
    "s.name = 'keyword'"
   ]
  },
  {
   "cell_type": "code",
   "execution_count": 42,
   "metadata": {},
   "outputs": [
    {
     "output_type": "execute_result",
     "data": {
      "text/plain": "independent film        610\nwoman director          550\nmurder                  399\nduringcreditsstinger    327\nbased on novel          318\nName: keyword, dtype: int64"
     },
     "metadata": {},
     "execution_count": 42
    }
   ],
   "source": [
    "s = s.value_counts()\n",
    "s[:5]"
   ]
  },
  {
   "cell_type": "code",
   "execution_count": 43,
   "metadata": {},
   "outputs": [],
   "source": [
    "s = s[s > 1]\n"
   ]
  },
  {
   "cell_type": "code",
   "execution_count": 44,
   "metadata": {},
   "outputs": [
    {
     "output_type": "execute_result",
     "data": {
      "text/plain": "'dog'"
     },
     "metadata": {},
     "execution_count": 44
    }
   ],
   "source": [
    "stemmer = SnowballStemmer('english')\n",
    "stemmer.stem('dogs')"
   ]
  },
  {
   "cell_type": "code",
   "execution_count": 45,
   "metadata": {},
   "outputs": [],
   "source": [
    "def filter_keywords(x):\n",
    "    words = []\n",
    "    for i in x:\n",
    "        if i in s:\n",
    "            words.append(i)\n",
    "    return words"
   ]
  },
  {
   "cell_type": "code",
   "execution_count": 46,
   "metadata": {},
   "outputs": [],
   "source": [
    "smd['keywords'] = smd['keywords'].apply(filter_keywords)\n",
    "smd['keywords'] = smd['keywords'].apply(lambda x: [stemmer.stem(i) for i in x])\n",
    "smd['keywords'] = smd['keywords'].apply(lambda x: [str.lower(i.replace(\" \", \"\")) for i in x])"
   ]
  },
  {
   "cell_type": "code",
   "execution_count": 47,
   "metadata": {},
   "outputs": [],
   "source": [
    "smd['soup'] = smd['keywords'] + smd['cast'] + smd['director'] + smd['genres']\n",
    "smd['soup'] = smd['soup'].apply(lambda x: ' '.join(x))"
   ]
  },
  {
   "cell_type": "code",
   "execution_count": 48,
   "metadata": {},
   "outputs": [],
   "source": [
    "count = CountVectorizer(analyzer='word',ngram_range=(1, 2),min_df=0, stop_words='english')\n",
    "count_matrix = count.fit_transform(smd['soup'])"
   ]
  },
  {
   "cell_type": "code",
   "execution_count": 49,
   "metadata": {},
   "outputs": [],
   "source": [
    "cosine_sim = cosine_similarity(count_matrix, count_matrix)\n"
   ]
  },
  {
   "cell_type": "code",
   "execution_count": 50,
   "metadata": {},
   "outputs": [],
   "source": [
    "smd = smd.reset_index()\n",
    "titles = smd['title']\n",
    "indices = pd.Series(smd.index, index=smd['title'])"
   ]
  },
  {
   "cell_type": "code",
   "execution_count": 51,
   "metadata": {},
   "outputs": [
    {
     "output_type": "execute_result",
     "data": {
      "text/plain": "8031         The Dark Knight Rises\n6218                 Batman Begins\n6623                  The Prestige\n2085                     Following\n7648                     Inception\n4145                      Insomnia\n3381                       Memento\n8613                  Interstellar\n7659    Batman: Under the Red Hood\n1134                Batman Returns\nName: title, dtype: object"
     },
     "metadata": {},
     "execution_count": 51
    }
   ],
   "source": [
    "get_recommendations('The Dark Knight').head(10)\n"
   ]
  },
  {
   "cell_type": "code",
   "execution_count": 52,
   "metadata": {},
   "outputs": [
    {
     "output_type": "execute_result",
     "data": {
      "text/plain": "3319               Head Over Heels\n4763                 Freaky Friday\n1329              The House of Yes\n6277              Just Like Heaven\n7905         Mr. Popper's Penguins\n7332    Ghosts of Girlfriends Past\n6959     The Spiderwick Chronicles\n8883                      The DUFF\n6698         It's a Boy Girl Thing\n7377       I Love You, Beth Cooper\nName: title, dtype: object"
     },
     "metadata": {},
     "execution_count": 52
    }
   ],
   "source": [
    "get_recommendations('Mean Girls').head(10)\n"
   ]
  },
  {
   "cell_type": "markdown",
   "metadata": {},
   "source": [
    "### Popularity and Ratings"
   ]
  },
  {
   "cell_type": "code",
   "execution_count": 53,
   "metadata": {},
   "outputs": [],
   "source": [
    "def improved_recommendations(title):\n",
    "    idx = indices[title]\n",
    "    sim_scores = list(enumerate(cosine_sim[idx]))\n",
    "    sim_scores = sorted(sim_scores, key=lambda x: x[1], reverse=True)\n",
    "    sim_scores = sim_scores[1:26]\n",
    "    movie_indices = [i[0] for i in sim_scores]\n",
    "    \n",
    "    movies = smd.iloc[movie_indices][['title', 'vote_count', 'vote_average', 'year']]\n",
    "    vote_counts = movies[movies['vote_count'].notnull()]['vote_count'].astype('int')\n",
    "    vote_averages = movies[movies['vote_average'].notnull()]['vote_average'].astype('int')\n",
    "    C = vote_averages.mean()\n",
    "    m = vote_counts.quantile(0.60)\n",
    "    qualified = movies[(movies['vote_count'] >= m) & (movies['vote_count'].notnull()) & (movies['vote_average'].notnull())]\n",
    "    qualified['vote_count'] = qualified['vote_count'].astype('int')\n",
    "    qualified['vote_average'] = qualified['vote_average'].astype('int')\n",
    "    qualified['wr'] = qualified.apply(weighted_rating, axis=1)\n",
    "    qualified = qualified.sort_values('wr', ascending=False).head(10)\n",
    "    return qualified"
   ]
  },
  {
   "cell_type": "code",
   "execution_count": 54,
   "metadata": {},
   "outputs": [
    {
     "output_type": "execute_result",
     "data": {
      "text/plain": "                                   title  vote_count  vote_average  year  \\\n7648                           Inception       14075             8  2010   \n8613                        Interstellar       11187             8  2014   \n6623                        The Prestige        4510             8  2006   \n3381                             Memento        4168             8  2000   \n8031               The Dark Knight Rises        9263             7  2012   \n6218                       Batman Begins        7511             7  2005   \n1134                      Batman Returns        1706             6  1992   \n132                       Batman Forever        1529             5  1995   \n9024  Batman v Superman: Dawn of Justice        7189             5  2016   \n1260                      Batman & Robin        1447             4  1997   \n\n            wr  \n7648  7.917588  \n8613  7.897107  \n6623  7.758148  \n3381  7.740175  \n8031  6.921448  \n6218  6.904127  \n1134  5.846862  \n132   5.054144  \n9024  5.013943  \n1260  4.287233  ",
      "text/html": "<div>\n<style scoped>\n    .dataframe tbody tr th:only-of-type {\n        vertical-align: middle;\n    }\n\n    .dataframe tbody tr th {\n        vertical-align: top;\n    }\n\n    .dataframe thead th {\n        text-align: right;\n    }\n</style>\n<table border=\"1\" class=\"dataframe\">\n  <thead>\n    <tr style=\"text-align: right;\">\n      <th></th>\n      <th>title</th>\n      <th>vote_count</th>\n      <th>vote_average</th>\n      <th>year</th>\n      <th>wr</th>\n    </tr>\n  </thead>\n  <tbody>\n    <tr>\n      <td>7648</td>\n      <td>Inception</td>\n      <td>14075</td>\n      <td>8</td>\n      <td>2010</td>\n      <td>7.917588</td>\n    </tr>\n    <tr>\n      <td>8613</td>\n      <td>Interstellar</td>\n      <td>11187</td>\n      <td>8</td>\n      <td>2014</td>\n      <td>7.897107</td>\n    </tr>\n    <tr>\n      <td>6623</td>\n      <td>The Prestige</td>\n      <td>4510</td>\n      <td>8</td>\n      <td>2006</td>\n      <td>7.758148</td>\n    </tr>\n    <tr>\n      <td>3381</td>\n      <td>Memento</td>\n      <td>4168</td>\n      <td>8</td>\n      <td>2000</td>\n      <td>7.740175</td>\n    </tr>\n    <tr>\n      <td>8031</td>\n      <td>The Dark Knight Rises</td>\n      <td>9263</td>\n      <td>7</td>\n      <td>2012</td>\n      <td>6.921448</td>\n    </tr>\n    <tr>\n      <td>6218</td>\n      <td>Batman Begins</td>\n      <td>7511</td>\n      <td>7</td>\n      <td>2005</td>\n      <td>6.904127</td>\n    </tr>\n    <tr>\n      <td>1134</td>\n      <td>Batman Returns</td>\n      <td>1706</td>\n      <td>6</td>\n      <td>1992</td>\n      <td>5.846862</td>\n    </tr>\n    <tr>\n      <td>132</td>\n      <td>Batman Forever</td>\n      <td>1529</td>\n      <td>5</td>\n      <td>1995</td>\n      <td>5.054144</td>\n    </tr>\n    <tr>\n      <td>9024</td>\n      <td>Batman v Superman: Dawn of Justice</td>\n      <td>7189</td>\n      <td>5</td>\n      <td>2016</td>\n      <td>5.013943</td>\n    </tr>\n    <tr>\n      <td>1260</td>\n      <td>Batman &amp; Robin</td>\n      <td>1447</td>\n      <td>4</td>\n      <td>1997</td>\n      <td>4.287233</td>\n    </tr>\n  </tbody>\n</table>\n</div>"
     },
     "metadata": {},
     "execution_count": 54
    }
   ],
   "source": [
    "improved_recommendations('The Dark Knight')\n"
   ]
  },
  {
   "cell_type": "code",
   "execution_count": 55,
   "metadata": {},
   "outputs": [
    {
     "output_type": "execute_result",
     "data": {
      "text/plain": "                                        title  vote_count  vote_average  year  \\\n1547                       The Breakfast Club        2189             7  1985   \n390                        Dazed and Confused         588             7  1993   \n8883                                 The DUFF        1372             6  2015   \n3712                     The Princess Diaries        1063             6  2001   \n4763                            Freaky Friday         919             6  2003   \n6277                         Just Like Heaven         595             6  2005   \n6959                The Spiderwick Chronicles         593             6  2008   \n7494  American Pie Presents: The Book of Love         454             5  2009   \n7332               Ghosts of Girlfriends Past         716             5  2009   \n7905                    Mr. Popper's Penguins         775             5  2011   \n\n            wr  \n1547  6.709602  \n390   6.254682  \n8883  5.818541  \n3712  5.781086  \n4763  5.757786  \n6277  5.681521  \n6959  5.680901  \n7494  5.119690  \n7332  5.092422  \n7905  5.087912  ",
      "text/html": "<div>\n<style scoped>\n    .dataframe tbody tr th:only-of-type {\n        vertical-align: middle;\n    }\n\n    .dataframe tbody tr th {\n        vertical-align: top;\n    }\n\n    .dataframe thead th {\n        text-align: right;\n    }\n</style>\n<table border=\"1\" class=\"dataframe\">\n  <thead>\n    <tr style=\"text-align: right;\">\n      <th></th>\n      <th>title</th>\n      <th>vote_count</th>\n      <th>vote_average</th>\n      <th>year</th>\n      <th>wr</th>\n    </tr>\n  </thead>\n  <tbody>\n    <tr>\n      <td>1547</td>\n      <td>The Breakfast Club</td>\n      <td>2189</td>\n      <td>7</td>\n      <td>1985</td>\n      <td>6.709602</td>\n    </tr>\n    <tr>\n      <td>390</td>\n      <td>Dazed and Confused</td>\n      <td>588</td>\n      <td>7</td>\n      <td>1993</td>\n      <td>6.254682</td>\n    </tr>\n    <tr>\n      <td>8883</td>\n      <td>The DUFF</td>\n      <td>1372</td>\n      <td>6</td>\n      <td>2015</td>\n      <td>5.818541</td>\n    </tr>\n    <tr>\n      <td>3712</td>\n      <td>The Princess Diaries</td>\n      <td>1063</td>\n      <td>6</td>\n      <td>2001</td>\n      <td>5.781086</td>\n    </tr>\n    <tr>\n      <td>4763</td>\n      <td>Freaky Friday</td>\n      <td>919</td>\n      <td>6</td>\n      <td>2003</td>\n      <td>5.757786</td>\n    </tr>\n    <tr>\n      <td>6277</td>\n      <td>Just Like Heaven</td>\n      <td>595</td>\n      <td>6</td>\n      <td>2005</td>\n      <td>5.681521</td>\n    </tr>\n    <tr>\n      <td>6959</td>\n      <td>The Spiderwick Chronicles</td>\n      <td>593</td>\n      <td>6</td>\n      <td>2008</td>\n      <td>5.680901</td>\n    </tr>\n    <tr>\n      <td>7494</td>\n      <td>American Pie Presents: The Book of Love</td>\n      <td>454</td>\n      <td>5</td>\n      <td>2009</td>\n      <td>5.119690</td>\n    </tr>\n    <tr>\n      <td>7332</td>\n      <td>Ghosts of Girlfriends Past</td>\n      <td>716</td>\n      <td>5</td>\n      <td>2009</td>\n      <td>5.092422</td>\n    </tr>\n    <tr>\n      <td>7905</td>\n      <td>Mr. Popper's Penguins</td>\n      <td>775</td>\n      <td>5</td>\n      <td>2011</td>\n      <td>5.087912</td>\n    </tr>\n  </tbody>\n</table>\n</div>"
     },
     "metadata": {},
     "execution_count": 55
    }
   ],
   "source": [
    "improved_recommendations('Mean Girls')\n"
   ]
  },
  {
   "cell_type": "markdown",
   "metadata": {},
   "source": [
    "### Collaborative Filtering"
   ]
  },
  {
   "cell_type": "code",
   "execution_count": 56,
   "metadata": {},
   "outputs": [],
   "source": [
    "reader = Reader()\n"
   ]
  },
  {
   "cell_type": "code",
   "execution_count": 57,
   "metadata": {},
   "outputs": [
    {
     "output_type": "execute_result",
     "data": {
      "text/plain": "   userId  movieId  rating   timestamp\n0       1       31     2.5  1260759144\n1       1     1029     3.0  1260759179\n2       1     1061     3.0  1260759182\n3       1     1129     2.0  1260759185\n4       1     1172     4.0  1260759205",
      "text/html": "<div>\n<style scoped>\n    .dataframe tbody tr th:only-of-type {\n        vertical-align: middle;\n    }\n\n    .dataframe tbody tr th {\n        vertical-align: top;\n    }\n\n    .dataframe thead th {\n        text-align: right;\n    }\n</style>\n<table border=\"1\" class=\"dataframe\">\n  <thead>\n    <tr style=\"text-align: right;\">\n      <th></th>\n      <th>userId</th>\n      <th>movieId</th>\n      <th>rating</th>\n      <th>timestamp</th>\n    </tr>\n  </thead>\n  <tbody>\n    <tr>\n      <td>0</td>\n      <td>1</td>\n      <td>31</td>\n      <td>2.5</td>\n      <td>1260759144</td>\n    </tr>\n    <tr>\n      <td>1</td>\n      <td>1</td>\n      <td>1029</td>\n      <td>3.0</td>\n      <td>1260759179</td>\n    </tr>\n    <tr>\n      <td>2</td>\n      <td>1</td>\n      <td>1061</td>\n      <td>3.0</td>\n      <td>1260759182</td>\n    </tr>\n    <tr>\n      <td>3</td>\n      <td>1</td>\n      <td>1129</td>\n      <td>2.0</td>\n      <td>1260759185</td>\n    </tr>\n    <tr>\n      <td>4</td>\n      <td>1</td>\n      <td>1172</td>\n      <td>4.0</td>\n      <td>1260759205</td>\n    </tr>\n  </tbody>\n</table>\n</div>"
     },
     "metadata": {},
     "execution_count": 57
    }
   ],
   "source": [
    "ratings = pd.read_csv('../input/ratings_small.csv')\n",
    "ratings.head()"
   ]
  },
  {
   "cell_type": "code",
   "execution_count": 58,
   "metadata": {},
   "outputs": [],
   "source": [
    "data = Dataset.load_from_df(ratings[['userId', 'movieId', 'rating']], reader)\n",
    "# data.split(n_folds=5)"
   ]
  },
  {
   "cell_type": "code",
   "execution_count": 59,
   "metadata": {},
   "outputs": [],
   "source": [
    "# svd = SVD()\n",
    "# evaluate(svd, data, measures=['RMSE', 'MAE'])"
   ]
  },
  {
   "cell_type": "code",
   "execution_count": 60,
   "metadata": {},
   "outputs": [],
   "source": [
    "# trainset = data.build_full_trainset()\n",
    "# svd.train(trainset)"
   ]
  },
  {
   "cell_type": "code",
   "execution_count": 61,
   "metadata": {},
   "outputs": [],
   "source": [
    "# ratings[ratings['userId'] == 1]\n"
   ]
  },
  {
   "cell_type": "code",
   "execution_count": 62,
   "metadata": {},
   "outputs": [],
   "source": [
    "# svd.predict(1, 302, 3)\n"
   ]
  },
  {
   "cell_type": "markdown",
   "metadata": {},
   "source": [
    "# Hybrid Recommender (not working)"
   ]
  },
  {
   "cell_type": "code",
   "execution_count": 63,
   "metadata": {},
   "outputs": [],
   "source": [
    "def convert_int(x):\n",
    "    try:\n",
    "        return int(x)\n",
    "    except:\n",
    "        return np.nan"
   ]
  },
  {
   "cell_type": "code",
   "execution_count": 64,
   "metadata": {},
   "outputs": [],
   "source": [
    "id_map = pd.read_csv('../input/links_small.csv')[['movieId', 'tmdbId']]\n",
    "id_map['tmdbId'] = id_map['tmdbId'].apply(convert_int)\n",
    "id_map.columns = ['movieId', 'id']\n",
    "id_map = id_map.merge(smd[['title', 'id']], on='id').set_index('title')\n",
    "#id_map = id_map.set_index('tmdbId')"
   ]
  },
  {
   "cell_type": "code",
   "execution_count": 65,
   "metadata": {},
   "outputs": [],
   "source": [
    "indices_map = id_map.set_index('id')\n"
   ]
  },
  {
   "cell_type": "code",
   "execution_count": 66,
   "metadata": {},
   "outputs": [],
   "source": [
    "def hybrid(userId, title):\n",
    "    idx = indices[title]\n",
    "    tmdbId = id_map.loc[title]['id']\n",
    "    #print(idx)\n",
    "    movie_id = id_map.loc[title]['movieId']\n",
    "    \n",
    "    sim_scores = list(enumerate(cosine_sim[int(idx)]))\n",
    "    sim_scores = sorted(sim_scores, key=lambda x: x[1], reverse=True)\n",
    "    sim_scores = sim_scores[1:26]\n",
    "    movie_indices = [i[0] for i in sim_scores]\n",
    "    \n",
    "    movies = smd.iloc[movie_indices][['title', 'vote_count', 'vote_average', 'year', 'id']]\n",
    "    movies['est'] = movies['id'].apply(lambda x: svd.predict(userId, indices_map.loc[x]['movieId']).est)\n",
    "    movies = movies.sort_values('est', ascending=False)\n",
    "    return movies.head(10)"
   ]
  },
  {
   "cell_type": "code",
   "execution_count": 67,
   "metadata": {},
   "outputs": [],
   "source": [
    "# hybrid(1, 'Avatar')\n"
   ]
  },
  {
   "cell_type": "code",
   "execution_count": 68,
   "metadata": {},
   "outputs": [],
   "source": [
    "# hybrid(500, 'Avatar')"
   ]
  },
  {
   "cell_type": "code",
   "execution_count": 69,
   "metadata": {},
   "outputs": [
    {
     "output_type": "stream",
     "name": "stdout",
     "text": "hello world\n"
    }
   ],
   "source": [
    "print('hello world')"
   ]
  }
 ],
 "metadata": {
  "language_info": {
   "codemirror_mode": {
    "name": "ipython",
    "version": 3
   },
   "file_extension": ".py",
   "mimetype": "text/x-python",
   "name": "python",
   "nbconvert_exporter": "python",
   "pygments_lexer": "ipython3",
   "version": "3.7.4-final"
  },
  "orig_nbformat": 2,
  "kernelspec": {
   "name": "python3",
   "display_name": "Python 3"
  }
 },
 "nbformat": 4,
 "nbformat_minor": 2
}
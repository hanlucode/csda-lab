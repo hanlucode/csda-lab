{
 "cells": [
  {
   "cell_type": "code",
   "execution_count": 1,
   "metadata": {},
   "outputs": [],
   "source": [
    "import movies"
   ]
  },
  {
   "cell_type": "code",
   "execution_count": 2,
   "metadata": {},
   "outputs": [
    {
     "output_type": "execute_result",
     "data": {
      "text/plain": "['Animation',\n 'Comedy',\n 'Family',\n 'Adventure',\n 'Fantasy',\n 'Romance',\n 'Drama',\n 'Action',\n 'Crime',\n 'Thriller',\n 'Horror',\n 'History',\n 'Science Fiction',\n 'Mystery',\n 'War',\n 'Foreign',\n 'Music',\n 'Documentary',\n 'Western',\n 'TV Movie']"
     },
     "metadata": {},
     "execution_count": 2
    }
   ],
   "source": [
    "my_df = movies.load_df()\n",
    "lst = movies.get_genres(my_df)\n",
    "lst"
   ]
  }
 ],
 "metadata": {
  "language_info": {
   "codemirror_mode": {
    "name": "ipython",
    "version": 3
   },
   "file_extension": ".py",
   "mimetype": "text/x-python",
   "name": "python",
   "nbconvert_exporter": "python",
   "pygments_lexer": "ipython3",
   "version": "3.7.4-final"
  },
  "orig_nbformat": 2,
  "kernelspec": {
   "name": "python37464bitenvvenvc6419c7479fb4c348c72c3d2f96f3f35",
   "display_name": "Python 3.7.4 64-bit ('env': venv)"
  }
 },
 "nbformat": 4,
 "nbformat_minor": 2
}
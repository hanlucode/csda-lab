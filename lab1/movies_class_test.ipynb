{
 "cells": [
  {
   "cell_type": "code",
   "execution_count": 1,
   "metadata": {},
   "outputs": [],
   "source": [
    "import movies"
   ]
  },
  {
   "cell_type": "code",
   "execution_count": 2,
   "metadata": {},
   "outputs": [],
   "source": [
    "rec = movies.Recommender()\n"
   ]
  },
  {
   "cell_type": "code",
   "execution_count": 3,
   "metadata": {},
   "outputs": [
    {
     "output_type": "stream",
     "name": "stdout",
     "text": "id      title release_date\n0  862  Toy Story   1995-10-30\n"
    }
   ],
   "source": [
    "rec.print_movie_list_by_ids([862])"
   ]
  },
  {
   "cell_type": "code",
   "execution_count": 4,
   "metadata": {},
   "outputs": [
    {
     "output_type": "stream",
     "name": "stdout",
     "text": "['Animation', 'Comedy', 'Family', 'Adventure', 'Fantasy', 'Romance', 'Drama', 'Action', 'Crime', 'Thriller', 'Horror', 'History', 'Science Fiction', 'Mystery', 'War', 'Foreign', 'Music', 'Documentary', 'Western', 'TV Movie']\n"
    }
   ],
   "source": [
    "rec.print_genres()"
   ]
  },
  {
   "cell_type": "code",
   "execution_count": 5,
   "metadata": {},
   "outputs": [
    {
     "output_type": "stream",
     "name": "stdout",
     "text": "id                     title release_date\n0     862                 Toy Story   1995-10-30\n46    807                     Se7en   1995-09-22\n255    11                 Star Wars   1977-05-25\n288   101    Leon: The Professional   1994-09-14\n291   680              Pulp Fiction   1994-09-10\n313   278  The Shawshank Redemption   1994-09-23\n350    13              Forrest Gump   1994-07-06\n358  8587             The Lion King   1994-06-23\n474   329             Jurassic Park   1993-06-11\n521   424          Schindler's List   1993-11-29\n"
    }
   ],
   "source": [
    "rec.print_topchart()"
   ]
  },
  {
   "cell_type": "code",
   "execution_count": 6,
   "metadata": {},
   "outputs": [
    {
     "output_type": "stream",
     "name": "stdout",
     "text": "Recommended these movies if you like : The Godfather\n           id                             title release_date\n1171      240            The Godfather: Part II   1974-12-20\n4300    15745                              Made   2001-07-13\n10764   18747                          Election   2005-05-14\n11239  119907                  Household Saints   1993-09-15\n18206   48153                   The Outside Man   1972-12-21\n21458  112205                        The Family   2013-09-13\n22952  190955                        Blood Ties   2013-08-22\n31693   95892                  Honor Thy Father   1973-03-01\n37660  135335          A Mother Should Be Loved   1934-05-11\n43540  364150  The Godfather Trilogy: 1972-1990   1992-10-17\n"
    }
   ],
   "source": [
    "movie_title = 'The Godfather'\n",
    "rec.print_cb_recommender_by_title(movie_title)"
   ]
  },
  {
   "cell_type": "code",
   "execution_count": 7,
   "metadata": {},
   "outputs": [
    {
     "output_type": "stream",
     "name": "stdout",
     "text": "Recommended these movies if you like : The Dark Knight Rises\n          id                                              title release_date\n150      414                                     Batman Forever   1995-06-16\n584      268                                             Batman   1989-06-23\n1321     364                                     Batman Returns   1992-06-19\n3079   14919                       Batman: Mask of the Phantasm   1993-12-25\n9181   16234                 Batman Beyond: Return of the Joker   2000-12-12\n12421    155                                    The Dark Knight   2008-07-16\n15433  40662                         Batman: Under the Red Hood   2010-07-27\n21042  29751  Batman Unmasked: The Psychology of the Dark Kn...   2008-07-15\n21247  21683                    Batman: Mystery of the Batwoman   2003-10-21\n25074  20077                                  Batman vs Dracula   2005-10-18\n"
    }
   ],
   "source": [
    "movie_title = 'The Dark Knight Rises'\n",
    "rec.print_cb_recommender_by_title(movie_title)"
   ]
  },
  {
   "cell_type": "code",
   "execution_count": 8,
   "metadata": {},
   "outputs": [
    {
     "output_type": "stream",
     "name": "stdout",
     "text": "For User:  1\nMovies that this user rated before:\n         id                           title release_date\n2284   1371                       Rocky III   1982-05-28\n2577   2105                    American Pie   1999-07-09\n3197   2193                        My Tutor   1983-03-04\n4580   2294  Jay and Silent Bob Strike Back   2001-08-22\n8265   1405                           Greed   1924-12-04\n10664  2455            Confidentially Yours   1983-08-10\n\nMoives that this user may like:\n       id                     title release_date\n533   858      Sleepless in Seattle   1993-06-24\n637   954       Mission: Impossible   1996-05-22\n2632  745           The Sixth Sense   1999-08-06\n3042  926              Galaxy Quest   1999-12-23\n4000  318  The Million Dollar Hotel   2000-02-09\n4113  111                  Scarface   1983-12-08\n8271  905             Pandora's Box   1929-01-30\n"
    }
   ],
   "source": [
    "uid = 1\n",
    "rec.print_cf_recommender_by_uid(uid)"
   ]
  },
  {
   "cell_type": "code",
   "execution_count": 13,
   "metadata": {},
   "outputs": [
    {
     "output_type": "stream",
     "name": "stdout",
     "text": "Based on your ranking history and that you are watching this movie: \nAvatar\n\nWe think you might like these: \n         id                                       title release_date\n602    8766                       Hellraiser: Bloodline   1996-03-08\n2444    603                                  The Matrix   1999-03-30\n3057  10384                                   Supernova   2000-01-14\n3517  38688             Pandora and the Flying Dutchman   1951-02-15\n3633  16096                               House Party 2   1991-10-23\n3638  26270                           Project Moon Base   1953-09-04\n4590   8922                            Jeepers Creepers   2001-07-01\n6044   9567                            Tears of the Sun   2003-03-07\n6378   1996  Lara Croft Tomb Raider: The Cradle of Life   2003-07-21\n9028  63054                                    Fetishes   1996-09-12\n"
    }
   ],
   "source": [
    "title = 'Avatar'\n",
    "uid = 1\n",
    "rec.print_hybrid_recommender(uid,title)"
   ]
  },
  {
   "cell_type": "code",
   "execution_count": null,
   "metadata": {},
   "outputs": [],
   "source": []
  }
 ],
 "metadata": {
  "language_info": {
   "codemirror_mode": {
    "name": "ipython",
    "version": 3
   },
   "file_extension": ".py",
   "mimetype": "text/x-python",
   "name": "python",
   "nbconvert_exporter": "python",
   "pygments_lexer": "ipython3",
   "version": "3.7.4-final"
  },
  "orig_nbformat": 2,
  "kernelspec": {
   "name": "python37464bitenvvenvc6419c7479fb4c348c72c3d2f96f3f35",
   "display_name": "Python 3.7.4 64-bit ('env': venv)"
  }
 },
 "nbformat": 4,
 "nbformat_minor": 2
}
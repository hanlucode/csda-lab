{
 "cells": [
  {
   "cell_type": "code",
   "execution_count": 1,
   "metadata": {},
   "outputs": [],
   "source": [
    "import movies"
   ]
  },
  {
   "cell_type": "code",
   "execution_count": 2,
   "metadata": {},
   "outputs": [
    {
     "output_type": "stream",
     "name": "stderr",
     "text": "INFO:movies:populating move and rating data...\nINFO:movies:complete initializing recommender object...\n"
    }
   ],
   "source": [
    "rec = movies.Recommender()\n"
   ]
  },
  {
   "cell_type": "code",
   "execution_count": 4,
   "metadata": {},
   "outputs": [],
   "source": [
    "rec.save_ml_objects()"
   ]
  },
  {
   "cell_type": "code",
   "execution_count": 3,
   "metadata": {},
   "outputs": [
    {
     "output_type": "stream",
     "name": "stderr",
     "text": "INFO:movies:found ml_objects.pkl, loading from file...\nINFO:movies:finish loading ml_objects.pkl.\n"
    }
   ],
   "source": [
    "rec.load_ml_objects()"
   ]
  },
  {
   "cell_type": "code",
   "execution_count": 13,
   "metadata": {},
   "outputs": [
    {
     "output_type": "stream",
     "name": "stdout",
     "text": "no\n"
    }
   ],
   "source": [
    "if not rec.genres and not rec.cosine_similarity_matrix and not rec.cf_top_ten_prediction_matrix and not rec.algo:\n",
    "    print(\"all empty\")\n",
    "else:\n",
    "    print('no')"
   ]
  },
  {
   "cell_type": "code",
   "execution_count": 7,
   "metadata": {},
   "outputs": [
    {
     "output_type": "execute_result",
     "data": {
      "text/plain": "True"
     },
     "metadata": {},
     "execution_count": 7
    }
   ],
   "source": [
    "import os.path\n",
    "os.path.exists('movies.py')"
   ]
  },
  {
   "cell_type": "code",
   "execution_count": 3,
   "metadata": {},
   "outputs": [
    {
     "output_type": "stream",
     "name": "stderr",
     "text": "INFO:movies:starting cb engine...\nINFO:movies:starting cf engine...\n"
    }
   ],
   "source": [
    "rec.start_recommender_engine()"
   ]
  },
  {
   "cell_type": "code",
   "execution_count": 4,
   "metadata": {},
   "outputs": [
    {
     "output_type": "execute_result",
     "data": {
      "text/plain": "      id         title release_date\n0    862     Toy Story   1995-10-30\n46   807         Se7en   1995-09-22\n255   11     Star Wars   1977-05-25\n291  680  Pulp Fiction   1994-09-10\n350   13  Forrest Gump   1994-07-06",
      "text/html": "<div>\n<style scoped>\n    .dataframe tbody tr th:only-of-type {\n        vertical-align: middle;\n    }\n\n    .dataframe tbody tr th {\n        vertical-align: top;\n    }\n\n    .dataframe thead th {\n        text-align: right;\n    }\n</style>\n<table border=\"1\" class=\"dataframe\">\n  <thead>\n    <tr style=\"text-align: right;\">\n      <th></th>\n      <th>id</th>\n      <th>title</th>\n      <th>release_date</th>\n    </tr>\n  </thead>\n  <tbody>\n    <tr>\n      <th>0</th>\n      <td>862</td>\n      <td>Toy Story</td>\n      <td>1995-10-30</td>\n    </tr>\n    <tr>\n      <th>46</th>\n      <td>807</td>\n      <td>Se7en</td>\n      <td>1995-09-22</td>\n    </tr>\n    <tr>\n      <th>255</th>\n      <td>11</td>\n      <td>Star Wars</td>\n      <td>1977-05-25</td>\n    </tr>\n    <tr>\n      <th>291</th>\n      <td>680</td>\n      <td>Pulp Fiction</td>\n      <td>1994-09-10</td>\n    </tr>\n    <tr>\n      <th>350</th>\n      <td>13</td>\n      <td>Forrest Gump</td>\n      <td>1994-07-06</td>\n    </tr>\n  </tbody>\n</table>\n</div>"
     },
     "metadata": {},
     "execution_count": 4
    }
   ],
   "source": [
    "rec.get_movie_list_df_by_ids([862, 807, 11, 680, 13])"
   ]
  },
  {
   "cell_type": "code",
   "execution_count": 5,
   "metadata": {},
   "outputs": [
    {
     "output_type": "execute_result",
     "data": {
      "text/plain": "255    11\nName: id, dtype: int64"
     },
     "metadata": {},
     "execution_count": 5
    }
   ],
   "source": [
    "b = rec.get_movie_id_by_title('Star Wars')\n",
    "b"
   ]
  },
  {
   "cell_type": "code",
   "execution_count": 6,
   "metadata": {},
   "outputs": [
    {
     "output_type": "execute_result",
     "data": {
      "text/plain": "     id      title release_date\n255  11  Star Wars   1977-05-25",
      "text/html": "<div>\n<style scoped>\n    .dataframe tbody tr th:only-of-type {\n        vertical-align: middle;\n    }\n\n    .dataframe tbody tr th {\n        vertical-align: top;\n    }\n\n    .dataframe thead th {\n        text-align: right;\n    }\n</style>\n<table border=\"1\" class=\"dataframe\">\n  <thead>\n    <tr style=\"text-align: right;\">\n      <th></th>\n      <th>id</th>\n      <th>title</th>\n      <th>release_date</th>\n    </tr>\n  </thead>\n  <tbody>\n    <tr>\n      <th>255</th>\n      <td>11</td>\n      <td>Star Wars</td>\n      <td>1977-05-25</td>\n    </tr>\n  </tbody>\n</table>\n</div>"
     },
     "metadata": {},
     "execution_count": 6
    }
   ],
   "source": [
    "rec.get_movie_list_df_by_ids(b)"
   ]
  },
  {
   "cell_type": "code",
   "execution_count": 7,
   "metadata": {},
   "outputs": [
    {
     "output_type": "stream",
     "name": "stdout",
     "text": "id      title release_date\n0  862  Toy Story   1995-10-30\n"
    }
   ],
   "source": [
    "rec.print_movie_list_by_ids([862])"
   ]
  },
  {
   "cell_type": "code",
   "execution_count": 8,
   "metadata": {},
   "outputs": [
    {
     "output_type": "stream",
     "name": "stdout",
     "text": "None\n"
    }
   ],
   "source": [
    "rec.print_genres()"
   ]
  },
  {
   "cell_type": "code",
   "execution_count": 9,
   "metadata": {},
   "outputs": [
    {
     "output_type": "stream",
     "name": "stdout",
     "text": "id                    title release_date\n0         862                Toy Story   1995-10-30\n46        807                    Se7en   1995-09-22\n255        11                Star Wars   1977-05-25\n288       101   Leon: The Professional   1994-09-14\n291       680             Pulp Fiction   1994-09-10\n...       ...                      ...          ...\n41053  381288                    Split   2016-11-15\n41096  274870               Passengers   2016-12-21\n41720  263115                    Logan   2017-02-28\n41771  321612     Beauty and the Beast   2017-03-16\n42784  337339  The Fate of the Furious   2017-04-12\n\n[225 rows x 3 columns]\n"
    }
   ],
   "source": [
    "rec.print_topchart()"
   ]
  },
  {
   "cell_type": "code",
   "execution_count": 10,
   "metadata": {},
   "outputs": [
    {
     "output_type": "execute_result",
     "data": {
      "text/plain": "           id                    title release_date\n0         862                Toy Story   1995-10-30\n46        807                    Se7en   1995-09-22\n255        11                Star Wars   1977-05-25\n288       101   Leon: The Professional   1994-09-14\n291       680             Pulp Fiction   1994-09-10\n...       ...                      ...          ...\n41053  381288                    Split   2016-11-15\n41096  274870               Passengers   2016-12-21\n41720  263115                    Logan   2017-02-28\n41771  321612     Beauty and the Beast   2017-03-16\n42784  337339  The Fate of the Furious   2017-04-12\n\n[225 rows x 3 columns]",
      "text/html": "<div>\n<style scoped>\n    .dataframe tbody tr th:only-of-type {\n        vertical-align: middle;\n    }\n\n    .dataframe tbody tr th {\n        vertical-align: top;\n    }\n\n    .dataframe thead th {\n        text-align: right;\n    }\n</style>\n<table border=\"1\" class=\"dataframe\">\n  <thead>\n    <tr style=\"text-align: right;\">\n      <th></th>\n      <th>id</th>\n      <th>title</th>\n      <th>release_date</th>\n    </tr>\n  </thead>\n  <tbody>\n    <tr>\n      <th>0</th>\n      <td>862</td>\n      <td>Toy Story</td>\n      <td>1995-10-30</td>\n    </tr>\n    <tr>\n      <th>46</th>\n      <td>807</td>\n      <td>Se7en</td>\n      <td>1995-09-22</td>\n    </tr>\n    <tr>\n      <th>255</th>\n      <td>11</td>\n      <td>Star Wars</td>\n      <td>1977-05-25</td>\n    </tr>\n    <tr>\n      <th>288</th>\n      <td>101</td>\n      <td>Leon: The Professional</td>\n      <td>1994-09-14</td>\n    </tr>\n    <tr>\n      <th>291</th>\n      <td>680</td>\n      <td>Pulp Fiction</td>\n      <td>1994-09-10</td>\n    </tr>\n    <tr>\n      <th>...</th>\n      <td>...</td>\n      <td>...</td>\n      <td>...</td>\n    </tr>\n    <tr>\n      <th>41053</th>\n      <td>381288</td>\n      <td>Split</td>\n      <td>2016-11-15</td>\n    </tr>\n    <tr>\n      <th>41096</th>\n      <td>274870</td>\n      <td>Passengers</td>\n      <td>2016-12-21</td>\n    </tr>\n    <tr>\n      <th>41720</th>\n      <td>263115</td>\n      <td>Logan</td>\n      <td>2017-02-28</td>\n    </tr>\n    <tr>\n      <th>41771</th>\n      <td>321612</td>\n      <td>Beauty and the Beast</td>\n      <td>2017-03-16</td>\n    </tr>\n    <tr>\n      <th>42784</th>\n      <td>337339</td>\n      <td>The Fate of the Furious</td>\n      <td>2017-04-12</td>\n    </tr>\n  </tbody>\n</table>\n<p>225 rows × 3 columns</p>\n</div>"
     },
     "metadata": {},
     "execution_count": 10
    }
   ],
   "source": [
    "rec.list_topchart()"
   ]
  },
  {
   "cell_type": "code",
   "execution_count": 11,
   "metadata": {},
   "outputs": [
    {
     "output_type": "stream",
     "name": "stdout",
     "text": "id                                  title release_date\n350        13                           Forrest Gump   1994-07-06\n580       812                                Aladdin   1992-11-25\n1628      597                                Titanic   1997-11-18\n2165      162                    Edward Scissorhands   1990-12-05\n7168       38  Eternal Sunshine of the Spotless Mind   2004-03-19\n13071    8966                               Twilight   2008-11-20\n19598   82693                Silver Linings Playbook   2012-09-08\n20762   64682                       The Great Gatsby   2013-05-10\n22003  152601                                    Her   2013-12-18\n23262  102651                             Maleficent   2014-05-28\n23337  222935                 The Fault in Our Stars   2014-05-16\n40458  313369                             La La Land   2016-11-29\n41096  274870                             Passengers   2016-12-21\n41771  321612                   Beauty and the Beast   2017-03-16\n"
    }
   ],
   "source": [
    "rec.print_topchart('Romance')"
   ]
  },
  {
   "cell_type": "code",
   "execution_count": 12,
   "metadata": {},
   "outputs": [
    {
     "output_type": "execute_result",
     "data": {
      "text/plain": "           id                                  title release_date\n350        13                           Forrest Gump   1994-07-06\n580       812                                Aladdin   1992-11-25\n1628      597                                Titanic   1997-11-18\n2165      162                    Edward Scissorhands   1990-12-05\n7168       38  Eternal Sunshine of the Spotless Mind   2004-03-19\n13071    8966                               Twilight   2008-11-20\n19598   82693                Silver Linings Playbook   2012-09-08\n20762   64682                       The Great Gatsby   2013-05-10\n22003  152601                                    Her   2013-12-18\n23262  102651                             Maleficent   2014-05-28\n23337  222935                 The Fault in Our Stars   2014-05-16\n40458  313369                             La La Land   2016-11-29\n41096  274870                             Passengers   2016-12-21\n41771  321612                   Beauty and the Beast   2017-03-16",
      "text/html": "<div>\n<style scoped>\n    .dataframe tbody tr th:only-of-type {\n        vertical-align: middle;\n    }\n\n    .dataframe tbody tr th {\n        vertical-align: top;\n    }\n\n    .dataframe thead th {\n        text-align: right;\n    }\n</style>\n<table border=\"1\" class=\"dataframe\">\n  <thead>\n    <tr style=\"text-align: right;\">\n      <th></th>\n      <th>id</th>\n      <th>title</th>\n      <th>release_date</th>\n    </tr>\n  </thead>\n  <tbody>\n    <tr>\n      <th>350</th>\n      <td>13</td>\n      <td>Forrest Gump</td>\n      <td>1994-07-06</td>\n    </tr>\n    <tr>\n      <th>580</th>\n      <td>812</td>\n      <td>Aladdin</td>\n      <td>1992-11-25</td>\n    </tr>\n    <tr>\n      <th>1628</th>\n      <td>597</td>\n      <td>Titanic</td>\n      <td>1997-11-18</td>\n    </tr>\n    <tr>\n      <th>2165</th>\n      <td>162</td>\n      <td>Edward Scissorhands</td>\n      <td>1990-12-05</td>\n    </tr>\n    <tr>\n      <th>7168</th>\n      <td>38</td>\n      <td>Eternal Sunshine of the Spotless Mind</td>\n      <td>2004-03-19</td>\n    </tr>\n    <tr>\n      <th>13071</th>\n      <td>8966</td>\n      <td>Twilight</td>\n      <td>2008-11-20</td>\n    </tr>\n    <tr>\n      <th>19598</th>\n      <td>82693</td>\n      <td>Silver Linings Playbook</td>\n      <td>2012-09-08</td>\n    </tr>\n    <tr>\n      <th>20762</th>\n      <td>64682</td>\n      <td>The Great Gatsby</td>\n      <td>2013-05-10</td>\n    </tr>\n    <tr>\n      <th>22003</th>\n      <td>152601</td>\n      <td>Her</td>\n      <td>2013-12-18</td>\n    </tr>\n    <tr>\n      <th>23262</th>\n      <td>102651</td>\n      <td>Maleficent</td>\n      <td>2014-05-28</td>\n    </tr>\n    <tr>\n      <th>23337</th>\n      <td>222935</td>\n      <td>The Fault in Our Stars</td>\n      <td>2014-05-16</td>\n    </tr>\n    <tr>\n      <th>40458</th>\n      <td>313369</td>\n      <td>La La Land</td>\n      <td>2016-11-29</td>\n    </tr>\n    <tr>\n      <th>41096</th>\n      <td>274870</td>\n      <td>Passengers</td>\n      <td>2016-12-21</td>\n    </tr>\n    <tr>\n      <th>41771</th>\n      <td>321612</td>\n      <td>Beauty and the Beast</td>\n      <td>2017-03-16</td>\n    </tr>\n  </tbody>\n</table>\n</div>"
     },
     "metadata": {},
     "execution_count": 12
    }
   ],
   "source": [
    "rec.list_topchart('Romance')"
   ]
  },
  {
   "cell_type": "code",
   "execution_count": 13,
   "metadata": {},
   "outputs": [
    {
     "output_type": "stream",
     "name": "stdout",
     "text": "Recommended these movies if you like : The Godfather\n           id                             title release_date\n1171      240            The Godfather: Part II   1974-12-20\n4300    15745                              Made   2001-07-13\n10764   18747                          Election   2005-05-14\n11239  119907                  Household Saints   1993-09-15\n18206   48153                   The Outside Man   1972-12-21\n21458  112205                        The Family   2013-09-13\n22952  190955                        Blood Ties   2013-08-22\n31693   95892                  Honor Thy Father   1973-03-01\n37660  135335          A Mother Should Be Loved   1934-05-11\n43540  364150  The Godfather Trilogy: 1972-1990   1992-10-17\n"
    }
   ],
   "source": [
    "movie_title = 'The Godfather'\n",
    "rec.print_cb_recommender_by_title(movie_title)"
   ]
  },
  {
   "cell_type": "code",
   "execution_count": 14,
   "metadata": {},
   "outputs": [
    {
     "output_type": "execute_result",
     "data": {
      "text/plain": "           id                             title release_date\n1171      240            The Godfather: Part II   1974-12-20\n4300    15745                              Made   2001-07-13\n10764   18747                          Election   2005-05-14\n11239  119907                  Household Saints   1993-09-15\n18206   48153                   The Outside Man   1972-12-21\n21458  112205                        The Family   2013-09-13\n22952  190955                        Blood Ties   2013-08-22\n31693   95892                  Honor Thy Father   1973-03-01\n37660  135335          A Mother Should Be Loved   1934-05-11\n43540  364150  The Godfather Trilogy: 1972-1990   1992-10-17",
      "text/html": "<div>\n<style scoped>\n    .dataframe tbody tr th:only-of-type {\n        vertical-align: middle;\n    }\n\n    .dataframe tbody tr th {\n        vertical-align: top;\n    }\n\n    .dataframe thead th {\n        text-align: right;\n    }\n</style>\n<table border=\"1\" class=\"dataframe\">\n  <thead>\n    <tr style=\"text-align: right;\">\n      <th></th>\n      <th>id</th>\n      <th>title</th>\n      <th>release_date</th>\n    </tr>\n  </thead>\n  <tbody>\n    <tr>\n      <th>1171</th>\n      <td>240</td>\n      <td>The Godfather: Part II</td>\n      <td>1974-12-20</td>\n    </tr>\n    <tr>\n      <th>4300</th>\n      <td>15745</td>\n      <td>Made</td>\n      <td>2001-07-13</td>\n    </tr>\n    <tr>\n      <th>10764</th>\n      <td>18747</td>\n      <td>Election</td>\n      <td>2005-05-14</td>\n    </tr>\n    <tr>\n      <th>11239</th>\n      <td>119907</td>\n      <td>Household Saints</td>\n      <td>1993-09-15</td>\n    </tr>\n    <tr>\n      <th>18206</th>\n      <td>48153</td>\n      <td>The Outside Man</td>\n      <td>1972-12-21</td>\n    </tr>\n    <tr>\n      <th>21458</th>\n      <td>112205</td>\n      <td>The Family</td>\n      <td>2013-09-13</td>\n    </tr>\n    <tr>\n      <th>22952</th>\n      <td>190955</td>\n      <td>Blood Ties</td>\n      <td>2013-08-22</td>\n    </tr>\n    <tr>\n      <th>31693</th>\n      <td>95892</td>\n      <td>Honor Thy Father</td>\n      <td>1973-03-01</td>\n    </tr>\n    <tr>\n      <th>37660</th>\n      <td>135335</td>\n      <td>A Mother Should Be Loved</td>\n      <td>1934-05-11</td>\n    </tr>\n    <tr>\n      <th>43540</th>\n      <td>364150</td>\n      <td>The Godfather Trilogy: 1972-1990</td>\n      <td>1992-10-17</td>\n    </tr>\n  </tbody>\n</table>\n</div>"
     },
     "metadata": {},
     "execution_count": 14
    }
   ],
   "source": [
    "rec.list_cb_recommender_by_title(movie_title)"
   ]
  },
  {
   "cell_type": "code",
   "execution_count": 15,
   "metadata": {},
   "outputs": [
    {
     "output_type": "stream",
     "name": "stdout",
     "text": "Recommended these movies if you like : The Dark Knight Rises\n          id                                              title release_date\n150      414                                     Batman Forever   1995-06-16\n584      268                                             Batman   1989-06-23\n1321     364                                     Batman Returns   1992-06-19\n3079   14919                       Batman: Mask of the Phantasm   1993-12-25\n9181   16234                 Batman Beyond: Return of the Joker   2000-12-12\n12421    155                                    The Dark Knight   2008-07-16\n15433  40662                         Batman: Under the Red Hood   2010-07-27\n21042  29751  Batman Unmasked: The Psychology of the Dark Kn...   2008-07-15\n21247  21683                    Batman: Mystery of the Batwoman   2003-10-21\n25074  20077                                  Batman vs Dracula   2005-10-18\n"
    }
   ],
   "source": [
    "movie_title = 'The Dark Knight Rises'\n",
    "rec.print_cb_recommender_by_title(movie_title)"
   ]
  },
  {
   "cell_type": "code",
   "execution_count": 16,
   "metadata": {},
   "outputs": [
    {
     "output_type": "execute_result",
     "data": {
      "text/plain": "          id                                              title release_date\n150      414                                     Batman Forever   1995-06-16\n584      268                                             Batman   1989-06-23\n1321     364                                     Batman Returns   1992-06-19\n3079   14919                       Batman: Mask of the Phantasm   1993-12-25\n9181   16234                 Batman Beyond: Return of the Joker   2000-12-12\n12421    155                                    The Dark Knight   2008-07-16\n15433  40662                         Batman: Under the Red Hood   2010-07-27\n21042  29751  Batman Unmasked: The Psychology of the Dark Kn...   2008-07-15\n21247  21683                    Batman: Mystery of the Batwoman   2003-10-21\n25074  20077                                  Batman vs Dracula   2005-10-18",
      "text/html": "<div>\n<style scoped>\n    .dataframe tbody tr th:only-of-type {\n        vertical-align: middle;\n    }\n\n    .dataframe tbody tr th {\n        vertical-align: top;\n    }\n\n    .dataframe thead th {\n        text-align: right;\n    }\n</style>\n<table border=\"1\" class=\"dataframe\">\n  <thead>\n    <tr style=\"text-align: right;\">\n      <th></th>\n      <th>id</th>\n      <th>title</th>\n      <th>release_date</th>\n    </tr>\n  </thead>\n  <tbody>\n    <tr>\n      <th>150</th>\n      <td>414</td>\n      <td>Batman Forever</td>\n      <td>1995-06-16</td>\n    </tr>\n    <tr>\n      <th>584</th>\n      <td>268</td>\n      <td>Batman</td>\n      <td>1989-06-23</td>\n    </tr>\n    <tr>\n      <th>1321</th>\n      <td>364</td>\n      <td>Batman Returns</td>\n      <td>1992-06-19</td>\n    </tr>\n    <tr>\n      <th>3079</th>\n      <td>14919</td>\n      <td>Batman: Mask of the Phantasm</td>\n      <td>1993-12-25</td>\n    </tr>\n    <tr>\n      <th>9181</th>\n      <td>16234</td>\n      <td>Batman Beyond: Return of the Joker</td>\n      <td>2000-12-12</td>\n    </tr>\n    <tr>\n      <th>12421</th>\n      <td>155</td>\n      <td>The Dark Knight</td>\n      <td>2008-07-16</td>\n    </tr>\n    <tr>\n      <th>15433</th>\n      <td>40662</td>\n      <td>Batman: Under the Red Hood</td>\n      <td>2010-07-27</td>\n    </tr>\n    <tr>\n      <th>21042</th>\n      <td>29751</td>\n      <td>Batman Unmasked: The Psychology of the Dark Kn...</td>\n      <td>2008-07-15</td>\n    </tr>\n    <tr>\n      <th>21247</th>\n      <td>21683</td>\n      <td>Batman: Mystery of the Batwoman</td>\n      <td>2003-10-21</td>\n    </tr>\n    <tr>\n      <th>25074</th>\n      <td>20077</td>\n      <td>Batman vs Dracula</td>\n      <td>2005-10-18</td>\n    </tr>\n  </tbody>\n</table>\n</div>"
     },
     "metadata": {},
     "execution_count": 16
    }
   ],
   "source": [
    "rec.list_cb_recommender_by_title(movie_title)"
   ]
  },
  {
   "cell_type": "code",
   "execution_count": 17,
   "metadata": {},
   "outputs": [
    {
     "output_type": "stream",
     "name": "stdout",
     "text": "For User:  1\nMovies that this user rated before:\n         id                           title release_date\n2284   1371                       Rocky III   1982-05-28\n2577   2105                    American Pie   1999-07-09\n3197   2193                        My Tutor   1983-03-04\n4580   2294  Jay and Silent Bob Strike Back   2001-08-22\n8265   1405                           Greed   1924-12-04\n10664  2455            Confidentially Yours   1983-08-10\n\nMoives that this user may like:\n         id                     title release_date\n3042    926              Galaxy Quest   1999-12-23\n4000    318  The Million Dollar Hotel   2000-02-09\n5298    608           Men in Black II   2002-07-03\n6108   6016            The Good Thief   2003-04-03\n11094  1948                     Crank   2006-08-31\n"
    }
   ],
   "source": [
    "uid = 1\n",
    "rec.print_cf_recommender_by_uid(uid)"
   ]
  },
  {
   "cell_type": "code",
   "execution_count": 18,
   "metadata": {},
   "outputs": [
    {
     "output_type": "execute_result",
     "data": {
      "text/plain": "         id                           title release_date\n2284   1371                       Rocky III   1982-05-28\n2577   2105                    American Pie   1999-07-09\n3197   2193                        My Tutor   1983-03-04\n4580   2294  Jay and Silent Bob Strike Back   2001-08-22\n8265   1405                           Greed   1924-12-04\n10664  2455            Confidentially Yours   1983-08-10",
      "text/html": "<div>\n<style scoped>\n    .dataframe tbody tr th:only-of-type {\n        vertical-align: middle;\n    }\n\n    .dataframe tbody tr th {\n        vertical-align: top;\n    }\n\n    .dataframe thead th {\n        text-align: right;\n    }\n</style>\n<table border=\"1\" class=\"dataframe\">\n  <thead>\n    <tr style=\"text-align: right;\">\n      <th></th>\n      <th>id</th>\n      <th>title</th>\n      <th>release_date</th>\n    </tr>\n  </thead>\n  <tbody>\n    <tr>\n      <th>2284</th>\n      <td>1371</td>\n      <td>Rocky III</td>\n      <td>1982-05-28</td>\n    </tr>\n    <tr>\n      <th>2577</th>\n      <td>2105</td>\n      <td>American Pie</td>\n      <td>1999-07-09</td>\n    </tr>\n    <tr>\n      <th>3197</th>\n      <td>2193</td>\n      <td>My Tutor</td>\n      <td>1983-03-04</td>\n    </tr>\n    <tr>\n      <th>4580</th>\n      <td>2294</td>\n      <td>Jay and Silent Bob Strike Back</td>\n      <td>2001-08-22</td>\n    </tr>\n    <tr>\n      <th>8265</th>\n      <td>1405</td>\n      <td>Greed</td>\n      <td>1924-12-04</td>\n    </tr>\n    <tr>\n      <th>10664</th>\n      <td>2455</td>\n      <td>Confidentially Yours</td>\n      <td>1983-08-10</td>\n    </tr>\n  </tbody>\n</table>\n</div>"
     },
     "metadata": {},
     "execution_count": 18
    }
   ],
   "source": [
    "rec.list_cf_user_rated_list_by_uid(uid)"
   ]
  },
  {
   "cell_type": "code",
   "execution_count": 19,
   "metadata": {},
   "outputs": [
    {
     "output_type": "execute_result",
     "data": {
      "text/plain": "         id                     title release_date\n3042    926              Galaxy Quest   1999-12-23\n4000    318  The Million Dollar Hotel   2000-02-09\n5298    608           Men in Black II   2002-07-03\n6108   6016            The Good Thief   2003-04-03\n11094  1948                     Crank   2006-08-31",
      "text/html": "<div>\n<style scoped>\n    .dataframe tbody tr th:only-of-type {\n        vertical-align: middle;\n    }\n\n    .dataframe tbody tr th {\n        vertical-align: top;\n    }\n\n    .dataframe thead th {\n        text-align: right;\n    }\n</style>\n<table border=\"1\" class=\"dataframe\">\n  <thead>\n    <tr style=\"text-align: right;\">\n      <th></th>\n      <th>id</th>\n      <th>title</th>\n      <th>release_date</th>\n    </tr>\n  </thead>\n  <tbody>\n    <tr>\n      <th>3042</th>\n      <td>926</td>\n      <td>Galaxy Quest</td>\n      <td>1999-12-23</td>\n    </tr>\n    <tr>\n      <th>4000</th>\n      <td>318</td>\n      <td>The Million Dollar Hotel</td>\n      <td>2000-02-09</td>\n    </tr>\n    <tr>\n      <th>5298</th>\n      <td>608</td>\n      <td>Men in Black II</td>\n      <td>2002-07-03</td>\n    </tr>\n    <tr>\n      <th>6108</th>\n      <td>6016</td>\n      <td>The Good Thief</td>\n      <td>2003-04-03</td>\n    </tr>\n    <tr>\n      <th>11094</th>\n      <td>1948</td>\n      <td>Crank</td>\n      <td>2006-08-31</td>\n    </tr>\n  </tbody>\n</table>\n</div>"
     },
     "metadata": {},
     "execution_count": 19
    }
   ],
   "source": [
    "rec.list_cf_recommender_by_uid(uid)"
   ]
  },
  {
   "cell_type": "code",
   "execution_count": 20,
   "metadata": {},
   "outputs": [
    {
     "output_type": "stream",
     "name": "stdout",
     "text": "Hi, user#:  1\nBased on your ranking history and that you are watching this movie: \nAvatar\n\nWe think you might like these: \n           id                                       title release_date\n602      8766                       Hellraiser: Bloodline   1996-03-08\n2444      603                                  The Matrix   1999-03-30\n3057    10384                                   Supernova   2000-01-14\n3517    38688             Pandora and the Flying Dutchman   1951-02-15\n3633    16096                               House Party 2   1991-10-23\n3638    26270                           Project Moon Base   1953-09-04\n4590     8922                            Jeepers Creepers   2001-07-01\n6044     9567                            Tears of the Sun   2003-03-07\n6378     1996  Lara Croft Tomb Raider: The Cradle of Life   2003-07-21\n9028    63054                                    Fetishes   1996-09-12\n13821   16911                        The Inhabited Island   2008-12-18\n14818   22972                                  Green Zone   2010-03-11\n15627   27579                                The American   2010-08-31\n15984  114096                               Bloodbrothers   1978-09-28\n17894  113105                       The War of the Robots   1978-01-01\n18326   50357                                   Apollo 18   2011-07-20\n19809   61591                   Welcome to the Space Show   2010-02-18\n21420   49802              The Secret of the Third Planet   1981-01-01\n22600  422906                       The Wizard of Baghdad   1961-03-03\n23454   89187                              Beware of Pity   1946-07-22\n27270  196255                             Gregory Go Boom   2013-05-22\n27300   48841           Vengeance: The Story of Tony Cimo   1986-11-01\n28419  265712                        Stand by Me Doraemon   2014-08-08\n29747   61803                                   Shakedown   2002-12-24\n29891   13179                                 Tinker Bell   2008-10-27\n32657  331592                                   Listening   2015-09-11\n33339  334394                                      Baskin   2015-12-31\n35336  111480               OSS 117: Mission for a Killer   1965-07-02\n35368  132873                        Die Mondverschwörung   2011-04-21\n35771  279096                                  Lazer Team   2016-01-27\n"
    }
   ],
   "source": [
    "title = 'Avatar'\n",
    "uid = 1\n",
    "rec.print_hybrid_recommender(uid,title)"
   ]
  },
  {
   "cell_type": "code",
   "execution_count": 21,
   "metadata": {},
   "outputs": [
    {
     "output_type": "execute_result",
     "data": {
      "text/plain": "           id                                       title release_date\n602      8766                       Hellraiser: Bloodline   1996-03-08\n2444      603                                  The Matrix   1999-03-30\n3057    10384                                   Supernova   2000-01-14\n3517    38688             Pandora and the Flying Dutchman   1951-02-15\n3633    16096                               House Party 2   1991-10-23\n3638    26270                           Project Moon Base   1953-09-04\n4590     8922                            Jeepers Creepers   2001-07-01\n6044     9567                            Tears of the Sun   2003-03-07\n6378     1996  Lara Croft Tomb Raider: The Cradle of Life   2003-07-21\n9028    63054                                    Fetishes   1996-09-12\n13821   16911                        The Inhabited Island   2008-12-18\n14818   22972                                  Green Zone   2010-03-11\n15627   27579                                The American   2010-08-31\n15984  114096                               Bloodbrothers   1978-09-28\n17894  113105                       The War of the Robots   1978-01-01\n18326   50357                                   Apollo 18   2011-07-20\n19809   61591                   Welcome to the Space Show   2010-02-18\n21420   49802              The Secret of the Third Planet   1981-01-01\n22600  422906                       The Wizard of Baghdad   1961-03-03\n23454   89187                              Beware of Pity   1946-07-22\n27270  196255                             Gregory Go Boom   2013-05-22\n27300   48841           Vengeance: The Story of Tony Cimo   1986-11-01\n28419  265712                        Stand by Me Doraemon   2014-08-08\n29747   61803                                   Shakedown   2002-12-24\n29891   13179                                 Tinker Bell   2008-10-27\n32657  331592                                   Listening   2015-09-11\n33339  334394                                      Baskin   2015-12-31\n35336  111480               OSS 117: Mission for a Killer   1965-07-02\n35368  132873                        Die Mondverschwörung   2011-04-21\n35771  279096                                  Lazer Team   2016-01-27",
      "text/html": "<div>\n<style scoped>\n    .dataframe tbody tr th:only-of-type {\n        vertical-align: middle;\n    }\n\n    .dataframe tbody tr th {\n        vertical-align: top;\n    }\n\n    .dataframe thead th {\n        text-align: right;\n    }\n</style>\n<table border=\"1\" class=\"dataframe\">\n  <thead>\n    <tr style=\"text-align: right;\">\n      <th></th>\n      <th>id</th>\n      <th>title</th>\n      <th>release_date</th>\n    </tr>\n  </thead>\n  <tbody>\n    <tr>\n      <th>602</th>\n      <td>8766</td>\n      <td>Hellraiser: Bloodline</td>\n      <td>1996-03-08</td>\n    </tr>\n    <tr>\n      <th>2444</th>\n      <td>603</td>\n      <td>The Matrix</td>\n      <td>1999-03-30</td>\n    </tr>\n    <tr>\n      <th>3057</th>\n      <td>10384</td>\n      <td>Supernova</td>\n      <td>2000-01-14</td>\n    </tr>\n    <tr>\n      <th>3517</th>\n      <td>38688</td>\n      <td>Pandora and the Flying Dutchman</td>\n      <td>1951-02-15</td>\n    </tr>\n    <tr>\n      <th>3633</th>\n      <td>16096</td>\n      <td>House Party 2</td>\n      <td>1991-10-23</td>\n    </tr>\n    <tr>\n      <th>3638</th>\n      <td>26270</td>\n      <td>Project Moon Base</td>\n      <td>1953-09-04</td>\n    </tr>\n    <tr>\n      <th>4590</th>\n      <td>8922</td>\n      <td>Jeepers Creepers</td>\n      <td>2001-07-01</td>\n    </tr>\n    <tr>\n      <th>6044</th>\n      <td>9567</td>\n      <td>Tears of the Sun</td>\n      <td>2003-03-07</td>\n    </tr>\n    <tr>\n      <th>6378</th>\n      <td>1996</td>\n      <td>Lara Croft Tomb Raider: The Cradle of Life</td>\n      <td>2003-07-21</td>\n    </tr>\n    <tr>\n      <th>9028</th>\n      <td>63054</td>\n      <td>Fetishes</td>\n      <td>1996-09-12</td>\n    </tr>\n    <tr>\n      <th>13821</th>\n      <td>16911</td>\n      <td>The Inhabited Island</td>\n      <td>2008-12-18</td>\n    </tr>\n    <tr>\n      <th>14818</th>\n      <td>22972</td>\n      <td>Green Zone</td>\n      <td>2010-03-11</td>\n    </tr>\n    <tr>\n      <th>15627</th>\n      <td>27579</td>\n      <td>The American</td>\n      <td>2010-08-31</td>\n    </tr>\n    <tr>\n      <th>15984</th>\n      <td>114096</td>\n      <td>Bloodbrothers</td>\n      <td>1978-09-28</td>\n    </tr>\n    <tr>\n      <th>17894</th>\n      <td>113105</td>\n      <td>The War of the Robots</td>\n      <td>1978-01-01</td>\n    </tr>\n    <tr>\n      <th>18326</th>\n      <td>50357</td>\n      <td>Apollo 18</td>\n      <td>2011-07-20</td>\n    </tr>\n    <tr>\n      <th>19809</th>\n      <td>61591</td>\n      <td>Welcome to the Space Show</td>\n      <td>2010-02-18</td>\n    </tr>\n    <tr>\n      <th>21420</th>\n      <td>49802</td>\n      <td>The Secret of the Third Planet</td>\n      <td>1981-01-01</td>\n    </tr>\n    <tr>\n      <th>22600</th>\n      <td>422906</td>\n      <td>The Wizard of Baghdad</td>\n      <td>1961-03-03</td>\n    </tr>\n    <tr>\n      <th>23454</th>\n      <td>89187</td>\n      <td>Beware of Pity</td>\n      <td>1946-07-22</td>\n    </tr>\n    <tr>\n      <th>27270</th>\n      <td>196255</td>\n      <td>Gregory Go Boom</td>\n      <td>2013-05-22</td>\n    </tr>\n    <tr>\n      <th>27300</th>\n      <td>48841</td>\n      <td>Vengeance: The Story of Tony Cimo</td>\n      <td>1986-11-01</td>\n    </tr>\n    <tr>\n      <th>28419</th>\n      <td>265712</td>\n      <td>Stand by Me Doraemon</td>\n      <td>2014-08-08</td>\n    </tr>\n    <tr>\n      <th>29747</th>\n      <td>61803</td>\n      <td>Shakedown</td>\n      <td>2002-12-24</td>\n    </tr>\n    <tr>\n      <th>29891</th>\n      <td>13179</td>\n      <td>Tinker Bell</td>\n      <td>2008-10-27</td>\n    </tr>\n    <tr>\n      <th>32657</th>\n      <td>331592</td>\n      <td>Listening</td>\n      <td>2015-09-11</td>\n    </tr>\n    <tr>\n      <th>33339</th>\n      <td>334394</td>\n      <td>Baskin</td>\n      <td>2015-12-31</td>\n    </tr>\n    <tr>\n      <th>35336</th>\n      <td>111480</td>\n      <td>OSS 117: Mission for a Killer</td>\n      <td>1965-07-02</td>\n    </tr>\n    <tr>\n      <th>35368</th>\n      <td>132873</td>\n      <td>Die Mondverschwörung</td>\n      <td>2011-04-21</td>\n    </tr>\n    <tr>\n      <th>35771</th>\n      <td>279096</td>\n      <td>Lazer Team</td>\n      <td>2016-01-27</td>\n    </tr>\n  </tbody>\n</table>\n</div>"
     },
     "metadata": {},
     "execution_count": 21
    }
   ],
   "source": [
    "rec.list_hybrid_recommender(uid, title)"
   ]
  },
  {
   "cell_type": "code",
   "execution_count": 32,
   "metadata": {},
   "outputs": [
    {
     "output_type": "stream",
     "name": "stdout",
     "text": "nothing\n"
    },
    {
     "output_type": "execute_result",
     "data": {
      "text/plain": "[]"
     },
     "metadata": {},
     "execution_count": 32
    }
   ],
   "source": [
    "c = rec.get_movie_id_by_title('asdf')\n",
    "if not len(c):\n",
    "    print(\"nothing\")\n",
    "else:\n",
    "    print(\"something\")\n",
    "c"
   ]
  },
  {
   "cell_type": "code",
   "execution_count": null,
   "metadata": {},
   "outputs": [],
   "source": []
  }
 ],
 "metadata": {
  "language_info": {
   "codemirror_mode": {
    "name": "ipython",
    "version": 3
   },
   "file_extension": ".py",
   "mimetype": "text/x-python",
   "name": "python",
   "nbconvert_exporter": "python",
   "pygments_lexer": "ipython3",
   "version": "3.7.4-final"
  },
  "orig_nbformat": 2,
  "kernelspec": {
   "name": "python37464bitenvvenvc6419c7479fb4c348c72c3d2f96f3f35",
   "display_name": "Python 3.7.4 64-bit ('env': venv)"
  }
 },
 "nbformat": 4,
 "nbformat_minor": 2
}
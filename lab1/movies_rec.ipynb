{
 "cells": [
  {
   "cell_type": "markdown",
   "metadata": {},
   "source": [
    "# Recommender System Example #1\n",
    "\n",
    "[Movie Recommender Systems on Kaggle](https://www.kaggle.com/rounakbanik/movie-recommender-systems)\n"
   ]
  },
  {
   "cell_type": "code",
   "execution_count": 1,
   "metadata": {},
   "outputs": [],
   "source": [
    "%matplotlib inline\n",
    "import pandas as pd\n",
    "import numpy as np\n",
    "import matplotlib.pyplot as plt\n",
    "import seaborn as sns\n",
    "from scipy import stats\n",
    "\n",
    "from ast import literal_eval\n",
    "from sklearn.feature_extraction.text import TfidfVectorizer, CountVectorizer\n",
    "from sklearn.metrics.pairwise import linear_kernel, cosine_similarity\n",
    "from nltk.stem.snowball import SnowballStemmer\n",
    "from nltk.stem.wordnet import WordNetLemmatizer\n",
    "from nltk.corpus import wordnet\n",
    "from surprise import Reader, Dataset, SVD\n",
    "\n",
    "# depreciated\n",
    "# from surprise import evaluate\n"
   ]
  },
  {
   "cell_type": "code",
   "execution_count": 2,
   "metadata": {},
   "outputs": [
    {
     "output_type": "execute_result",
     "data": {
      "text/plain": "   Unnamed: 0  adult                              belongs_to_collection  \\\n0           0  False  {'id': 10194, 'name': 'Toy Story Collection', ...   \n1           1  False                                                NaN   \n2           2  False  {'id': 119050, 'name': 'Grumpy Old Men Collect...   \n3           3  False                                                NaN   \n4           4  False  {'id': 96871, 'name': 'Father of the Bride Col...   \n\n       budget                              genres  \\\n0  30000000.0   ['Animation', 'Comedy', 'Family']   \n1  65000000.0  ['Adventure', 'Fantasy', 'Family']   \n2         0.0               ['Romance', 'Comedy']   \n3  16000000.0      ['Comedy', 'Drama', 'Romance']   \n4         0.0                          ['Comedy']   \n\n                               homepage     id  imdb_id original_language  \\\n0  http://toystory.disney.com/toy-story    862      NaN                en   \n1                                   NaN   8844      NaN                en   \n2                                   NaN  15602      NaN                en   \n3                                   NaN  31357      NaN                en   \n4                                   NaN  11862      NaN                en   \n\n                original_title  ... release_date      revenue runtime  \\\n0                    Toy Story  ...   1995-10-30  373554033.0    81.0   \n1                      Jumanji  ...   1995-12-15  262797249.0   104.0   \n2             Grumpier Old Men  ...   1995-12-22          0.0   101.0   \n3            Waiting to Exhale  ...   1995-12-22   81452156.0   127.0   \n4  Father of the Bride Part II  ...   1995-02-10   76578911.0   106.0   \n\n                                    spoken_languages    status  \\\n0           [{'iso_639_1': 'en', 'name': 'English'}]  Released   \n1  [{'iso_639_1': 'en', 'name': 'English'}, {'iso...  Released   \n2           [{'iso_639_1': 'en', 'name': 'English'}]  Released   \n3           [{'iso_639_1': 'en', 'name': 'English'}]  Released   \n4           [{'iso_639_1': 'en', 'name': 'English'}]  Released   \n\n                                             tagline  \\\n0                                                NaN   \n1          Roll the dice and unleash the excitement!   \n2  Still Yelling. Still Fighting. Still Ready for...   \n3  Friends are the people who let you be yourself...   \n4  Just When His World Is Back To Normal... He's ...   \n\n                         title  video vote_average vote_count  \n0                    Toy Story  False          7.7     5415.0  \n1                      Jumanji  False          6.9     2413.0  \n2             Grumpier Old Men  False          6.5       92.0  \n3            Waiting to Exhale  False          6.1       34.0  \n4  Father of the Bride Part II  False          5.7      173.0  \n\n[5 rows x 25 columns]",
      "text/html": "<div>\n<style scoped>\n    .dataframe tbody tr th:only-of-type {\n        vertical-align: middle;\n    }\n\n    .dataframe tbody tr th {\n        vertical-align: top;\n    }\n\n    .dataframe thead th {\n        text-align: right;\n    }\n</style>\n<table border=\"1\" class=\"dataframe\">\n  <thead>\n    <tr style=\"text-align: right;\">\n      <th></th>\n      <th>Unnamed: 0</th>\n      <th>adult</th>\n      <th>belongs_to_collection</th>\n      <th>budget</th>\n      <th>genres</th>\n      <th>homepage</th>\n      <th>id</th>\n      <th>imdb_id</th>\n      <th>original_language</th>\n      <th>original_title</th>\n      <th>...</th>\n      <th>release_date</th>\n      <th>revenue</th>\n      <th>runtime</th>\n      <th>spoken_languages</th>\n      <th>status</th>\n      <th>tagline</th>\n      <th>title</th>\n      <th>video</th>\n      <th>vote_average</th>\n      <th>vote_count</th>\n    </tr>\n  </thead>\n  <tbody>\n    <tr>\n      <th>0</th>\n      <td>0</td>\n      <td>False</td>\n      <td>{'id': 10194, 'name': 'Toy Story Collection', ...</td>\n      <td>30000000.0</td>\n      <td>['Animation', 'Comedy', 'Family']</td>\n      <td>http://toystory.disney.com/toy-story</td>\n      <td>862</td>\n      <td>NaN</td>\n      <td>en</td>\n      <td>Toy Story</td>\n      <td>...</td>\n      <td>1995-10-30</td>\n      <td>373554033.0</td>\n      <td>81.0</td>\n      <td>[{'iso_639_1': 'en', 'name': 'English'}]</td>\n      <td>Released</td>\n      <td>NaN</td>\n      <td>Toy Story</td>\n      <td>False</td>\n      <td>7.7</td>\n      <td>5415.0</td>\n    </tr>\n    <tr>\n      <th>1</th>\n      <td>1</td>\n      <td>False</td>\n      <td>NaN</td>\n      <td>65000000.0</td>\n      <td>['Adventure', 'Fantasy', 'Family']</td>\n      <td>NaN</td>\n      <td>8844</td>\n      <td>NaN</td>\n      <td>en</td>\n      <td>Jumanji</td>\n      <td>...</td>\n      <td>1995-12-15</td>\n      <td>262797249.0</td>\n      <td>104.0</td>\n      <td>[{'iso_639_1': 'en', 'name': 'English'}, {'iso...</td>\n      <td>Released</td>\n      <td>Roll the dice and unleash the excitement!</td>\n      <td>Jumanji</td>\n      <td>False</td>\n      <td>6.9</td>\n      <td>2413.0</td>\n    </tr>\n    <tr>\n      <th>2</th>\n      <td>2</td>\n      <td>False</td>\n      <td>{'id': 119050, 'name': 'Grumpy Old Men Collect...</td>\n      <td>0.0</td>\n      <td>['Romance', 'Comedy']</td>\n      <td>NaN</td>\n      <td>15602</td>\n      <td>NaN</td>\n      <td>en</td>\n      <td>Grumpier Old Men</td>\n      <td>...</td>\n      <td>1995-12-22</td>\n      <td>0.0</td>\n      <td>101.0</td>\n      <td>[{'iso_639_1': 'en', 'name': 'English'}]</td>\n      <td>Released</td>\n      <td>Still Yelling. Still Fighting. Still Ready for...</td>\n      <td>Grumpier Old Men</td>\n      <td>False</td>\n      <td>6.5</td>\n      <td>92.0</td>\n    </tr>\n    <tr>\n      <th>3</th>\n      <td>3</td>\n      <td>False</td>\n      <td>NaN</td>\n      <td>16000000.0</td>\n      <td>['Comedy', 'Drama', 'Romance']</td>\n      <td>NaN</td>\n      <td>31357</td>\n      <td>NaN</td>\n      <td>en</td>\n      <td>Waiting to Exhale</td>\n      <td>...</td>\n      <td>1995-12-22</td>\n      <td>81452156.0</td>\n      <td>127.0</td>\n      <td>[{'iso_639_1': 'en', 'name': 'English'}]</td>\n      <td>Released</td>\n      <td>Friends are the people who let you be yourself...</td>\n      <td>Waiting to Exhale</td>\n      <td>False</td>\n      <td>6.1</td>\n      <td>34.0</td>\n    </tr>\n    <tr>\n      <th>4</th>\n      <td>4</td>\n      <td>False</td>\n      <td>{'id': 96871, 'name': 'Father of the Bride Col...</td>\n      <td>0.0</td>\n      <td>['Comedy']</td>\n      <td>NaN</td>\n      <td>11862</td>\n      <td>NaN</td>\n      <td>en</td>\n      <td>Father of the Bride Part II</td>\n      <td>...</td>\n      <td>1995-02-10</td>\n      <td>76578911.0</td>\n      <td>106.0</td>\n      <td>[{'iso_639_1': 'en', 'name': 'English'}]</td>\n      <td>Released</td>\n      <td>Just When His World Is Back To Normal... He's ...</td>\n      <td>Father of the Bride Part II</td>\n      <td>False</td>\n      <td>5.7</td>\n      <td>173.0</td>\n    </tr>\n  </tbody>\n</table>\n<p>5 rows × 25 columns</p>\n</div>"
     },
     "metadata": {},
     "execution_count": 2
    }
   ],
   "source": [
    "# reading csv from movie.ipynb output for a cleaned csv based on movies_metadata.csv\n",
    "md = pd.read_csv('../input/movies_cleaned.csv')\n",
    "md.head()"
   ]
  },
  {
   "cell_type": "markdown",
   "metadata": {},
   "source": [
    "## A Simple Top Movies Listing based on different genres\n",
    "From the previous study, we are able to summarize all movies into 32 different genres. By feeding build_top_chart function for different genres, we are able to pull out movies with top vote_average. Then, we filter out those that are more trust worthy ones (where movies that have vote counts in the upper 0.05% (or above 99.95%) quantile and show it to end_user"
   ]
  },
  {
   "cell_type": "code",
   "execution_count": 3,
   "metadata": {},
   "outputs": [],
   "source": [
    "import re\n",
    "\n",
    "def build_top_chart(genre, quantile=0.995):\n",
    "    qualified_df = md[md['vote_count'] > md['vote_count'].quantile(quantile)].sort_values('vote_average', ascending=False)\n",
    "    genre_filtered_df = qualified_df['genres'].str.contains(genre, flags=re.IGNORECASE, regex=True)\n",
    "    if genre != '':\n",
    "        return qualified_df[genre_filtered_df]\n",
    "    else:\n",
    "        return qualified_df"
   ]
  },
  {
   "cell_type": "code",
   "execution_count": 4,
   "metadata": {},
   "outputs": [
    {
     "output_type": "execute_result",
     "data": {
      "text/plain": "                          title release_date  vote_average  vote_count\n828               The Godfather   1972-03-14           8.5      6024.0\n313    The Shawshank Redemption   1994-09-23           8.5      8358.0\n521            Schindler's List   1993-11-29           8.3      4436.0\n12421           The Dark Knight   2008-07-16           8.3     12269.0\n2198          Life Is Beautiful   1997-12-20           8.3      3643.0\n2828                 Fight Club   1999-10-15           8.3      9678.0\n23496                  Whiplash   2014-10-10           8.3      4376.0\n291                Pulp Fiction   1994-09-10           8.3      8670.0\n5453              Spirited Away   2001-07-20           8.3      3968.0\n288      Leon: The Professional   1994-09-14           8.2      4293.0",
      "text/html": "<div>\n<style scoped>\n    .dataframe tbody tr th:only-of-type {\n        vertical-align: middle;\n    }\n\n    .dataframe tbody tr th {\n        vertical-align: top;\n    }\n\n    .dataframe thead th {\n        text-align: right;\n    }\n</style>\n<table border=\"1\" class=\"dataframe\">\n  <thead>\n    <tr style=\"text-align: right;\">\n      <th></th>\n      <th>title</th>\n      <th>release_date</th>\n      <th>vote_average</th>\n      <th>vote_count</th>\n    </tr>\n  </thead>\n  <tbody>\n    <tr>\n      <th>828</th>\n      <td>The Godfather</td>\n      <td>1972-03-14</td>\n      <td>8.5</td>\n      <td>6024.0</td>\n    </tr>\n    <tr>\n      <th>313</th>\n      <td>The Shawshank Redemption</td>\n      <td>1994-09-23</td>\n      <td>8.5</td>\n      <td>8358.0</td>\n    </tr>\n    <tr>\n      <th>521</th>\n      <td>Schindler's List</td>\n      <td>1993-11-29</td>\n      <td>8.3</td>\n      <td>4436.0</td>\n    </tr>\n    <tr>\n      <th>12421</th>\n      <td>The Dark Knight</td>\n      <td>2008-07-16</td>\n      <td>8.3</td>\n      <td>12269.0</td>\n    </tr>\n    <tr>\n      <th>2198</th>\n      <td>Life Is Beautiful</td>\n      <td>1997-12-20</td>\n      <td>8.3</td>\n      <td>3643.0</td>\n    </tr>\n    <tr>\n      <th>2828</th>\n      <td>Fight Club</td>\n      <td>1999-10-15</td>\n      <td>8.3</td>\n      <td>9678.0</td>\n    </tr>\n    <tr>\n      <th>23496</th>\n      <td>Whiplash</td>\n      <td>2014-10-10</td>\n      <td>8.3</td>\n      <td>4376.0</td>\n    </tr>\n    <tr>\n      <th>291</th>\n      <td>Pulp Fiction</td>\n      <td>1994-09-10</td>\n      <td>8.3</td>\n      <td>8670.0</td>\n    </tr>\n    <tr>\n      <th>5453</th>\n      <td>Spirited Away</td>\n      <td>2001-07-20</td>\n      <td>8.3</td>\n      <td>3968.0</td>\n    </tr>\n    <tr>\n      <th>288</th>\n      <td>Leon: The Professional</td>\n      <td>1994-09-14</td>\n      <td>8.2</td>\n      <td>4293.0</td>\n    </tr>\n  </tbody>\n</table>\n</div>"
     },
     "metadata": {},
     "execution_count": 4
    }
   ],
   "source": [
    "qf_df = build_top_chart('')\n",
    "qf_df[['title', 'release_date', 'vote_average', 'vote_count' ]].sort_values('vote_average', ascending=False).head(10)"
   ]
  },
  {
   "cell_type": "code",
   "execution_count": 5,
   "metadata": {},
   "outputs": [
    {
     "output_type": "execute_result",
     "data": {
      "text/plain": "                                       title release_date  vote_average  \\\n350                             Forrest Gump   1994-07-06           8.2   \n40458                             La La Land   2016-11-29           7.9   \n7168   Eternal Sunshine of the Spotless Mind   2004-03-19           7.9   \n22003                                    Her   2013-12-18           7.9   \n23337                 The Fault in Our Stars   2014-05-16           7.6   \n2165                     Edward Scissorhands   1990-12-05           7.5   \n1628                                 Titanic   1997-11-18           7.5   \n580                                  Aladdin   1992-11-25           7.4   \n20762                       The Great Gatsby   2013-05-10           7.3   \n19598                Silver Linings Playbook   2012-09-08           7.0   \n\n       vote_count  \n350        8147.0  \n40458      4745.0  \n7168       3758.0  \n22003      4215.0  \n23337      3868.0  \n2165       3731.0  \n1628       7770.0  \n580        3495.0  \n20762      3885.0  \n19598      4840.0  ",
      "text/html": "<div>\n<style scoped>\n    .dataframe tbody tr th:only-of-type {\n        vertical-align: middle;\n    }\n\n    .dataframe tbody tr th {\n        vertical-align: top;\n    }\n\n    .dataframe thead th {\n        text-align: right;\n    }\n</style>\n<table border=\"1\" class=\"dataframe\">\n  <thead>\n    <tr style=\"text-align: right;\">\n      <th></th>\n      <th>title</th>\n      <th>release_date</th>\n      <th>vote_average</th>\n      <th>vote_count</th>\n    </tr>\n  </thead>\n  <tbody>\n    <tr>\n      <th>350</th>\n      <td>Forrest Gump</td>\n      <td>1994-07-06</td>\n      <td>8.2</td>\n      <td>8147.0</td>\n    </tr>\n    <tr>\n      <th>40458</th>\n      <td>La La Land</td>\n      <td>2016-11-29</td>\n      <td>7.9</td>\n      <td>4745.0</td>\n    </tr>\n    <tr>\n      <th>7168</th>\n      <td>Eternal Sunshine of the Spotless Mind</td>\n      <td>2004-03-19</td>\n      <td>7.9</td>\n      <td>3758.0</td>\n    </tr>\n    <tr>\n      <th>22003</th>\n      <td>Her</td>\n      <td>2013-12-18</td>\n      <td>7.9</td>\n      <td>4215.0</td>\n    </tr>\n    <tr>\n      <th>23337</th>\n      <td>The Fault in Our Stars</td>\n      <td>2014-05-16</td>\n      <td>7.6</td>\n      <td>3868.0</td>\n    </tr>\n    <tr>\n      <th>2165</th>\n      <td>Edward Scissorhands</td>\n      <td>1990-12-05</td>\n      <td>7.5</td>\n      <td>3731.0</td>\n    </tr>\n    <tr>\n      <th>1628</th>\n      <td>Titanic</td>\n      <td>1997-11-18</td>\n      <td>7.5</td>\n      <td>7770.0</td>\n    </tr>\n    <tr>\n      <th>580</th>\n      <td>Aladdin</td>\n      <td>1992-11-25</td>\n      <td>7.4</td>\n      <td>3495.0</td>\n    </tr>\n    <tr>\n      <th>20762</th>\n      <td>The Great Gatsby</td>\n      <td>2013-05-10</td>\n      <td>7.3</td>\n      <td>3885.0</td>\n    </tr>\n    <tr>\n      <th>19598</th>\n      <td>Silver Linings Playbook</td>\n      <td>2012-09-08</td>\n      <td>7.0</td>\n      <td>4840.0</td>\n    </tr>\n  </tbody>\n</table>\n</div>"
     },
     "metadata": {},
     "execution_count": 5
    }
   ],
   "source": [
    "qf_df = build_top_chart('Romance')\n",
    "qf_df[['title', 'release_date', 'vote_average', 'vote_count' ]].sort_values('vote_average', ascending=False).head(10)"
   ]
  },
  {
   "cell_type": "markdown",
   "metadata": {},
   "source": [
    "## Content Based Recommender System\n",
    "The previous method can only show top rated movies by all voters. However, we want something that is tailored to an individual user. We will try different ways to recommend movies to our end users. First, we will try to find movies that are similiar."
   ]
  },
  {
   "cell_type": "markdown",
   "metadata": {},
   "source": [
    "## Recommender System based on Movie Descriptor\n",
    "We will try to suggest movies based on keywords from the descriptive text provided in the database, and we will use this info to find the best match."
   ]
  },
  {
   "cell_type": "code",
   "execution_count": 6,
   "metadata": {},
   "outputs": [],
   "source": [
    "md['tagline'] = md['tagline'].fillna('')\n",
    "md['overview'] = md['overview'].fillna('')\n",
    "md['keywords'] = md['tagline'] + ' ' + md['overview']"
   ]
  },
  {
   "cell_type": "code",
   "execution_count": 7,
   "metadata": {
    "tags": [
     "outputPrepend"
    ]
   },
   "outputs": [],
   "source": [
    "# We build a Term Frequency (TF)-Inverse Data Frequency (IDF) summary of keywords using scikit-learn library\n",
    "# https://scikit-learn.org/stable/modules/generated/sklearn.feature_extraction.text.TfidfVectorizer.html\n",
    "\n",
    "vectorizer = TfidfVectorizer(analyzer='word', stop_words='english')\n",
    "X = vectorizer.fit_transform(md['keywords'])\n",
    "\n",
    "# Show TF-IDF Vectorizer properties\n",
    "# print('Shape: ')\n",
    "# print(X.shape)\n",
    "# print('Feature Names: ')\n",
    "# print(vectorizer.get_feature_names())\n",
    "\n",
    "# Next We build a lookup table that share similiarty score for all movies title in the database\n",
    "cosine_similarity = linear_kernel(X,X)\n",
    "# showing cosine_similiarty characteristics\n",
    "# cosine_similarity.shape"
   ]
  },
  {
   "cell_type": "code",
   "execution_count": 8,
   "metadata": {},
   "outputs": [],
   "source": [
    "\n",
    "def get_recommended_movie_id(title):\n",
    "    #a = md.index[md['Title'] == 'The Godfather']\n",
    "    a = md[md['title'] == title]\n",
    "    if a.empty:\n",
    "        #print('Is Empty')\n",
    "        return []\n",
    "    else:\n",
    "        # print('Found Title')\n",
    "        # print(a.index)\n",
    "        \n",
    "        b = a.index.astype('int')\n",
    "        # print(b)\n",
    "        \n",
    "        # slice the cosine_similiarity matrix for this specific title\n",
    "        c = cosine_similarity[b]\n",
    "        d = c.tolist()\n",
    "        e = list(*d)\n",
    "        f = list(enumerate(e))\n",
    "        g = sorted(f, key=lambda x:x[1], reverse=True)\n",
    "        g = g[1:31]\n",
    "        movies_id = [x[0] for x in g]\n",
    "        return movies_id"
   ]
  },
  {
   "cell_type": "code",
   "execution_count": 12,
   "metadata": {
    "tags": [
     "outputPrepend",
     "outputPrepend",
     "outputPrepend",
     "outputPrepend",
     "outputPrepend",
     "outputPrepend",
     "outputPrepend",
     "outputPrepend",
     "outputPrepend",
     "outputPrepend",
     "outputPrepend",
     "outputPrepend",
     "outputPrepend",
     "outputPrepend",
     "outputPrepend",
     "outputPrepend",
     "outputPrepend",
     "outputPrepend",
     "outputPrepend",
     "outputPrepend",
     "outputPrepend",
     "outputPrepend",
     "outputPrepend",
     "outputPrepend",
     "outputPrepend",
     "outputPrepend",
     "outputPrepend",
     "outputPrepend",
     "outputPrepend",
     "outputPrepend",
     "outputPrepend",
     "outputPrepend",
     "outputPrepend",
     "outputPrepend",
     "outputPrepend",
     "outputPrepend",
     "outputPrepend",
     "outputPrepend",
     "outputPrepend",
     "outputPrepend",
     "outputPrepend",
     "outputPrepend",
     "outputPrepend",
     "outputPrepend",
     "outputPrepend",
     "outputPrepend",
     "outputPrepend"
    ]
   },
   "outputs": [
    {
     "output_type": "execute_result",
     "data": {
      "text/plain": "       Unnamed: 0  adult                              belongs_to_collection  \\\n306           307  False                                                NaN   \n781           787  False                                                NaN   \n828           834  False  {'id': 230, 'name': 'The Godfather Collection'...   \n3984         4004  False                                                NaN   \n4025         4045  False                                                NaN   \n4458         4482  False                                                NaN   \n6911         6951  False                                                NaN   \n8930         8978  False  {'id': 124951, 'name': 'Mannequin Collection',...   \n9484         9533  False                                                NaN   \n9543         9592  False                                                NaN   \n9843         9894  False                                                NaN   \n11451       11510  False                                                NaN   \n16294       16380  False                                                NaN   \n18279       18397  False                                                NaN   \n22956       23130  False                                                NaN   \n25180       25374  False                                                NaN   \n25644       25842  False                                                NaN   \n26618       26824  False                                                NaN   \n26697       26904  False                                                NaN   \n29323       29567  False                                                NaN   \n31576       31853  False                                                NaN   \n33156       33461  False                                                NaN   \n34837       35159  False                                                NaN   \n34945       35268  False                                                NaN   \n35010       35335  False                                                NaN   \n35975       36310  False                                                NaN   \n37870       38244  False                                                NaN   \n38406       38786  False                                                NaN   \n40401       40824  False  {'id': 216395, 'name': 'Parent Trap Collection...   \n40838       41273  False                                                NaN   \n\n           budget                                             genres  \\\n306           0.0                                ['Horror', 'Drama']   \n781    23000000.0                                      ['Adventure']   \n828     6000000.0                                 ['Drama', 'Crime']   \n3984          0.0                              ['Comedy', 'Fantasy']   \n4025          0.0                                    ['Documentary']   \n4458   20000000.0                                 ['Crime', 'Drama']   \n6911          0.0                                         ['Comedy']   \n8930   13000000.0  ['Fantasy', 'Comedy', 'Science Fiction', 'Roma...   \n9484          0.0                                ['Comedy', 'Drama']   \n9543          0.0                       ['Action', 'Crime', 'Drama']   \n9843          0.0                                          ['Drama']   \n11451         0.0                     ['Drama', 'Comedy', 'Romance']   \n16294         0.0                     ['Comedy', 'Drama', 'Romance']   \n18279         0.0                                          ['Drama']   \n22956         0.0                              ['Comedy', 'Romance']   \n25180         0.0  ['Drama', 'Action', 'Crime', 'Romance', 'Forei...   \n25644         0.0                                         ['Action']   \n26618         0.0                                    ['Documentary']   \n26697         0.0                              ['Drama', 'TV Movie']   \n29323         0.0                                                 []   \n31576         0.0                      ['Comedy', 'Drama', 'Family']   \n33156         0.0                                 ['Crime', 'Drama']   \n34837         0.0                                                 []   \n34945         0.0          ['Thriller', 'Horror', 'Comedy', 'Drama']   \n35010         0.0                                          ['Drama']   \n35975         0.0            ['Drama', 'Romance', 'Science Fiction']   \n37870  30000000.0                   ['Drama', 'History', 'Thriller']   \n38406         0.0                                         ['Comedy']   \n40401         0.0            ['Action', 'Comedy', 'Drama', 'Family']   \n40838         0.0                    ['Drama', 'Horror', 'TV Movie']   \n\n                                                homepage      id  imdb_id  \\\n306                                                  NaN   92769      NaN   \n781                                                  NaN   36344      NaN   \n828                         http://www.thegodfather.com/     238      NaN   \n3984                                                 NaN    2608      NaN   \n4025   http://www.irisfilms.org/films/long-nights-jou...   95682      NaN   \n4458                                                 NaN     505      NaN   \n6911                                                 NaN   51036      NaN   \n8930                                                 NaN   34376      NaN   \n9484                                                 NaN    5183      NaN   \n9543                                                 NaN   18927      NaN   \n9843                                                 NaN   52796      NaN   \n11451                                                NaN   13771      NaN   \n16294               http://www.violettendenciesmovie.com   82622      NaN   \n18279                                                NaN   26283      NaN   \n22956                   http://www.trailerparkjesus.com/  229613      NaN   \n25180                                                NaN   78566      NaN   \n25644                                                NaN  144610      NaN   \n26618                         http://vitorussomovie.com/  108917      NaN   \n26697                                                NaN  258673      NaN   \n29323                                                NaN   56177      NaN   \n31576  http://www.iontelevision.com/holiday-movie/mer...  312167      NaN   \n33156                                                NaN  152846      NaN   \n34837                                                NaN  156135      NaN   \n34945                                                NaN  279690      NaN   \n35010                                                NaN   44099      NaN   \n35975                      http://terugnaarmorgen.be/nl/  361183      NaN   \n37870                                                NaN  347938      NaN   \n38406                                                NaN  147132      NaN   \n40401                                                NaN   64183      NaN   \n40838                                                NaN  200549      NaN   \n\n      original_language                                     original_title  \\\n306                  en                                      Relative Fear   \n781                  en                                             Alaska   \n828                  en                                      The Godfather   \n3984                 en                                      Maid to Order   \n4025                 en                      Long Night's Journey Into Day   \n4458                 en                                    Johnny Handsome   \n6911                 en                                           MadHouse   \n8930                 en                         Mannequin Two: On the Move   \n9484                 en                               Travels with My Aunt   \n9543                 en                                            Stander   \n9843                 en                                    Winter Solstice   \n11451                en                                              Venus   \n16294                en                                  Violet Tendencies   \n18279                en                                The Las Vegas Story   \n22956                en                                 Trailer Park Jesus   \n25180                fr                  Ritornano quelli della calibro 38   \n25644                cn                                               妙探雙龍   \n26618                en                                               Vito   \n26697                en                              The Trip to Bountiful   \n29323                it  Fatto di sangue fra due uomini per causa di un...   \n31576                en                                       Merry Ex-Mas   \n33156                it                                La moglie più bella   \n34837                it                                           La Sfida   \n34945                en                                      He Never Died   \n35010                en                                         Temptation   \n35975                nl                                  Terug naar morgen   \n37870                en                                           11.22.63   \n38406                en                              A Bride for Christmas   \n40401                en                                    Parent Trap III   \n40838                en                        The Secret of Crickley Hall   \n\n       ...      revenue  runtime  \\\n306    ...          0.0     90.0   \n781    ...          0.0    109.0   \n828    ...  245066411.0    175.0   \n3984   ...    9868521.0     93.0   \n4025   ...          0.0     94.0   \n4458   ...    7237794.0     94.0   \n6911   ...          0.0     90.0   \n8930   ...    3752426.0     95.0   \n9484   ...          0.0    109.0   \n9543   ...      31651.0    116.0   \n9843   ...          0.0     90.0   \n11451  ...          0.0     95.0   \n16294  ...          0.0     99.0   \n18279  ...          0.0     88.0   \n22956  ...          0.0     80.0   \n25180  ...          0.0     90.0   \n25644  ...          0.0    100.0   \n26618  ...          0.0     93.0   \n26697  ...          0.0     89.0   \n29323  ...          0.0    124.0   \n31576  ...          0.0     90.0   \n33156  ...          0.0    108.0   \n34837  ...          0.0      0.0   \n34945  ...          0.0     99.0   \n35010  ...          0.0     98.0   \n35975  ...          0.0     86.0   \n37870  ...          0.0    432.0   \n38406  ...          0.0     90.0   \n40401  ...          0.0     86.0   \n40838  ...          0.0    177.0   \n\n                                        spoken_languages    status  \\\n306             [{'iso_639_1': 'en', 'name': 'English'}]  Released   \n781             [{'iso_639_1': 'en', 'name': 'English'}]  Released   \n828    [{'iso_639_1': 'en', 'name': 'English'}, {'iso...  Released   \n3984   [{'iso_639_1': 'es', 'name': 'Español'}, {'iso...  Released   \n4025   [{'iso_639_1': 'af', 'name': 'Afrikaans'}, {'i...  Released   \n4458   [{'iso_639_1': 'en', 'name': 'English'}, {'iso...  Released   \n6911            [{'iso_639_1': 'en', 'name': 'English'}]  Released   \n8930            [{'iso_639_1': 'en', 'name': 'English'}]  Released   \n9484            [{'iso_639_1': 'en', 'name': 'English'}]  Released   \n9543            [{'iso_639_1': 'en', 'name': 'English'}]  Released   \n9843            [{'iso_639_1': 'en', 'name': 'English'}]  Released   \n11451           [{'iso_639_1': 'en', 'name': 'English'}]  Released   \n16294           [{'iso_639_1': 'en', 'name': 'English'}]  Released   \n18279           [{'iso_639_1': 'en', 'name': 'English'}]  Released   \n22956           [{'iso_639_1': 'en', 'name': 'English'}]  Released   \n25180                                                 []  Released   \n25644  [{'iso_639_1': 'cn', 'name': '广州话 / 廣州話'}, {'i...  Released   \n26618           [{'iso_639_1': 'en', 'name': 'English'}]  Released   \n26697           [{'iso_639_1': 'en', 'name': 'English'}]  Released   \n29323          [{'iso_639_1': 'it', 'name': 'Italiano'}]  Released   \n31576  [{'iso_639_1': 'hu', 'name': 'Magyar'}, {'iso_...  Released   \n33156          [{'iso_639_1': 'it', 'name': 'Italiano'}]  Released   \n34837          [{'iso_639_1': 'it', 'name': 'Italiano'}]  Released   \n34945           [{'iso_639_1': 'en', 'name': 'English'}]  Released   \n35010                                                 []  Released   \n35975        [{'iso_639_1': 'nl', 'name': 'Nederlands'}]  Released   \n37870           [{'iso_639_1': 'en', 'name': 'English'}]  Released   \n38406           [{'iso_639_1': 'en', 'name': 'English'}]  Released   \n40401           [{'iso_639_1': 'en', 'name': 'English'}]  Released   \n40838  [{'iso_639_1': 'de', 'name': 'Deutsch'}, {'iso...  Released   \n\n                                                 tagline  \\\n306                Trusting your children can be deadly.   \n781    A missing father. A desperate search. An unfor...   \n828                           An offer you can't refuse.   \n3984   She was raised in a Beverly Hills mansion. Now...   \n4025       Looking into a dark past for a bright future.   \n4458   They changed his looks, his life and his futur...   \n6911   The bad news is you have houseguests. There is...   \n8930                A lively comedy about a living doll!   \n9484                                                       \n9543                           Good cop. Great criminal.   \n9843   The only way to find the future is to face the...   \n11451                                                      \n16294                     Looking for a straight answer?   \n18279                                                      \n22956  When a college student becomes stranded at a t...   \n25180                                                      \n25644                                                      \n26618                     Every revolution needs a voice   \n26697                                                      \n29323                                                      \n31576           This holiday, they're fighting for love.   \n33156                                                      \n34837                                                      \n34945                             Bullets. Blood. Bingo.   \n35010                               YOU CAN'T RESIST IT!   \n35975                                                      \n37870     When you fight the past, the past fights back.   \n38406                                                      \n40401                                                      \n40838  They came to escape the past, the past had oth...   \n\n                               title  video  vote_average vote_count  \\\n306                    Relative Fear  False           4.7        3.0   \n781                           Alaska  False           5.2       32.0   \n828                    The Godfather  False           8.5     6024.0   \n3984                   Maid to Order  False           5.2       17.0   \n4025   Long Night's Journey Into Day  False           2.5        2.0   \n4458                 Johnny Handsome  False           6.1       49.0   \n6911                        MadHouse  False           5.7       18.0   \n8930      Mannequin Two: On the Move  False           4.6       28.0   \n9484            Travels with My Aunt  False           6.3        8.0   \n9543                         Stander  False           6.1       27.0   \n9843                 Winter Solstice  False           5.3        3.0   \n11451                          Venus  False           6.5       48.0   \n16294              Violet Tendencies  False           4.5        7.0   \n18279            The Las Vegas Story  False           4.6        8.0   \n22956             Trailer Park Jesus  False           5.5        2.0   \n25180                      Gangsters  False           0.0        0.0   \n25644                      City Cops  False           7.5        5.0   \n26618                           Vito  False           8.0        3.0   \n26697          The Trip to Bountiful  False           3.8        3.0   \n29323                     Blood Feud  False           0.0        0.0   \n31576                   Merry Ex-Mas  False           1.0        2.0   \n33156        The Most Beautiful Wife  False           8.5        4.0   \n34837                       La Sfida  False           6.6        4.0   \n34945                  He Never Died  False           6.3      144.0   \n35010                     Temptation  False           5.0        1.0   \n35975               Sum of Histories  False          10.0        1.0   \n37870                       11.22.63  False           8.0      213.0   \n38406          A Bride for Christmas  False           5.6       17.0   \n40401                Parent Trap III  False           3.8        3.0   \n40838    The Secret of Crickley Hall  False           6.7        3.0   \n\n                                                keywords  \n306    Trusting your children can be deadly. Linda an...  \n781    A missing father. A desperate search. An unfor...  \n828    An offer you can't refuse. Spanning the years ...  \n3984   She was raised in a Beverly Hills mansion. Now...  \n4025   Looking into a dark past for a bright future. ...  \n4458   They changed his looks, his life and his futur...  \n6911   The bad news is you have houseguests. There is...  \n8930   A lively comedy about a living doll! Although ...  \n9484    A stodgy young man gets caught up in his free...  \n9543   Good cop. Great criminal. The life and career ...  \n9843   The only way to find the future is to face the...  \n11451   Maurice is an aging veteran actor who becomes...  \n16294  Looking for a straight answer? A woman tries t...  \n18279   When newlyweds visit Las Vegas, the wife's sh...  \n22956  When a college student becomes stranded at a t...  \n25180   A man gets caught up in a criminal organizati...  \n25644   Cindy is an American FBI agent who is current...  \n26618  Every revolution needs a voice In the aftermat...  \n26697   Carrie Watts begrudgingly lives with her busy...  \n29323   Titina Paterno, a widow in a small coastal to...  \n31576  This holiday, they're fighting for love. When ...  \n33156   Based on the story of Franca Viola and Filipp...  \n34837   Vito Polara is ambitious and wants to get as ...  \n34945  Bullets. Blood. Bingo. Jack is a solitary man ...  \n35010  YOU CAN'T RESIST IT! A Victorian-era drama abo...  \n35975    What would you do if you could change the past?  \n37870  When you fight the past, the past fights back....  \n38406   Bride-to-be Jessie Patterson calls off her th...  \n40401   When Jeff plans to marry again, his triplet d...  \n40838  They came to escape the past, the past had oth...  \n\n[30 rows x 26 columns]",
      "text/html": "<div>\n<style scoped>\n    .dataframe tbody tr th:only-of-type {\n        vertical-align: middle;\n    }\n\n    .dataframe tbody tr th {\n        vertical-align: top;\n    }\n\n    .dataframe thead th {\n        text-align: right;\n    }\n</style>\n<table border=\"1\" class=\"dataframe\">\n  <thead>\n    <tr style=\"text-align: right;\">\n      <th></th>\n      <th>Unnamed: 0</th>\n      <th>adult</th>\n      <th>belongs_to_collection</th>\n      <th>budget</th>\n      <th>genres</th>\n      <th>homepage</th>\n      <th>id</th>\n      <th>imdb_id</th>\n      <th>original_language</th>\n      <th>original_title</th>\n      <th>...</th>\n      <th>revenue</th>\n      <th>runtime</th>\n      <th>spoken_languages</th>\n      <th>status</th>\n      <th>tagline</th>\n      <th>title</th>\n      <th>video</th>\n      <th>vote_average</th>\n      <th>vote_count</th>\n      <th>keywords</th>\n    </tr>\n  </thead>\n  <tbody>\n    <tr>\n      <th>306</th>\n      <td>307</td>\n      <td>False</td>\n      <td>NaN</td>\n      <td>0.0</td>\n      <td>['Horror', 'Drama']</td>\n      <td>NaN</td>\n      <td>92769</td>\n      <td>NaN</td>\n      <td>en</td>\n      <td>Relative Fear</td>\n      <td>...</td>\n      <td>0.0</td>\n      <td>90.0</td>\n      <td>[{'iso_639_1': 'en', 'name': 'English'}]</td>\n      <td>Released</td>\n      <td>Trusting your children can be deadly.</td>\n      <td>Relative Fear</td>\n      <td>False</td>\n      <td>4.7</td>\n      <td>3.0</td>\n      <td>Trusting your children can be deadly. Linda an...</td>\n    </tr>\n    <tr>\n      <th>781</th>\n      <td>787</td>\n      <td>False</td>\n      <td>NaN</td>\n      <td>23000000.0</td>\n      <td>['Adventure']</td>\n      <td>NaN</td>\n      <td>36344</td>\n      <td>NaN</td>\n      <td>en</td>\n      <td>Alaska</td>\n      <td>...</td>\n      <td>0.0</td>\n      <td>109.0</td>\n      <td>[{'iso_639_1': 'en', 'name': 'English'}]</td>\n      <td>Released</td>\n      <td>A missing father. A desperate search. An unfor...</td>\n      <td>Alaska</td>\n      <td>False</td>\n      <td>5.2</td>\n      <td>32.0</td>\n      <td>A missing father. A desperate search. An unfor...</td>\n    </tr>\n    <tr>\n      <th>828</th>\n      <td>834</td>\n      <td>False</td>\n      <td>{'id': 230, 'name': 'The Godfather Collection'...</td>\n      <td>6000000.0</td>\n      <td>['Drama', 'Crime']</td>\n      <td>http://www.thegodfather.com/</td>\n      <td>238</td>\n      <td>NaN</td>\n      <td>en</td>\n      <td>The Godfather</td>\n      <td>...</td>\n      <td>245066411.0</td>\n      <td>175.0</td>\n      <td>[{'iso_639_1': 'en', 'name': 'English'}, {'iso...</td>\n      <td>Released</td>\n      <td>An offer you can't refuse.</td>\n      <td>The Godfather</td>\n      <td>False</td>\n      <td>8.5</td>\n      <td>6024.0</td>\n      <td>An offer you can't refuse. Spanning the years ...</td>\n    </tr>\n    <tr>\n      <th>3984</th>\n      <td>4004</td>\n      <td>False</td>\n      <td>NaN</td>\n      <td>0.0</td>\n      <td>['Comedy', 'Fantasy']</td>\n      <td>NaN</td>\n      <td>2608</td>\n      <td>NaN</td>\n      <td>en</td>\n      <td>Maid to Order</td>\n      <td>...</td>\n      <td>9868521.0</td>\n      <td>93.0</td>\n      <td>[{'iso_639_1': 'es', 'name': 'Español'}, {'iso...</td>\n      <td>Released</td>\n      <td>She was raised in a Beverly Hills mansion. Now...</td>\n      <td>Maid to Order</td>\n      <td>False</td>\n      <td>5.2</td>\n      <td>17.0</td>\n      <td>She was raised in a Beverly Hills mansion. Now...</td>\n    </tr>\n    <tr>\n      <th>4025</th>\n      <td>4045</td>\n      <td>False</td>\n      <td>NaN</td>\n      <td>0.0</td>\n      <td>['Documentary']</td>\n      <td>http://www.irisfilms.org/films/long-nights-jou...</td>\n      <td>95682</td>\n      <td>NaN</td>\n      <td>en</td>\n      <td>Long Night's Journey Into Day</td>\n      <td>...</td>\n      <td>0.0</td>\n      <td>94.0</td>\n      <td>[{'iso_639_1': 'af', 'name': 'Afrikaans'}, {'i...</td>\n      <td>Released</td>\n      <td>Looking into a dark past for a bright future.</td>\n      <td>Long Night's Journey Into Day</td>\n      <td>False</td>\n      <td>2.5</td>\n      <td>2.0</td>\n      <td>Looking into a dark past for a bright future. ...</td>\n    </tr>\n    <tr>\n      <th>4458</th>\n      <td>4482</td>\n      <td>False</td>\n      <td>NaN</td>\n      <td>20000000.0</td>\n      <td>['Crime', 'Drama']</td>\n      <td>NaN</td>\n      <td>505</td>\n      <td>NaN</td>\n      <td>en</td>\n      <td>Johnny Handsome</td>\n      <td>...</td>\n      <td>7237794.0</td>\n      <td>94.0</td>\n      <td>[{'iso_639_1': 'en', 'name': 'English'}, {'iso...</td>\n      <td>Released</td>\n      <td>They changed his looks, his life and his futur...</td>\n      <td>Johnny Handsome</td>\n      <td>False</td>\n      <td>6.1</td>\n      <td>49.0</td>\n      <td>They changed his looks, his life and his futur...</td>\n    </tr>\n    <tr>\n      <th>6911</th>\n      <td>6951</td>\n      <td>False</td>\n      <td>NaN</td>\n      <td>0.0</td>\n      <td>['Comedy']</td>\n      <td>NaN</td>\n      <td>51036</td>\n      <td>NaN</td>\n      <td>en</td>\n      <td>MadHouse</td>\n      <td>...</td>\n      <td>0.0</td>\n      <td>90.0</td>\n      <td>[{'iso_639_1': 'en', 'name': 'English'}]</td>\n      <td>Released</td>\n      <td>The bad news is you have houseguests. There is...</td>\n      <td>MadHouse</td>\n      <td>False</td>\n      <td>5.7</td>\n      <td>18.0</td>\n      <td>The bad news is you have houseguests. There is...</td>\n    </tr>\n    <tr>\n      <th>8930</th>\n      <td>8978</td>\n      <td>False</td>\n      <td>{'id': 124951, 'name': 'Mannequin Collection',...</td>\n      <td>13000000.0</td>\n      <td>['Fantasy', 'Comedy', 'Science Fiction', 'Roma...</td>\n      <td>NaN</td>\n      <td>34376</td>\n      <td>NaN</td>\n      <td>en</td>\n      <td>Mannequin Two: On the Move</td>\n      <td>...</td>\n      <td>3752426.0</td>\n      <td>95.0</td>\n      <td>[{'iso_639_1': 'en', 'name': 'English'}]</td>\n      <td>Released</td>\n      <td>A lively comedy about a living doll!</td>\n      <td>Mannequin Two: On the Move</td>\n      <td>False</td>\n      <td>4.6</td>\n      <td>28.0</td>\n      <td>A lively comedy about a living doll! Although ...</td>\n    </tr>\n    <tr>\n      <th>9484</th>\n      <td>9533</td>\n      <td>False</td>\n      <td>NaN</td>\n      <td>0.0</td>\n      <td>['Comedy', 'Drama']</td>\n      <td>NaN</td>\n      <td>5183</td>\n      <td>NaN</td>\n      <td>en</td>\n      <td>Travels with My Aunt</td>\n      <td>...</td>\n      <td>0.0</td>\n      <td>109.0</td>\n      <td>[{'iso_639_1': 'en', 'name': 'English'}]</td>\n      <td>Released</td>\n      <td></td>\n      <td>Travels with My Aunt</td>\n      <td>False</td>\n      <td>6.3</td>\n      <td>8.0</td>\n      <td>A stodgy young man gets caught up in his free...</td>\n    </tr>\n    <tr>\n      <th>9543</th>\n      <td>9592</td>\n      <td>False</td>\n      <td>NaN</td>\n      <td>0.0</td>\n      <td>['Action', 'Crime', 'Drama']</td>\n      <td>NaN</td>\n      <td>18927</td>\n      <td>NaN</td>\n      <td>en</td>\n      <td>Stander</td>\n      <td>...</td>\n      <td>31651.0</td>\n      <td>116.0</td>\n      <td>[{'iso_639_1': 'en', 'name': 'English'}]</td>\n      <td>Released</td>\n      <td>Good cop. Great criminal.</td>\n      <td>Stander</td>\n      <td>False</td>\n      <td>6.1</td>\n      <td>27.0</td>\n      <td>Good cop. Great criminal. The life and career ...</td>\n    </tr>\n    <tr>\n      <th>9843</th>\n      <td>9894</td>\n      <td>False</td>\n      <td>NaN</td>\n      <td>0.0</td>\n      <td>['Drama']</td>\n      <td>NaN</td>\n      <td>52796</td>\n      <td>NaN</td>\n      <td>en</td>\n      <td>Winter Solstice</td>\n      <td>...</td>\n      <td>0.0</td>\n      <td>90.0</td>\n      <td>[{'iso_639_1': 'en', 'name': 'English'}]</td>\n      <td>Released</td>\n      <td>The only way to find the future is to face the...</td>\n      <td>Winter Solstice</td>\n      <td>False</td>\n      <td>5.3</td>\n      <td>3.0</td>\n      <td>The only way to find the future is to face the...</td>\n    </tr>\n    <tr>\n      <th>11451</th>\n      <td>11510</td>\n      <td>False</td>\n      <td>NaN</td>\n      <td>0.0</td>\n      <td>['Drama', 'Comedy', 'Romance']</td>\n      <td>NaN</td>\n      <td>13771</td>\n      <td>NaN</td>\n      <td>en</td>\n      <td>Venus</td>\n      <td>...</td>\n      <td>0.0</td>\n      <td>95.0</td>\n      <td>[{'iso_639_1': 'en', 'name': 'English'}]</td>\n      <td>Released</td>\n      <td></td>\n      <td>Venus</td>\n      <td>False</td>\n      <td>6.5</td>\n      <td>48.0</td>\n      <td>Maurice is an aging veteran actor who becomes...</td>\n    </tr>\n    <tr>\n      <th>16294</th>\n      <td>16380</td>\n      <td>False</td>\n      <td>NaN</td>\n      <td>0.0</td>\n      <td>['Comedy', 'Drama', 'Romance']</td>\n      <td>http://www.violettendenciesmovie.com</td>\n      <td>82622</td>\n      <td>NaN</td>\n      <td>en</td>\n      <td>Violet Tendencies</td>\n      <td>...</td>\n      <td>0.0</td>\n      <td>99.0</td>\n      <td>[{'iso_639_1': 'en', 'name': 'English'}]</td>\n      <td>Released</td>\n      <td>Looking for a straight answer?</td>\n      <td>Violet Tendencies</td>\n      <td>False</td>\n      <td>4.5</td>\n      <td>7.0</td>\n      <td>Looking for a straight answer? A woman tries t...</td>\n    </tr>\n    <tr>\n      <th>18279</th>\n      <td>18397</td>\n      <td>False</td>\n      <td>NaN</td>\n      <td>0.0</td>\n      <td>['Drama']</td>\n      <td>NaN</td>\n      <td>26283</td>\n      <td>NaN</td>\n      <td>en</td>\n      <td>The Las Vegas Story</td>\n      <td>...</td>\n      <td>0.0</td>\n      <td>88.0</td>\n      <td>[{'iso_639_1': 'en', 'name': 'English'}]</td>\n      <td>Released</td>\n      <td></td>\n      <td>The Las Vegas Story</td>\n      <td>False</td>\n      <td>4.6</td>\n      <td>8.0</td>\n      <td>When newlyweds visit Las Vegas, the wife's sh...</td>\n    </tr>\n    <tr>\n      <th>22956</th>\n      <td>23130</td>\n      <td>False</td>\n      <td>NaN</td>\n      <td>0.0</td>\n      <td>['Comedy', 'Romance']</td>\n      <td>http://www.trailerparkjesus.com/</td>\n      <td>229613</td>\n      <td>NaN</td>\n      <td>en</td>\n      <td>Trailer Park Jesus</td>\n      <td>...</td>\n      <td>0.0</td>\n      <td>80.0</td>\n      <td>[{'iso_639_1': 'en', 'name': 'English'}]</td>\n      <td>Released</td>\n      <td>When a college student becomes stranded at a t...</td>\n      <td>Trailer Park Jesus</td>\n      <td>False</td>\n      <td>5.5</td>\n      <td>2.0</td>\n      <td>When a college student becomes stranded at a t...</td>\n    </tr>\n    <tr>\n      <th>25180</th>\n      <td>25374</td>\n      <td>False</td>\n      <td>NaN</td>\n      <td>0.0</td>\n      <td>['Drama', 'Action', 'Crime', 'Romance', 'Forei...</td>\n      <td>NaN</td>\n      <td>78566</td>\n      <td>NaN</td>\n      <td>fr</td>\n      <td>Ritornano quelli della calibro 38</td>\n      <td>...</td>\n      <td>0.0</td>\n      <td>90.0</td>\n      <td>[]</td>\n      <td>Released</td>\n      <td></td>\n      <td>Gangsters</td>\n      <td>False</td>\n      <td>0.0</td>\n      <td>0.0</td>\n      <td>A man gets caught up in a criminal organizati...</td>\n    </tr>\n    <tr>\n      <th>25644</th>\n      <td>25842</td>\n      <td>False</td>\n      <td>NaN</td>\n      <td>0.0</td>\n      <td>['Action']</td>\n      <td>NaN</td>\n      <td>144610</td>\n      <td>NaN</td>\n      <td>cn</td>\n      <td>妙探雙龍</td>\n      <td>...</td>\n      <td>0.0</td>\n      <td>100.0</td>\n      <td>[{'iso_639_1': 'cn', 'name': '广州话 / 廣州話'}, {'i...</td>\n      <td>Released</td>\n      <td></td>\n      <td>City Cops</td>\n      <td>False</td>\n      <td>7.5</td>\n      <td>5.0</td>\n      <td>Cindy is an American FBI agent who is current...</td>\n    </tr>\n    <tr>\n      <th>26618</th>\n      <td>26824</td>\n      <td>False</td>\n      <td>NaN</td>\n      <td>0.0</td>\n      <td>['Documentary']</td>\n      <td>http://vitorussomovie.com/</td>\n      <td>108917</td>\n      <td>NaN</td>\n      <td>en</td>\n      <td>Vito</td>\n      <td>...</td>\n      <td>0.0</td>\n      <td>93.0</td>\n      <td>[{'iso_639_1': 'en', 'name': 'English'}]</td>\n      <td>Released</td>\n      <td>Every revolution needs a voice</td>\n      <td>Vito</td>\n      <td>False</td>\n      <td>8.0</td>\n      <td>3.0</td>\n      <td>Every revolution needs a voice In the aftermat...</td>\n    </tr>\n    <tr>\n      <th>26697</th>\n      <td>26904</td>\n      <td>False</td>\n      <td>NaN</td>\n      <td>0.0</td>\n      <td>['Drama', 'TV Movie']</td>\n      <td>NaN</td>\n      <td>258673</td>\n      <td>NaN</td>\n      <td>en</td>\n      <td>The Trip to Bountiful</td>\n      <td>...</td>\n      <td>0.0</td>\n      <td>89.0</td>\n      <td>[{'iso_639_1': 'en', 'name': 'English'}]</td>\n      <td>Released</td>\n      <td></td>\n      <td>The Trip to Bountiful</td>\n      <td>False</td>\n      <td>3.8</td>\n      <td>3.0</td>\n      <td>Carrie Watts begrudgingly lives with her busy...</td>\n    </tr>\n    <tr>\n      <th>29323</th>\n      <td>29567</td>\n      <td>False</td>\n      <td>NaN</td>\n      <td>0.0</td>\n      <td>[]</td>\n      <td>NaN</td>\n      <td>56177</td>\n      <td>NaN</td>\n      <td>it</td>\n      <td>Fatto di sangue fra due uomini per causa di un...</td>\n      <td>...</td>\n      <td>0.0</td>\n      <td>124.0</td>\n      <td>[{'iso_639_1': 'it', 'name': 'Italiano'}]</td>\n      <td>Released</td>\n      <td></td>\n      <td>Blood Feud</td>\n      <td>False</td>\n      <td>0.0</td>\n      <td>0.0</td>\n      <td>Titina Paterno, a widow in a small coastal to...</td>\n    </tr>\n    <tr>\n      <th>31576</th>\n      <td>31853</td>\n      <td>False</td>\n      <td>NaN</td>\n      <td>0.0</td>\n      <td>['Comedy', 'Drama', 'Family']</td>\n      <td>http://www.iontelevision.com/holiday-movie/mer...</td>\n      <td>312167</td>\n      <td>NaN</td>\n      <td>en</td>\n      <td>Merry Ex-Mas</td>\n      <td>...</td>\n      <td>0.0</td>\n      <td>90.0</td>\n      <td>[{'iso_639_1': 'hu', 'name': 'Magyar'}, {'iso_...</td>\n      <td>Released</td>\n      <td>This holiday, they're fighting for love.</td>\n      <td>Merry Ex-Mas</td>\n      <td>False</td>\n      <td>1.0</td>\n      <td>2.0</td>\n      <td>This holiday, they're fighting for love. When ...</td>\n    </tr>\n    <tr>\n      <th>33156</th>\n      <td>33461</td>\n      <td>False</td>\n      <td>NaN</td>\n      <td>0.0</td>\n      <td>['Crime', 'Drama']</td>\n      <td>NaN</td>\n      <td>152846</td>\n      <td>NaN</td>\n      <td>it</td>\n      <td>La moglie più bella</td>\n      <td>...</td>\n      <td>0.0</td>\n      <td>108.0</td>\n      <td>[{'iso_639_1': 'it', 'name': 'Italiano'}]</td>\n      <td>Released</td>\n      <td></td>\n      <td>The Most Beautiful Wife</td>\n      <td>False</td>\n      <td>8.5</td>\n      <td>4.0</td>\n      <td>Based on the story of Franca Viola and Filipp...</td>\n    </tr>\n    <tr>\n      <th>34837</th>\n      <td>35159</td>\n      <td>False</td>\n      <td>NaN</td>\n      <td>0.0</td>\n      <td>[]</td>\n      <td>NaN</td>\n      <td>156135</td>\n      <td>NaN</td>\n      <td>it</td>\n      <td>La Sfida</td>\n      <td>...</td>\n      <td>0.0</td>\n      <td>0.0</td>\n      <td>[{'iso_639_1': 'it', 'name': 'Italiano'}]</td>\n      <td>Released</td>\n      <td></td>\n      <td>La Sfida</td>\n      <td>False</td>\n      <td>6.6</td>\n      <td>4.0</td>\n      <td>Vito Polara is ambitious and wants to get as ...</td>\n    </tr>\n    <tr>\n      <th>34945</th>\n      <td>35268</td>\n      <td>False</td>\n      <td>NaN</td>\n      <td>0.0</td>\n      <td>['Thriller', 'Horror', 'Comedy', 'Drama']</td>\n      <td>NaN</td>\n      <td>279690</td>\n      <td>NaN</td>\n      <td>en</td>\n      <td>He Never Died</td>\n      <td>...</td>\n      <td>0.0</td>\n      <td>99.0</td>\n      <td>[{'iso_639_1': 'en', 'name': 'English'}]</td>\n      <td>Released</td>\n      <td>Bullets. Blood. Bingo.</td>\n      <td>He Never Died</td>\n      <td>False</td>\n      <td>6.3</td>\n      <td>144.0</td>\n      <td>Bullets. Blood. Bingo. Jack is a solitary man ...</td>\n    </tr>\n    <tr>\n      <th>35010</th>\n      <td>35335</td>\n      <td>False</td>\n      <td>NaN</td>\n      <td>0.0</td>\n      <td>['Drama']</td>\n      <td>NaN</td>\n      <td>44099</td>\n      <td>NaN</td>\n      <td>en</td>\n      <td>Temptation</td>\n      <td>...</td>\n      <td>0.0</td>\n      <td>98.0</td>\n      <td>[]</td>\n      <td>Released</td>\n      <td>YOU CAN'T RESIST IT!</td>\n      <td>Temptation</td>\n      <td>False</td>\n      <td>5.0</td>\n      <td>1.0</td>\n      <td>YOU CAN'T RESIST IT! A Victorian-era drama abo...</td>\n    </tr>\n    <tr>\n      <th>35975</th>\n      <td>36310</td>\n      <td>False</td>\n      <td>NaN</td>\n      <td>0.0</td>\n      <td>['Drama', 'Romance', 'Science Fiction']</td>\n      <td>http://terugnaarmorgen.be/nl/</td>\n      <td>361183</td>\n      <td>NaN</td>\n      <td>nl</td>\n      <td>Terug naar morgen</td>\n      <td>...</td>\n      <td>0.0</td>\n      <td>86.0</td>\n      <td>[{'iso_639_1': 'nl', 'name': 'Nederlands'}]</td>\n      <td>Released</td>\n      <td></td>\n      <td>Sum of Histories</td>\n      <td>False</td>\n      <td>10.0</td>\n      <td>1.0</td>\n      <td>What would you do if you could change the past?</td>\n    </tr>\n    <tr>\n      <th>37870</th>\n      <td>38244</td>\n      <td>False</td>\n      <td>NaN</td>\n      <td>30000000.0</td>\n      <td>['Drama', 'History', 'Thriller']</td>\n      <td>NaN</td>\n      <td>347938</td>\n      <td>NaN</td>\n      <td>en</td>\n      <td>11.22.63</td>\n      <td>...</td>\n      <td>0.0</td>\n      <td>432.0</td>\n      <td>[{'iso_639_1': 'en', 'name': 'English'}]</td>\n      <td>Released</td>\n      <td>When you fight the past, the past fights back.</td>\n      <td>11.22.63</td>\n      <td>False</td>\n      <td>8.0</td>\n      <td>213.0</td>\n      <td>When you fight the past, the past fights back....</td>\n    </tr>\n    <tr>\n      <th>38406</th>\n      <td>38786</td>\n      <td>False</td>\n      <td>NaN</td>\n      <td>0.0</td>\n      <td>['Comedy']</td>\n      <td>NaN</td>\n      <td>147132</td>\n      <td>NaN</td>\n      <td>en</td>\n      <td>A Bride for Christmas</td>\n      <td>...</td>\n      <td>0.0</td>\n      <td>90.0</td>\n      <td>[{'iso_639_1': 'en', 'name': 'English'}]</td>\n      <td>Released</td>\n      <td></td>\n      <td>A Bride for Christmas</td>\n      <td>False</td>\n      <td>5.6</td>\n      <td>17.0</td>\n      <td>Bride-to-be Jessie Patterson calls off her th...</td>\n    </tr>\n    <tr>\n      <th>40401</th>\n      <td>40824</td>\n      <td>False</td>\n      <td>{'id': 216395, 'name': 'Parent Trap Collection...</td>\n      <td>0.0</td>\n      <td>['Action', 'Comedy', 'Drama', 'Family']</td>\n      <td>NaN</td>\n      <td>64183</td>\n      <td>NaN</td>\n      <td>en</td>\n      <td>Parent Trap III</td>\n      <td>...</td>\n      <td>0.0</td>\n      <td>86.0</td>\n      <td>[{'iso_639_1': 'en', 'name': 'English'}]</td>\n      <td>Released</td>\n      <td></td>\n      <td>Parent Trap III</td>\n      <td>False</td>\n      <td>3.8</td>\n      <td>3.0</td>\n      <td>When Jeff plans to marry again, his triplet d...</td>\n    </tr>\n    <tr>\n      <th>40838</th>\n      <td>41273</td>\n      <td>False</td>\n      <td>NaN</td>\n      <td>0.0</td>\n      <td>['Drama', 'Horror', 'TV Movie']</td>\n      <td>NaN</td>\n      <td>200549</td>\n      <td>NaN</td>\n      <td>en</td>\n      <td>The Secret of Crickley Hall</td>\n      <td>...</td>\n      <td>0.0</td>\n      <td>177.0</td>\n      <td>[{'iso_639_1': 'de', 'name': 'Deutsch'}, {'iso...</td>\n      <td>Released</td>\n      <td>They came to escape the past, the past had oth...</td>\n      <td>The Secret of Crickley Hall</td>\n      <td>False</td>\n      <td>6.7</td>\n      <td>3.0</td>\n      <td>They came to escape the past, the past had oth...</td>\n    </tr>\n  </tbody>\n</table>\n<p>30 rows × 26 columns</p>\n</div>"
     },
     "metadata": {},
     "execution_count": 12
    }
   ],
   "source": [
    "movie_lst = get_recommended_movie_id('Family Business')\n",
    "rec_df = md[md.index.isin(movie_lst)]\n",
    "rec_df"
   ]
  },
  {
   "cell_type": "code",
   "execution_count": 13,
   "metadata": {},
   "outputs": [
    {
     "output_type": "execute_result",
     "data": {
      "text/plain": "       Unnamed: 0  adult                              belongs_to_collection  \\\n584           585  False  {'id': 120794, 'name': 'Batman Collection', 'p...   \n811           817  False                                                NaN   \n1321         1328  False  {'id': 120794, 'name': 'Batman Collection', 'p...   \n1482         1491  False  {'id': 120794, 'name': 'Batman Collection', 'p...   \n2466         2480  False                                                NaN   \n3079         3095  False  {'id': 421904, 'name': 'Batman (DC Universe An...   \n7868         7912  False                                                NaN   \n9181         9230  False  {'id': 379475, 'name': 'Batman Beyond Collecti...   \n10070       10122  False  {'id': 263, 'name': 'The Dark Knight Collectio...   \n10286       10338  False                                                NaN   \n12421       12481  False  {'id': 263, 'name': 'The Dark Knight Collectio...   \n12794       12856  False                                                NaN   \n15433       15511  False                                                NaN   \n17927       18035  False                                                NaN   \n18025       18139  False                                                NaN   \n18136       18252  False  {'id': 263, 'name': 'The Dark Knight Collectio...   \n19658       19792  False  {'id': 248534, 'name': 'Batman: The Dark Knigh...   \n20092       20232  False  {'id': 248534, 'name': 'Batman: The Dark Knigh...   \n21042       21194  False                                                NaN   \n21247       21400  False  {'id': 421904, 'name': 'Batman (DC Universe An...   \n21748       21908  False  {'id': 90031, 'name': 'Inner Sanctum mysteries...   \n21856       22021  False                                                NaN   \n31340       31611  False                                                NaN   \n35650       35983  False  {'id': 334996, 'name': 'Son of Batman Collecti...   \n40521       40946  False                                                NaN   \n40549       40974  False  {'id': 386162, 'name': 'LEGO DC Comics Super H...   \n41530       41976  False  {'id': 325470, 'name': 'The Lego Movie Collect...   \n41536       41982  False                                                NaN   \n43296       43779  False                                                NaN   \n44461       44980  False  {'id': 379475, 'name': 'Batman Beyond Collecti...   \n\n            budget                                             genres  \\\n584     35000000.0                              ['Fantasy', 'Action']   \n811            0.0                    ['Drama', 'Horror', 'Thriller']   \n1321    80000000.0                              ['Action', 'Fantasy']   \n1482   125000000.0                     ['Action', 'Crime', 'Fantasy']   \n2466     2900000.0                              ['Drama', 'Thriller']   \n3079     6000000.0     ['Action', 'Adventure', 'Animation', 'Family']   \n7868           0.0                   ['Drama', 'Mystery', 'Thriller']   \n9181           0.0                            ['Animation', 'Family']   \n10070  150000000.0                       ['Action', 'Crime', 'Drama']   \n10286    1000000.0                             ['Horror', 'Thriller']   \n12421  185000000.0           ['Drama', 'Action', 'Crime', 'Thriller']   \n12794    3500000.0               ['Animation', 'Action', 'Adventure']   \n15433          0.0                            ['Action', 'Animation']   \n17927          0.0  ['Action', 'Adventure', 'Animation', 'Crime', ...   \n18025          0.0          ['Action', 'Science Fiction', 'Thriller']   \n18136  250000000.0           ['Action', 'Crime', 'Drama', 'Thriller']   \n19658    3500000.0                            ['Action', 'Animation']   \n20092    3500000.0                            ['Action', 'Animation']   \n21042          0.0                                    ['Documentary']   \n21247          0.0  ['Adventure', 'Fantasy', 'Animation', 'Action'...   \n21748          0.0                            ['Mystery', 'Thriller']   \n21856          0.0                      ['Drama', 'Comedy', 'Action']   \n31340          0.0  ['Mystery', 'Comedy', 'Drama', 'Science Fiction']   \n35650    3500000.0         ['Action', 'Animation', 'Science Fiction']   \n40521    3500000.0                  ['Action', 'Animation', 'Comedy']   \n40549          0.0     ['Action', 'Adventure', 'Animation', 'Family']   \n41530   80000000.0  ['Action', 'Animation', 'Comedy', 'Family', 'F...   \n41536          0.0         ['Action', 'Animation', 'Science Fiction']   \n43296          0.0                                    ['Documentary']   \n44461          0.0                  ['Animation', 'Action', 'Family']   \n\n                                                homepage      id  imdb_id  \\\n584                                                  NaN     268      NaN   \n811                                                  NaN   31417      NaN   \n1321                                                 NaN     364      NaN   \n1482                                                 NaN     415      NaN   \n2466                                                 NaN    1902      NaN   \n3079                                                 NaN   14919      NaN   \n7868                                                 NaN   10742      NaN   \n9181                                                 NaN   16234      NaN   \n10070  http://www2.warnerbros.com/batmanbegins/index....     272      NaN   \n10286                                                NaN   10092      NaN   \n12421       http://thedarkknight.warnerbros.com/dvdsite/     155      NaN   \n12794     http://www.warnervideo.com/batmangothamknight/   13851      NaN   \n15433    http://www.warnerbros.com/batman-under-red-hood   40662      NaN   \n17927   https://www.warnerbros.com/batman-year-one/about   69735      NaN   \n18025                                                NaN   93560      NaN   \n18136                 http://www.thedarkknightrises.com/   49026      NaN   \n19658                                                NaN  123025      NaN   \n20092                                                NaN  142061      NaN   \n21042                            http://www.history.com/   29751      NaN   \n21247                                                NaN   21683      NaN   \n21748                                                NaN   64077      NaN   \n21856                                                NaN   84324      NaN   \n31340                        http://deaththemovie.co.uk/  257975      NaN   \n35650                                                NaN  366924      NaN   \n40521  https://www.warnerbros.co.uk/movies/batman-ret...  411736      NaN   \n40549                                                NaN  300424      NaN   \n41530                          http://www.legobatman.com  324849      NaN   \n41536                                                NaN  269246      NaN   \n43296                                                NaN  456348      NaN   \n44461                                                NaN   64202      NaN   \n\n      original_language                                     original_title  \\\n584                  en                                             Batman   \n811                  fr                               Les Yeux sans visage   \n1321                 en                                     Batman Returns   \n1482                 en                                     Batman & Robin   \n2466                 es                                      Abre los ojos   \n3079                 en                       Batman: Mask of the Phantasm   \n7868                 en                                       The Clearing   \n9181                 en                 Batman Beyond: Return of the Joker   \n10070                en                                      Batman Begins   \n10286                en                                           Cry_Wolf   \n12421                en                                    The Dark Knight   \n12794                en                              Batman: Gotham Knight   \n15433                en                         Batman: Under the Red Hood   \n17927                en                                   Batman: Year One   \n18025                en                                   Batman and Robin   \n18136                en                              The Dark Knight Rises   \n19658                en            Batman: The Dark Knight Returns, Part 1   \n20092                en            Batman: The Dark Knight Returns, Part 2   \n21042                en  Batman Unmasked: The Psychology of the Dark Kn...   \n21247                en                    Batman: Mystery of the Batwoman   \n21748                en                                    Pillow of Death   \n21856                en                                     The Super Cops   \n31340                en                                        After Death   \n35650                en                                  Batman: Bad Blood   \n40521                en              Batman: Return of the Caped Crusaders   \n40549                en  LEGO DC Comics Super Heroes: Batman: Be-Leaguered   \n41530                en                              The Lego Batman Movie   \n41536                en  Batman Beyond Darwyn Cooke's Batman 75th Anniv...   \n43296                en                                      Batman & Bill   \n44461                en                           Batman Beyond: The Movie   \n\n       ...       revenue  runtime  \\\n584    ...  4.113489e+08    126.0   \n811    ...  0.000000e+00     90.0   \n1321   ...  2.800000e+08    126.0   \n1482   ...  2.382071e+08    125.0   \n2466   ...  3.682340e+05    117.0   \n3079   ...  5.617391e+06     76.0   \n7868   ...  1.252080e+07     95.0   \n9181   ...  0.000000e+00     74.0   \n10070  ...  3.742187e+08    140.0   \n10286  ...  1.004767e+07     90.0   \n12421  ...  1.004558e+09    152.0   \n12794  ...  0.000000e+00     75.0   \n15433  ...  6.629178e+06     75.0   \n17927  ...  0.000000e+00     64.0   \n18025  ...  0.000000e+00    263.0   \n18136  ...  1.084939e+09    165.0   \n19658  ...  0.000000e+00     76.0   \n20092  ...  0.000000e+00     78.0   \n21042  ...  0.000000e+00     45.0   \n21247  ...  0.000000e+00     74.0   \n21748  ...  0.000000e+00     66.0   \n21856  ...  0.000000e+00     90.0   \n31340  ...  0.000000e+00    105.0   \n35650  ...  0.000000e+00     72.0   \n40521  ...  0.000000e+00     78.0   \n40549  ...  0.000000e+00     22.0   \n41530  ...  3.119504e+08    104.0   \n41536  ...  0.000000e+00      1.0   \n43296  ...  0.000000e+00     93.0   \n44461  ...  0.000000e+00    132.0   \n\n                                        spoken_languages    status  \\\n584    [{'iso_639_1': 'en', 'name': 'English'}, {'iso...  Released   \n811            [{'iso_639_1': 'fr', 'name': 'Français'}]  Released   \n1321            [{'iso_639_1': 'en', 'name': 'English'}]  Released   \n1482            [{'iso_639_1': 'en', 'name': 'English'}]  Released   \n2466            [{'iso_639_1': 'es', 'name': 'Español'}]  Released   \n3079   [{'iso_639_1': 'cs', 'name': 'Český'}, {'iso_6...  Released   \n7868            [{'iso_639_1': 'en', 'name': 'English'}]  Released   \n9181            [{'iso_639_1': 'en', 'name': 'English'}]  Released   \n10070  [{'iso_639_1': 'en', 'name': 'English'}, {'iso...  Released   \n10286  [{'iso_639_1': 'en', 'name': 'English'}, {'iso...  Released   \n12421  [{'iso_639_1': 'en', 'name': 'English'}, {'iso...  Released   \n12794  [{'iso_639_1': 'en', 'name': 'English'}, {'iso...  Released   \n15433           [{'iso_639_1': 'en', 'name': 'English'}]  Released   \n17927  [{'iso_639_1': 'en', 'name': 'English'}, {'iso...  Released   \n18025           [{'iso_639_1': 'en', 'name': 'English'}]  Released   \n18136           [{'iso_639_1': 'en', 'name': 'English'}]  Released   \n19658  [{'iso_639_1': 'en', 'name': 'English'}, {'iso...  Released   \n20092           [{'iso_639_1': 'en', 'name': 'English'}]  Released   \n21042           [{'iso_639_1': 'en', 'name': 'English'}]  Released   \n21247  [{'iso_639_1': 'cs', 'name': 'Český'}, {'iso_6...  Released   \n21748           [{'iso_639_1': 'en', 'name': 'English'}]  Released   \n21856           [{'iso_639_1': 'en', 'name': 'English'}]  Released   \n31340           [{'iso_639_1': 'en', 'name': 'English'}]  Released   \n35650           [{'iso_639_1': 'en', 'name': 'English'}]  Released   \n40521           [{'iso_639_1': 'en', 'name': 'English'}]  Released   \n40549           [{'iso_639_1': 'en', 'name': 'English'}]  Released   \n41530           [{'iso_639_1': 'en', 'name': 'English'}]  Released   \n41536           [{'iso_639_1': 'en', 'name': 'English'}]  Released   \n43296           [{'iso_639_1': 'en', 'name': 'English'}]  Released   \n44461           [{'iso_639_1': 'en', 'name': 'English'}]  Released   \n\n                                                 tagline  \\\n584    Have you ever danced with the devil in the pal...   \n811                                                        \n1321                      The Bat, the Cat, the Penguin.   \n1482              Strength. Courage. Honor. And loyalty.   \n2466                                                       \n3079   The Dark Knight fights to save Gotham city fro...   \n7868                                                       \n9181                        This Time, The Joker Is Wild   \n10070                             Evil fears the knight.   \n10286  Nobody believes a liar...even when they're tel...   \n12421                                    Why So Serious?   \n12794                 Get Ready... to Rage Against Evil.   \n15433                     Dare to Look Beneath the Hood.   \n17927      A merciless crime turns a man into an outlaw.   \n18025                                                      \n18136                                    The Legend Ends   \n19658        Old heroes never die. They just get darker.   \n20092  Justice Returns... Vengeance Returns... Redemp...   \n21042                                                      \n21247          Gotham City's newest hero... or criminal?   \n21748                HATE! Crawling back from the grave!   \n21856  The true story of the two cops called Batman a...   \n31340              Love and guilt are easy to confuse...   \n35650                         Justice runs in the family   \n40521                           The crusade continues...   \n40549                                                      \n41530      Always be yourself. Unless you can be Batman.   \n41536                                                      \n43296                                                      \n44461                          A New Hero, For A New Era   \n\n                                                   title  video  vote_average  \\\n584                                               Batman  False           7.0   \n811                                  Eyes Without a Face  False           7.5   \n1321                                      Batman Returns  False           6.6   \n1482                                      Batman & Robin  False           4.2   \n2466                                      Open Your Eyes  False           7.4   \n3079                        Batman: Mask of the Phantasm  False           7.4   \n7868                                        The Clearing  False           5.6   \n9181                  Batman Beyond: Return of the Joker  False           7.5   \n10070                                      Batman Begins  False           7.5   \n10286                                           Cry_Wolf  False           5.6   \n12421                                    The Dark Knight  False           8.3   \n12794                              Batman: Gotham Knight  False           6.7   \n15433                         Batman: Under the Red Hood  False           7.6   \n17927                                   Batman: Year One  False           7.1   \n18025                                   Batman and Robin  False           6.2   \n18136                              The Dark Knight Rises  False           7.6   \n19658            Batman: The Dark Knight Returns, Part 1  False           7.7   \n20092            Batman: The Dark Knight Returns, Part 2  False           7.9   \n21042  Batman Unmasked: The Psychology of the Dark Kn...  False           8.0   \n21247                    Batman: Mystery of the Batwoman  False           6.6   \n21748                                    Pillow of Death  False           6.5   \n21856                                     The Super Cops  False           6.2   \n31340                                        After Death  False           4.3   \n35650                                  Batman: Bad Blood  False           6.8   \n40521              Batman: Return of the Caped Crusaders  False           7.2   \n40549  LEGO DC Comics Super Heroes: Batman: Be-Leaguered  False           6.1   \n41530                              The Lego Batman Movie  False           7.2   \n41536  Batman Beyond Darwyn Cooke's Batman 75th Anniv...  False           7.7   \n43296                                      Batman & Bill  False           7.7   \n44461                           Batman Beyond: The Movie  False           7.2   \n\n      vote_count                                           keywords  \n584       2145.0  Have you ever danced with the devil in the pal...  \n811        130.0   Professor Genessier is guilt-stricken after h...  \n1321      1706.0  The Bat, the Cat, the Penguin. Having defeated...  \n1482      1447.0  Strength. Courage. Honor. And loyalty. Along w...  \n2466       211.0   A very handsome man finds the love of his lif...  \n3079       218.0  The Dark Knight fights to save Gotham city fro...  \n7868        57.0   When affluent executive, Wayne Hayes is kidna...  \n9181       152.0  This Time, The Joker Is Wild The Joker is back...  \n10070     7511.0  Evil fears the knight. Driven by tragedy, bill...  \n10286      127.0  Nobody believes a liar...even when they're tel...  \n12421    12269.0  Why So Serious? Batman raises the stakes in hi...  \n12794      171.0  Get Ready... to Rage Against Evil. Explore Bru...  \n15433      459.0  Dare to Look Beneath the Hood. Batman faces hi...  \n17927      255.0  A merciless crime turns a man into an outlaw. ...  \n18025        5.0   This 15-chapter serial pits Batman and Robin ...  \n18136     9263.0  The Legend Ends Following the death of Distric...  \n19658      410.0  Old heroes never die. They just get darker. Ba...  \n20092      426.0  Justice Returns... Vengeance Returns... Redemp...  \n21042       17.0   Delve into the world of Batman and the vigila...  \n21247       87.0  Gotham City's newest hero... or criminal? A ne...  \n21748        6.0  HATE! Crawling back from the grave! Attorney W...  \n21856        7.0  The true story of the two cops called Batman a...  \n31340        2.0  Love and guilt are easy to confuse... Followin...  \n35650      186.0  Justice runs in the family Bruce Wayne is miss...  \n40521       37.0  The crusade continues... Adam West and Burt Wa...  \n40549       20.0   Superman wants Batman to join his new superhe...  \n41530     1473.0  Always be yourself. Unless you can be Batman. ...  \n41536       12.0      Terry faces off against a much younger Batman  \n43296       11.0   Everyone thinks that Bob Kane created Batman,...  \n44461       41.0  A New Hero, For A New Era Fueled by remorse an...  \n\n[30 rows x 26 columns]",
      "text/html": "<div>\n<style scoped>\n    .dataframe tbody tr th:only-of-type {\n        vertical-align: middle;\n    }\n\n    .dataframe tbody tr th {\n        vertical-align: top;\n    }\n\n    .dataframe thead th {\n        text-align: right;\n    }\n</style>\n<table border=\"1\" class=\"dataframe\">\n  <thead>\n    <tr style=\"text-align: right;\">\n      <th></th>\n      <th>Unnamed: 0</th>\n      <th>adult</th>\n      <th>belongs_to_collection</th>\n      <th>budget</th>\n      <th>genres</th>\n      <th>homepage</th>\n      <th>id</th>\n      <th>imdb_id</th>\n      <th>original_language</th>\n      <th>original_title</th>\n      <th>...</th>\n      <th>revenue</th>\n      <th>runtime</th>\n      <th>spoken_languages</th>\n      <th>status</th>\n      <th>tagline</th>\n      <th>title</th>\n      <th>video</th>\n      <th>vote_average</th>\n      <th>vote_count</th>\n      <th>keywords</th>\n    </tr>\n  </thead>\n  <tbody>\n    <tr>\n      <th>584</th>\n      <td>585</td>\n      <td>False</td>\n      <td>{'id': 120794, 'name': 'Batman Collection', 'p...</td>\n      <td>35000000.0</td>\n      <td>['Fantasy', 'Action']</td>\n      <td>NaN</td>\n      <td>268</td>\n      <td>NaN</td>\n      <td>en</td>\n      <td>Batman</td>\n      <td>...</td>\n      <td>4.113489e+08</td>\n      <td>126.0</td>\n      <td>[{'iso_639_1': 'en', 'name': 'English'}, {'iso...</td>\n      <td>Released</td>\n      <td>Have you ever danced with the devil in the pal...</td>\n      <td>Batman</td>\n      <td>False</td>\n      <td>7.0</td>\n      <td>2145.0</td>\n      <td>Have you ever danced with the devil in the pal...</td>\n    </tr>\n    <tr>\n      <th>811</th>\n      <td>817</td>\n      <td>False</td>\n      <td>NaN</td>\n      <td>0.0</td>\n      <td>['Drama', 'Horror', 'Thriller']</td>\n      <td>NaN</td>\n      <td>31417</td>\n      <td>NaN</td>\n      <td>fr</td>\n      <td>Les Yeux sans visage</td>\n      <td>...</td>\n      <td>0.000000e+00</td>\n      <td>90.0</td>\n      <td>[{'iso_639_1': 'fr', 'name': 'Français'}]</td>\n      <td>Released</td>\n      <td></td>\n      <td>Eyes Without a Face</td>\n      <td>False</td>\n      <td>7.5</td>\n      <td>130.0</td>\n      <td>Professor Genessier is guilt-stricken after h...</td>\n    </tr>\n    <tr>\n      <th>1321</th>\n      <td>1328</td>\n      <td>False</td>\n      <td>{'id': 120794, 'name': 'Batman Collection', 'p...</td>\n      <td>80000000.0</td>\n      <td>['Action', 'Fantasy']</td>\n      <td>NaN</td>\n      <td>364</td>\n      <td>NaN</td>\n      <td>en</td>\n      <td>Batman Returns</td>\n      <td>...</td>\n      <td>2.800000e+08</td>\n      <td>126.0</td>\n      <td>[{'iso_639_1': 'en', 'name': 'English'}]</td>\n      <td>Released</td>\n      <td>The Bat, the Cat, the Penguin.</td>\n      <td>Batman Returns</td>\n      <td>False</td>\n      <td>6.6</td>\n      <td>1706.0</td>\n      <td>The Bat, the Cat, the Penguin. Having defeated...</td>\n    </tr>\n    <tr>\n      <th>1482</th>\n      <td>1491</td>\n      <td>False</td>\n      <td>{'id': 120794, 'name': 'Batman Collection', 'p...</td>\n      <td>125000000.0</td>\n      <td>['Action', 'Crime', 'Fantasy']</td>\n      <td>NaN</td>\n      <td>415</td>\n      <td>NaN</td>\n      <td>en</td>\n      <td>Batman &amp; Robin</td>\n      <td>...</td>\n      <td>2.382071e+08</td>\n      <td>125.0</td>\n      <td>[{'iso_639_1': 'en', 'name': 'English'}]</td>\n      <td>Released</td>\n      <td>Strength. Courage. Honor. And loyalty.</td>\n      <td>Batman &amp; Robin</td>\n      <td>False</td>\n      <td>4.2</td>\n      <td>1447.0</td>\n      <td>Strength. Courage. Honor. And loyalty. Along w...</td>\n    </tr>\n    <tr>\n      <th>2466</th>\n      <td>2480</td>\n      <td>False</td>\n      <td>NaN</td>\n      <td>2900000.0</td>\n      <td>['Drama', 'Thriller']</td>\n      <td>NaN</td>\n      <td>1902</td>\n      <td>NaN</td>\n      <td>es</td>\n      <td>Abre los ojos</td>\n      <td>...</td>\n      <td>3.682340e+05</td>\n      <td>117.0</td>\n      <td>[{'iso_639_1': 'es', 'name': 'Español'}]</td>\n      <td>Released</td>\n      <td></td>\n      <td>Open Your Eyes</td>\n      <td>False</td>\n      <td>7.4</td>\n      <td>211.0</td>\n      <td>A very handsome man finds the love of his lif...</td>\n    </tr>\n    <tr>\n      <th>3079</th>\n      <td>3095</td>\n      <td>False</td>\n      <td>{'id': 421904, 'name': 'Batman (DC Universe An...</td>\n      <td>6000000.0</td>\n      <td>['Action', 'Adventure', 'Animation', 'Family']</td>\n      <td>NaN</td>\n      <td>14919</td>\n      <td>NaN</td>\n      <td>en</td>\n      <td>Batman: Mask of the Phantasm</td>\n      <td>...</td>\n      <td>5.617391e+06</td>\n      <td>76.0</td>\n      <td>[{'iso_639_1': 'cs', 'name': 'Český'}, {'iso_6...</td>\n      <td>Released</td>\n      <td>The Dark Knight fights to save Gotham city fro...</td>\n      <td>Batman: Mask of the Phantasm</td>\n      <td>False</td>\n      <td>7.4</td>\n      <td>218.0</td>\n      <td>The Dark Knight fights to save Gotham city fro...</td>\n    </tr>\n    <tr>\n      <th>7868</th>\n      <td>7912</td>\n      <td>False</td>\n      <td>NaN</td>\n      <td>0.0</td>\n      <td>['Drama', 'Mystery', 'Thriller']</td>\n      <td>NaN</td>\n      <td>10742</td>\n      <td>NaN</td>\n      <td>en</td>\n      <td>The Clearing</td>\n      <td>...</td>\n      <td>1.252080e+07</td>\n      <td>95.0</td>\n      <td>[{'iso_639_1': 'en', 'name': 'English'}]</td>\n      <td>Released</td>\n      <td></td>\n      <td>The Clearing</td>\n      <td>False</td>\n      <td>5.6</td>\n      <td>57.0</td>\n      <td>When affluent executive, Wayne Hayes is kidna...</td>\n    </tr>\n    <tr>\n      <th>9181</th>\n      <td>9230</td>\n      <td>False</td>\n      <td>{'id': 379475, 'name': 'Batman Beyond Collecti...</td>\n      <td>0.0</td>\n      <td>['Animation', 'Family']</td>\n      <td>NaN</td>\n      <td>16234</td>\n      <td>NaN</td>\n      <td>en</td>\n      <td>Batman Beyond: Return of the Joker</td>\n      <td>...</td>\n      <td>0.000000e+00</td>\n      <td>74.0</td>\n      <td>[{'iso_639_1': 'en', 'name': 'English'}]</td>\n      <td>Released</td>\n      <td>This Time, The Joker Is Wild</td>\n      <td>Batman Beyond: Return of the Joker</td>\n      <td>False</td>\n      <td>7.5</td>\n      <td>152.0</td>\n      <td>This Time, The Joker Is Wild The Joker is back...</td>\n    </tr>\n    <tr>\n      <th>10070</th>\n      <td>10122</td>\n      <td>False</td>\n      <td>{'id': 263, 'name': 'The Dark Knight Collectio...</td>\n      <td>150000000.0</td>\n      <td>['Action', 'Crime', 'Drama']</td>\n      <td>http://www2.warnerbros.com/batmanbegins/index....</td>\n      <td>272</td>\n      <td>NaN</td>\n      <td>en</td>\n      <td>Batman Begins</td>\n      <td>...</td>\n      <td>3.742187e+08</td>\n      <td>140.0</td>\n      <td>[{'iso_639_1': 'en', 'name': 'English'}, {'iso...</td>\n      <td>Released</td>\n      <td>Evil fears the knight.</td>\n      <td>Batman Begins</td>\n      <td>False</td>\n      <td>7.5</td>\n      <td>7511.0</td>\n      <td>Evil fears the knight. Driven by tragedy, bill...</td>\n    </tr>\n    <tr>\n      <th>10286</th>\n      <td>10338</td>\n      <td>False</td>\n      <td>NaN</td>\n      <td>1000000.0</td>\n      <td>['Horror', 'Thriller']</td>\n      <td>NaN</td>\n      <td>10092</td>\n      <td>NaN</td>\n      <td>en</td>\n      <td>Cry_Wolf</td>\n      <td>...</td>\n      <td>1.004767e+07</td>\n      <td>90.0</td>\n      <td>[{'iso_639_1': 'en', 'name': 'English'}, {'iso...</td>\n      <td>Released</td>\n      <td>Nobody believes a liar...even when they're tel...</td>\n      <td>Cry_Wolf</td>\n      <td>False</td>\n      <td>5.6</td>\n      <td>127.0</td>\n      <td>Nobody believes a liar...even when they're tel...</td>\n    </tr>\n    <tr>\n      <th>12421</th>\n      <td>12481</td>\n      <td>False</td>\n      <td>{'id': 263, 'name': 'The Dark Knight Collectio...</td>\n      <td>185000000.0</td>\n      <td>['Drama', 'Action', 'Crime', 'Thriller']</td>\n      <td>http://thedarkknight.warnerbros.com/dvdsite/</td>\n      <td>155</td>\n      <td>NaN</td>\n      <td>en</td>\n      <td>The Dark Knight</td>\n      <td>...</td>\n      <td>1.004558e+09</td>\n      <td>152.0</td>\n      <td>[{'iso_639_1': 'en', 'name': 'English'}, {'iso...</td>\n      <td>Released</td>\n      <td>Why So Serious?</td>\n      <td>The Dark Knight</td>\n      <td>False</td>\n      <td>8.3</td>\n      <td>12269.0</td>\n      <td>Why So Serious? Batman raises the stakes in hi...</td>\n    </tr>\n    <tr>\n      <th>12794</th>\n      <td>12856</td>\n      <td>False</td>\n      <td>NaN</td>\n      <td>3500000.0</td>\n      <td>['Animation', 'Action', 'Adventure']</td>\n      <td>http://www.warnervideo.com/batmangothamknight/</td>\n      <td>13851</td>\n      <td>NaN</td>\n      <td>en</td>\n      <td>Batman: Gotham Knight</td>\n      <td>...</td>\n      <td>0.000000e+00</td>\n      <td>75.0</td>\n      <td>[{'iso_639_1': 'en', 'name': 'English'}, {'iso...</td>\n      <td>Released</td>\n      <td>Get Ready... to Rage Against Evil.</td>\n      <td>Batman: Gotham Knight</td>\n      <td>False</td>\n      <td>6.7</td>\n      <td>171.0</td>\n      <td>Get Ready... to Rage Against Evil. Explore Bru...</td>\n    </tr>\n    <tr>\n      <th>15433</th>\n      <td>15511</td>\n      <td>False</td>\n      <td>NaN</td>\n      <td>0.0</td>\n      <td>['Action', 'Animation']</td>\n      <td>http://www.warnerbros.com/batman-under-red-hood</td>\n      <td>40662</td>\n      <td>NaN</td>\n      <td>en</td>\n      <td>Batman: Under the Red Hood</td>\n      <td>...</td>\n      <td>6.629178e+06</td>\n      <td>75.0</td>\n      <td>[{'iso_639_1': 'en', 'name': 'English'}]</td>\n      <td>Released</td>\n      <td>Dare to Look Beneath the Hood.</td>\n      <td>Batman: Under the Red Hood</td>\n      <td>False</td>\n      <td>7.6</td>\n      <td>459.0</td>\n      <td>Dare to Look Beneath the Hood. Batman faces hi...</td>\n    </tr>\n    <tr>\n      <th>17927</th>\n      <td>18035</td>\n      <td>False</td>\n      <td>NaN</td>\n      <td>0.0</td>\n      <td>['Action', 'Adventure', 'Animation', 'Crime', ...</td>\n      <td>https://www.warnerbros.com/batman-year-one/about</td>\n      <td>69735</td>\n      <td>NaN</td>\n      <td>en</td>\n      <td>Batman: Year One</td>\n      <td>...</td>\n      <td>0.000000e+00</td>\n      <td>64.0</td>\n      <td>[{'iso_639_1': 'en', 'name': 'English'}, {'iso...</td>\n      <td>Released</td>\n      <td>A merciless crime turns a man into an outlaw.</td>\n      <td>Batman: Year One</td>\n      <td>False</td>\n      <td>7.1</td>\n      <td>255.0</td>\n      <td>A merciless crime turns a man into an outlaw. ...</td>\n    </tr>\n    <tr>\n      <th>18025</th>\n      <td>18139</td>\n      <td>False</td>\n      <td>NaN</td>\n      <td>0.0</td>\n      <td>['Action', 'Science Fiction', 'Thriller']</td>\n      <td>NaN</td>\n      <td>93560</td>\n      <td>NaN</td>\n      <td>en</td>\n      <td>Batman and Robin</td>\n      <td>...</td>\n      <td>0.000000e+00</td>\n      <td>263.0</td>\n      <td>[{'iso_639_1': 'en', 'name': 'English'}]</td>\n      <td>Released</td>\n      <td></td>\n      <td>Batman and Robin</td>\n      <td>False</td>\n      <td>6.2</td>\n      <td>5.0</td>\n      <td>This 15-chapter serial pits Batman and Robin ...</td>\n    </tr>\n    <tr>\n      <th>18136</th>\n      <td>18252</td>\n      <td>False</td>\n      <td>{'id': 263, 'name': 'The Dark Knight Collectio...</td>\n      <td>250000000.0</td>\n      <td>['Action', 'Crime', 'Drama', 'Thriller']</td>\n      <td>http://www.thedarkknightrises.com/</td>\n      <td>49026</td>\n      <td>NaN</td>\n      <td>en</td>\n      <td>The Dark Knight Rises</td>\n      <td>...</td>\n      <td>1.084939e+09</td>\n      <td>165.0</td>\n      <td>[{'iso_639_1': 'en', 'name': 'English'}]</td>\n      <td>Released</td>\n      <td>The Legend Ends</td>\n      <td>The Dark Knight Rises</td>\n      <td>False</td>\n      <td>7.6</td>\n      <td>9263.0</td>\n      <td>The Legend Ends Following the death of Distric...</td>\n    </tr>\n    <tr>\n      <th>19658</th>\n      <td>19792</td>\n      <td>False</td>\n      <td>{'id': 248534, 'name': 'Batman: The Dark Knigh...</td>\n      <td>3500000.0</td>\n      <td>['Action', 'Animation']</td>\n      <td>NaN</td>\n      <td>123025</td>\n      <td>NaN</td>\n      <td>en</td>\n      <td>Batman: The Dark Knight Returns, Part 1</td>\n      <td>...</td>\n      <td>0.000000e+00</td>\n      <td>76.0</td>\n      <td>[{'iso_639_1': 'en', 'name': 'English'}, {'iso...</td>\n      <td>Released</td>\n      <td>Old heroes never die. They just get darker.</td>\n      <td>Batman: The Dark Knight Returns, Part 1</td>\n      <td>False</td>\n      <td>7.7</td>\n      <td>410.0</td>\n      <td>Old heroes never die. They just get darker. Ba...</td>\n    </tr>\n    <tr>\n      <th>20092</th>\n      <td>20232</td>\n      <td>False</td>\n      <td>{'id': 248534, 'name': 'Batman: The Dark Knigh...</td>\n      <td>3500000.0</td>\n      <td>['Action', 'Animation']</td>\n      <td>NaN</td>\n      <td>142061</td>\n      <td>NaN</td>\n      <td>en</td>\n      <td>Batman: The Dark Knight Returns, Part 2</td>\n      <td>...</td>\n      <td>0.000000e+00</td>\n      <td>78.0</td>\n      <td>[{'iso_639_1': 'en', 'name': 'English'}]</td>\n      <td>Released</td>\n      <td>Justice Returns... Vengeance Returns... Redemp...</td>\n      <td>Batman: The Dark Knight Returns, Part 2</td>\n      <td>False</td>\n      <td>7.9</td>\n      <td>426.0</td>\n      <td>Justice Returns... Vengeance Returns... Redemp...</td>\n    </tr>\n    <tr>\n      <th>21042</th>\n      <td>21194</td>\n      <td>False</td>\n      <td>NaN</td>\n      <td>0.0</td>\n      <td>['Documentary']</td>\n      <td>http://www.history.com/</td>\n      <td>29751</td>\n      <td>NaN</td>\n      <td>en</td>\n      <td>Batman Unmasked: The Psychology of the Dark Kn...</td>\n      <td>...</td>\n      <td>0.000000e+00</td>\n      <td>45.0</td>\n      <td>[{'iso_639_1': 'en', 'name': 'English'}]</td>\n      <td>Released</td>\n      <td></td>\n      <td>Batman Unmasked: The Psychology of the Dark Kn...</td>\n      <td>False</td>\n      <td>8.0</td>\n      <td>17.0</td>\n      <td>Delve into the world of Batman and the vigila...</td>\n    </tr>\n    <tr>\n      <th>21247</th>\n      <td>21400</td>\n      <td>False</td>\n      <td>{'id': 421904, 'name': 'Batman (DC Universe An...</td>\n      <td>0.0</td>\n      <td>['Adventure', 'Fantasy', 'Animation', 'Action'...</td>\n      <td>NaN</td>\n      <td>21683</td>\n      <td>NaN</td>\n      <td>en</td>\n      <td>Batman: Mystery of the Batwoman</td>\n      <td>...</td>\n      <td>0.000000e+00</td>\n      <td>74.0</td>\n      <td>[{'iso_639_1': 'cs', 'name': 'Český'}, {'iso_6...</td>\n      <td>Released</td>\n      <td>Gotham City's newest hero... or criminal?</td>\n      <td>Batman: Mystery of the Batwoman</td>\n      <td>False</td>\n      <td>6.6</td>\n      <td>87.0</td>\n      <td>Gotham City's newest hero... or criminal? A ne...</td>\n    </tr>\n    <tr>\n      <th>21748</th>\n      <td>21908</td>\n      <td>False</td>\n      <td>{'id': 90031, 'name': 'Inner Sanctum mysteries...</td>\n      <td>0.0</td>\n      <td>['Mystery', 'Thriller']</td>\n      <td>NaN</td>\n      <td>64077</td>\n      <td>NaN</td>\n      <td>en</td>\n      <td>Pillow of Death</td>\n      <td>...</td>\n      <td>0.000000e+00</td>\n      <td>66.0</td>\n      <td>[{'iso_639_1': 'en', 'name': 'English'}]</td>\n      <td>Released</td>\n      <td>HATE! Crawling back from the grave!</td>\n      <td>Pillow of Death</td>\n      <td>False</td>\n      <td>6.5</td>\n      <td>6.0</td>\n      <td>HATE! Crawling back from the grave! Attorney W...</td>\n    </tr>\n    <tr>\n      <th>21856</th>\n      <td>22021</td>\n      <td>False</td>\n      <td>NaN</td>\n      <td>0.0</td>\n      <td>['Drama', 'Comedy', 'Action']</td>\n      <td>NaN</td>\n      <td>84324</td>\n      <td>NaN</td>\n      <td>en</td>\n      <td>The Super Cops</td>\n      <td>...</td>\n      <td>0.000000e+00</td>\n      <td>90.0</td>\n      <td>[{'iso_639_1': 'en', 'name': 'English'}]</td>\n      <td>Released</td>\n      <td>The true story of the two cops called Batman a...</td>\n      <td>The Super Cops</td>\n      <td>False</td>\n      <td>6.2</td>\n      <td>7.0</td>\n      <td>The true story of the two cops called Batman a...</td>\n    </tr>\n    <tr>\n      <th>31340</th>\n      <td>31611</td>\n      <td>False</td>\n      <td>NaN</td>\n      <td>0.0</td>\n      <td>['Mystery', 'Comedy', 'Drama', 'Science Fiction']</td>\n      <td>http://deaththemovie.co.uk/</td>\n      <td>257975</td>\n      <td>NaN</td>\n      <td>en</td>\n      <td>After Death</td>\n      <td>...</td>\n      <td>0.000000e+00</td>\n      <td>105.0</td>\n      <td>[{'iso_639_1': 'en', 'name': 'English'}]</td>\n      <td>Released</td>\n      <td>Love and guilt are easy to confuse...</td>\n      <td>After Death</td>\n      <td>False</td>\n      <td>4.3</td>\n      <td>2.0</td>\n      <td>Love and guilt are easy to confuse... Followin...</td>\n    </tr>\n    <tr>\n      <th>35650</th>\n      <td>35983</td>\n      <td>False</td>\n      <td>{'id': 334996, 'name': 'Son of Batman Collecti...</td>\n      <td>3500000.0</td>\n      <td>['Action', 'Animation', 'Science Fiction']</td>\n      <td>NaN</td>\n      <td>366924</td>\n      <td>NaN</td>\n      <td>en</td>\n      <td>Batman: Bad Blood</td>\n      <td>...</td>\n      <td>0.000000e+00</td>\n      <td>72.0</td>\n      <td>[{'iso_639_1': 'en', 'name': 'English'}]</td>\n      <td>Released</td>\n      <td>Justice runs in the family</td>\n      <td>Batman: Bad Blood</td>\n      <td>False</td>\n      <td>6.8</td>\n      <td>186.0</td>\n      <td>Justice runs in the family Bruce Wayne is miss...</td>\n    </tr>\n    <tr>\n      <th>40521</th>\n      <td>40946</td>\n      <td>False</td>\n      <td>NaN</td>\n      <td>3500000.0</td>\n      <td>['Action', 'Animation', 'Comedy']</td>\n      <td>https://www.warnerbros.co.uk/movies/batman-ret...</td>\n      <td>411736</td>\n      <td>NaN</td>\n      <td>en</td>\n      <td>Batman: Return of the Caped Crusaders</td>\n      <td>...</td>\n      <td>0.000000e+00</td>\n      <td>78.0</td>\n      <td>[{'iso_639_1': 'en', 'name': 'English'}]</td>\n      <td>Released</td>\n      <td>The crusade continues...</td>\n      <td>Batman: Return of the Caped Crusaders</td>\n      <td>False</td>\n      <td>7.2</td>\n      <td>37.0</td>\n      <td>The crusade continues... Adam West and Burt Wa...</td>\n    </tr>\n    <tr>\n      <th>40549</th>\n      <td>40974</td>\n      <td>False</td>\n      <td>{'id': 386162, 'name': 'LEGO DC Comics Super H...</td>\n      <td>0.0</td>\n      <td>['Action', 'Adventure', 'Animation', 'Family']</td>\n      <td>NaN</td>\n      <td>300424</td>\n      <td>NaN</td>\n      <td>en</td>\n      <td>LEGO DC Comics Super Heroes: Batman: Be-Leaguered</td>\n      <td>...</td>\n      <td>0.000000e+00</td>\n      <td>22.0</td>\n      <td>[{'iso_639_1': 'en', 'name': 'English'}]</td>\n      <td>Released</td>\n      <td></td>\n      <td>LEGO DC Comics Super Heroes: Batman: Be-Leaguered</td>\n      <td>False</td>\n      <td>6.1</td>\n      <td>20.0</td>\n      <td>Superman wants Batman to join his new superhe...</td>\n    </tr>\n    <tr>\n      <th>41530</th>\n      <td>41976</td>\n      <td>False</td>\n      <td>{'id': 325470, 'name': 'The Lego Movie Collect...</td>\n      <td>80000000.0</td>\n      <td>['Action', 'Animation', 'Comedy', 'Family', 'F...</td>\n      <td>http://www.legobatman.com</td>\n      <td>324849</td>\n      <td>NaN</td>\n      <td>en</td>\n      <td>The Lego Batman Movie</td>\n      <td>...</td>\n      <td>3.119504e+08</td>\n      <td>104.0</td>\n      <td>[{'iso_639_1': 'en', 'name': 'English'}]</td>\n      <td>Released</td>\n      <td>Always be yourself. Unless you can be Batman.</td>\n      <td>The Lego Batman Movie</td>\n      <td>False</td>\n      <td>7.2</td>\n      <td>1473.0</td>\n      <td>Always be yourself. Unless you can be Batman. ...</td>\n    </tr>\n    <tr>\n      <th>41536</th>\n      <td>41982</td>\n      <td>False</td>\n      <td>NaN</td>\n      <td>0.0</td>\n      <td>['Action', 'Animation', 'Science Fiction']</td>\n      <td>NaN</td>\n      <td>269246</td>\n      <td>NaN</td>\n      <td>en</td>\n      <td>Batman Beyond Darwyn Cooke's Batman 75th Anniv...</td>\n      <td>...</td>\n      <td>0.000000e+00</td>\n      <td>1.0</td>\n      <td>[{'iso_639_1': 'en', 'name': 'English'}]</td>\n      <td>Released</td>\n      <td></td>\n      <td>Batman Beyond Darwyn Cooke's Batman 75th Anniv...</td>\n      <td>False</td>\n      <td>7.7</td>\n      <td>12.0</td>\n      <td>Terry faces off against a much younger Batman</td>\n    </tr>\n    <tr>\n      <th>43296</th>\n      <td>43779</td>\n      <td>False</td>\n      <td>NaN</td>\n      <td>0.0</td>\n      <td>['Documentary']</td>\n      <td>NaN</td>\n      <td>456348</td>\n      <td>NaN</td>\n      <td>en</td>\n      <td>Batman &amp; Bill</td>\n      <td>...</td>\n      <td>0.000000e+00</td>\n      <td>93.0</td>\n      <td>[{'iso_639_1': 'en', 'name': 'English'}]</td>\n      <td>Released</td>\n      <td></td>\n      <td>Batman &amp; Bill</td>\n      <td>False</td>\n      <td>7.7</td>\n      <td>11.0</td>\n      <td>Everyone thinks that Bob Kane created Batman,...</td>\n    </tr>\n    <tr>\n      <th>44461</th>\n      <td>44980</td>\n      <td>False</td>\n      <td>{'id': 379475, 'name': 'Batman Beyond Collecti...</td>\n      <td>0.0</td>\n      <td>['Animation', 'Action', 'Family']</td>\n      <td>NaN</td>\n      <td>64202</td>\n      <td>NaN</td>\n      <td>en</td>\n      <td>Batman Beyond: The Movie</td>\n      <td>...</td>\n      <td>0.000000e+00</td>\n      <td>132.0</td>\n      <td>[{'iso_639_1': 'en', 'name': 'English'}]</td>\n      <td>Released</td>\n      <td>A New Hero, For A New Era</td>\n      <td>Batman Beyond: The Movie</td>\n      <td>False</td>\n      <td>7.2</td>\n      <td>41.0</td>\n      <td>A New Hero, For A New Era Fueled by remorse an...</td>\n    </tr>\n  </tbody>\n</table>\n<p>30 rows × 26 columns</p>\n</div>"
     },
     "metadata": {},
     "execution_count": 13
    }
   ],
   "source": [
    "movie_lst = get_recommended_movie_id('Batman Forever')\n",
    "rec_df = md[md.index.isin(movie_lst)]\n",
    "rec_df"
   ]
  },
  {
   "cell_type": "markdown",
   "metadata": {},
   "source": [
    "# UP TO HERE"
   ]
  },
  {
   "cell_type": "code",
   "execution_count": null,
   "metadata": {},
   "outputs": [],
   "source": []
  },
  {
   "cell_type": "markdown",
   "metadata": {},
   "source": [
    "### Metadata Based Recommender"
   ]
  },
  {
   "cell_type": "code",
   "execution_count": 29,
   "metadata": {},
   "outputs": [],
   "source": [
    "credits = pd.read_csv('../input/credits.csv')\n",
    "keywords = pd.read_csv('../input/keywords.csv')"
   ]
  },
  {
   "cell_type": "code",
   "execution_count": 30,
   "metadata": {},
   "outputs": [],
   "source": [
    "keywords['id'] = keywords['id'].astype('int')\n",
    "credits['id'] = credits['id'].astype('int')\n",
    "md['id'] = md['id'].astype('int')"
   ]
  },
  {
   "cell_type": "code",
   "execution_count": 31,
   "metadata": {},
   "outputs": [
    {
     "output_type": "execute_result",
     "data": {
      "text/plain": "(45463, 25)"
     },
     "metadata": {},
     "execution_count": 31
    }
   ],
   "source": [
    "md.shape\n"
   ]
  },
  {
   "cell_type": "code",
   "execution_count": 32,
   "metadata": {},
   "outputs": [],
   "source": [
    "md = md.merge(credits, on='id')\n",
    "md = md.merge(keywords, on='id')"
   ]
  },
  {
   "cell_type": "code",
   "execution_count": 33,
   "metadata": {},
   "outputs": [
    {
     "output_type": "execute_result",
     "data": {
      "text/plain": "(9219, 28)"
     },
     "metadata": {},
     "execution_count": 33
    }
   ],
   "source": [
    "smd = md[md['id'].isin(links_small)]\n",
    "smd.shape"
   ]
  },
  {
   "cell_type": "code",
   "execution_count": 34,
   "metadata": {},
   "outputs": [],
   "source": [
    "smd['cast'] = smd['cast'].apply(literal_eval)\n",
    "smd['crew'] = smd['crew'].apply(literal_eval)\n",
    "smd['keywords'] = smd['keywords'].apply(literal_eval)\n",
    "smd['cast_size'] = smd['cast'].apply(lambda x: len(x))\n",
    "smd['crew_size'] = smd['crew'].apply(lambda x: len(x))"
   ]
  },
  {
   "cell_type": "code",
   "execution_count": 35,
   "metadata": {},
   "outputs": [],
   "source": [
    "def get_director(x):\n",
    "    for i in x:\n",
    "        if i['job'] == 'Director':\n",
    "            return i['name']\n",
    "    return np.nan"
   ]
  },
  {
   "cell_type": "code",
   "execution_count": 36,
   "metadata": {},
   "outputs": [],
   "source": [
    "smd['director'] = smd['crew'].apply(get_director)\n"
   ]
  },
  {
   "cell_type": "code",
   "execution_count": 37,
   "metadata": {},
   "outputs": [],
   "source": [
    "smd['cast'] = smd['cast'].apply(lambda x: [i['name'] for i in x] if isinstance(x, list) else [])\n",
    "smd['cast'] = smd['cast'].apply(lambda x: x[:3] if len(x) >=3 else x)"
   ]
  },
  {
   "cell_type": "code",
   "execution_count": 38,
   "metadata": {},
   "outputs": [],
   "source": [
    "smd['keywords'] = smd['keywords'].apply(lambda x: [i['name'] for i in x] if isinstance(x, list) else [])\n"
   ]
  },
  {
   "cell_type": "code",
   "execution_count": 39,
   "metadata": {},
   "outputs": [],
   "source": [
    "smd['cast'] = smd['cast'].apply(lambda x: [str.lower(i.replace(\" \", \"\")) for i in x])\n"
   ]
  },
  {
   "cell_type": "code",
   "execution_count": 40,
   "metadata": {},
   "outputs": [],
   "source": [
    "smd['director'] = smd['director'].astype('str').apply(lambda x: str.lower(x.replace(\" \", \"\")))\n",
    "smd['director'] = smd['director'].apply(lambda x: [x,x, x])"
   ]
  },
  {
   "cell_type": "markdown",
   "metadata": {},
   "source": [
    "### Keywords"
   ]
  },
  {
   "cell_type": "code",
   "execution_count": 41,
   "metadata": {},
   "outputs": [],
   "source": [
    "s = smd.apply(lambda x: pd.Series(x['keywords']),axis=1).stack().reset_index(level=1, drop=True)\n",
    "s.name = 'keyword'"
   ]
  },
  {
   "cell_type": "code",
   "execution_count": 42,
   "metadata": {},
   "outputs": [
    {
     "output_type": "execute_result",
     "data": {
      "text/plain": "independent film        610\nwoman director          550\nmurder                  399\nduringcreditsstinger    327\nbased on novel          318\nName: keyword, dtype: int64"
     },
     "metadata": {},
     "execution_count": 42
    }
   ],
   "source": [
    "s = s.value_counts()\n",
    "s[:5]"
   ]
  },
  {
   "cell_type": "code",
   "execution_count": 43,
   "metadata": {},
   "outputs": [],
   "source": [
    "s = s[s > 1]\n"
   ]
  },
  {
   "cell_type": "code",
   "execution_count": 44,
   "metadata": {},
   "outputs": [
    {
     "output_type": "execute_result",
     "data": {
      "text/plain": "'dog'"
     },
     "metadata": {},
     "execution_count": 44
    }
   ],
   "source": [
    "stemmer = SnowballStemmer('english')\n",
    "stemmer.stem('dogs')"
   ]
  },
  {
   "cell_type": "code",
   "execution_count": 45,
   "metadata": {},
   "outputs": [],
   "source": [
    "def filter_keywords(x):\n",
    "    words = []\n",
    "    for i in x:\n",
    "        if i in s:\n",
    "            words.append(i)\n",
    "    return words"
   ]
  },
  {
   "cell_type": "code",
   "execution_count": 46,
   "metadata": {},
   "outputs": [],
   "source": [
    "smd['keywords'] = smd['keywords'].apply(filter_keywords)\n",
    "smd['keywords'] = smd['keywords'].apply(lambda x: [stemmer.stem(i) for i in x])\n",
    "smd['keywords'] = smd['keywords'].apply(lambda x: [str.lower(i.replace(\" \", \"\")) for i in x])"
   ]
  },
  {
   "cell_type": "code",
   "execution_count": 47,
   "metadata": {},
   "outputs": [],
   "source": [
    "smd['soup'] = smd['keywords'] + smd['cast'] + smd['director'] + smd['genres']\n",
    "smd['soup'] = smd['soup'].apply(lambda x: ' '.join(x))"
   ]
  },
  {
   "cell_type": "code",
   "execution_count": 48,
   "metadata": {},
   "outputs": [],
   "source": [
    "count = CountVectorizer(analyzer='word',ngram_range=(1, 2),min_df=0, stop_words='english')\n",
    "count_matrix = count.fit_transform(smd['soup'])"
   ]
  },
  {
   "cell_type": "code",
   "execution_count": 49,
   "metadata": {},
   "outputs": [],
   "source": [
    "cosine_sim = cosine_similarity(count_matrix, count_matrix)\n"
   ]
  },
  {
   "cell_type": "code",
   "execution_count": 50,
   "metadata": {},
   "outputs": [],
   "source": [
    "smd = smd.reset_index()\n",
    "titles = smd['title']\n",
    "indices = pd.Series(smd.index, index=smd['title'])"
   ]
  },
  {
   "cell_type": "code",
   "execution_count": 51,
   "metadata": {},
   "outputs": [
    {
     "output_type": "execute_result",
     "data": {
      "text/plain": "8031         The Dark Knight Rises\n6218                 Batman Begins\n6623                  The Prestige\n2085                     Following\n7648                     Inception\n4145                      Insomnia\n3381                       Memento\n8613                  Interstellar\n7659    Batman: Under the Red Hood\n1134                Batman Returns\nName: title, dtype: object"
     },
     "metadata": {},
     "execution_count": 51
    }
   ],
   "source": [
    "get_recommendations('The Dark Knight').head(10)\n"
   ]
  },
  {
   "cell_type": "code",
   "execution_count": 52,
   "metadata": {},
   "outputs": [
    {
     "output_type": "execute_result",
     "data": {
      "text/plain": "3319               Head Over Heels\n4763                 Freaky Friday\n1329              The House of Yes\n6277              Just Like Heaven\n7905         Mr. Popper's Penguins\n7332    Ghosts of Girlfriends Past\n6959     The Spiderwick Chronicles\n8883                      The DUFF\n6698         It's a Boy Girl Thing\n7377       I Love You, Beth Cooper\nName: title, dtype: object"
     },
     "metadata": {},
     "execution_count": 52
    }
   ],
   "source": [
    "get_recommendations('Mean Girls').head(10)\n"
   ]
  },
  {
   "cell_type": "markdown",
   "metadata": {},
   "source": [
    "### Popularity and Ratings"
   ]
  },
  {
   "cell_type": "code",
   "execution_count": 53,
   "metadata": {},
   "outputs": [],
   "source": [
    "def improved_recommendations(title):\n",
    "    idx = indices[title]\n",
    "    sim_scores = list(enumerate(cosine_sim[idx]))\n",
    "    sim_scores = sorted(sim_scores, key=lambda x: x[1], reverse=True)\n",
    "    sim_scores = sim_scores[1:26]\n",
    "    movie_indices = [i[0] for i in sim_scores]\n",
    "    \n",
    "    movies = smd.iloc[movie_indices][['title', 'vote_count', 'vote_average', 'year']]\n",
    "    vote_counts = movies[movies['vote_count'].notnull()]['vote_count'].astype('int')\n",
    "    vote_averages = movies[movies['vote_average'].notnull()]['vote_average'].astype('int')\n",
    "    C = vote_averages.mean()\n",
    "    m = vote_counts.quantile(0.60)\n",
    "    qualified = movies[(movies['vote_count'] >= m) & (movies['vote_count'].notnull()) & (movies['vote_average'].notnull())]\n",
    "    qualified['vote_count'] = qualified['vote_count'].astype('int')\n",
    "    qualified['vote_average'] = qualified['vote_average'].astype('int')\n",
    "    qualified['wr'] = qualified.apply(weighted_rating, axis=1)\n",
    "    qualified = qualified.sort_values('wr', ascending=False).head(10)\n",
    "    return qualified"
   ]
  },
  {
   "cell_type": "code",
   "execution_count": 54,
   "metadata": {},
   "outputs": [
    {
     "output_type": "execute_result",
     "data": {
      "text/plain": "                                   title  vote_count  vote_average  year  \\\n7648                           Inception       14075             8  2010   \n8613                        Interstellar       11187             8  2014   \n6623                        The Prestige        4510             8  2006   \n3381                             Memento        4168             8  2000   \n8031               The Dark Knight Rises        9263             7  2012   \n6218                       Batman Begins        7511             7  2005   \n1134                      Batman Returns        1706             6  1992   \n132                       Batman Forever        1529             5  1995   \n9024  Batman v Superman: Dawn of Justice        7189             5  2016   \n1260                      Batman & Robin        1447             4  1997   \n\n            wr  \n7648  7.917588  \n8613  7.897107  \n6623  7.758148  \n3381  7.740175  \n8031  6.921448  \n6218  6.904127  \n1134  5.846862  \n132   5.054144  \n9024  5.013943  \n1260  4.287233  ",
      "text/html": "<div>\n<style scoped>\n    .dataframe tbody tr th:only-of-type {\n        vertical-align: middle;\n    }\n\n    .dataframe tbody tr th {\n        vertical-align: top;\n    }\n\n    .dataframe thead th {\n        text-align: right;\n    }\n</style>\n<table border=\"1\" class=\"dataframe\">\n  <thead>\n    <tr style=\"text-align: right;\">\n      <th></th>\n      <th>title</th>\n      <th>vote_count</th>\n      <th>vote_average</th>\n      <th>year</th>\n      <th>wr</th>\n    </tr>\n  </thead>\n  <tbody>\n    <tr>\n      <th>7648</th>\n      <td>Inception</td>\n      <td>14075</td>\n      <td>8</td>\n      <td>2010</td>\n      <td>7.917588</td>\n    </tr>\n    <tr>\n      <th>8613</th>\n      <td>Interstellar</td>\n      <td>11187</td>\n      <td>8</td>\n      <td>2014</td>\n      <td>7.897107</td>\n    </tr>\n    <tr>\n      <th>6623</th>\n      <td>The Prestige</td>\n      <td>4510</td>\n      <td>8</td>\n      <td>2006</td>\n      <td>7.758148</td>\n    </tr>\n    <tr>\n      <th>3381</th>\n      <td>Memento</td>\n      <td>4168</td>\n      <td>8</td>\n      <td>2000</td>\n      <td>7.740175</td>\n    </tr>\n    <tr>\n      <th>8031</th>\n      <td>The Dark Knight Rises</td>\n      <td>9263</td>\n      <td>7</td>\n      <td>2012</td>\n      <td>6.921448</td>\n    </tr>\n    <tr>\n      <th>6218</th>\n      <td>Batman Begins</td>\n      <td>7511</td>\n      <td>7</td>\n      <td>2005</td>\n      <td>6.904127</td>\n    </tr>\n    <tr>\n      <th>1134</th>\n      <td>Batman Returns</td>\n      <td>1706</td>\n      <td>6</td>\n      <td>1992</td>\n      <td>5.846862</td>\n    </tr>\n    <tr>\n      <th>132</th>\n      <td>Batman Forever</td>\n      <td>1529</td>\n      <td>5</td>\n      <td>1995</td>\n      <td>5.054144</td>\n    </tr>\n    <tr>\n      <th>9024</th>\n      <td>Batman v Superman: Dawn of Justice</td>\n      <td>7189</td>\n      <td>5</td>\n      <td>2016</td>\n      <td>5.013943</td>\n    </tr>\n    <tr>\n      <th>1260</th>\n      <td>Batman &amp; Robin</td>\n      <td>1447</td>\n      <td>4</td>\n      <td>1997</td>\n      <td>4.287233</td>\n    </tr>\n  </tbody>\n</table>\n</div>"
     },
     "metadata": {},
     "execution_count": 54
    }
   ],
   "source": [
    "improved_recommendations('The Dark Knight')\n"
   ]
  },
  {
   "cell_type": "code",
   "execution_count": 55,
   "metadata": {},
   "outputs": [
    {
     "output_type": "execute_result",
     "data": {
      "text/plain": "                                        title  vote_count  vote_average  year  \\\n1547                       The Breakfast Club        2189             7  1985   \n390                        Dazed and Confused         588             7  1993   \n8883                                 The DUFF        1372             6  2015   \n3712                     The Princess Diaries        1063             6  2001   \n4763                            Freaky Friday         919             6  2003   \n6277                         Just Like Heaven         595             6  2005   \n6959                The Spiderwick Chronicles         593             6  2008   \n7494  American Pie Presents: The Book of Love         454             5  2009   \n7332               Ghosts of Girlfriends Past         716             5  2009   \n7905                    Mr. Popper's Penguins         775             5  2011   \n\n            wr  \n1547  6.709602  \n390   6.254682  \n8883  5.818541  \n3712  5.781086  \n4763  5.757786  \n6277  5.681521  \n6959  5.680901  \n7494  5.119690  \n7332  5.092422  \n7905  5.087912  ",
      "text/html": "<div>\n<style scoped>\n    .dataframe tbody tr th:only-of-type {\n        vertical-align: middle;\n    }\n\n    .dataframe tbody tr th {\n        vertical-align: top;\n    }\n\n    .dataframe thead th {\n        text-align: right;\n    }\n</style>\n<table border=\"1\" class=\"dataframe\">\n  <thead>\n    <tr style=\"text-align: right;\">\n      <th></th>\n      <th>title</th>\n      <th>vote_count</th>\n      <th>vote_average</th>\n      <th>year</th>\n      <th>wr</th>\n    </tr>\n  </thead>\n  <tbody>\n    <tr>\n      <th>1547</th>\n      <td>The Breakfast Club</td>\n      <td>2189</td>\n      <td>7</td>\n      <td>1985</td>\n      <td>6.709602</td>\n    </tr>\n    <tr>\n      <th>390</th>\n      <td>Dazed and Confused</td>\n      <td>588</td>\n      <td>7</td>\n      <td>1993</td>\n      <td>6.254682</td>\n    </tr>\n    <tr>\n      <th>8883</th>\n      <td>The DUFF</td>\n      <td>1372</td>\n      <td>6</td>\n      <td>2015</td>\n      <td>5.818541</td>\n    </tr>\n    <tr>\n      <th>3712</th>\n      <td>The Princess Diaries</td>\n      <td>1063</td>\n      <td>6</td>\n      <td>2001</td>\n      <td>5.781086</td>\n    </tr>\n    <tr>\n      <th>4763</th>\n      <td>Freaky Friday</td>\n      <td>919</td>\n      <td>6</td>\n      <td>2003</td>\n      <td>5.757786</td>\n    </tr>\n    <tr>\n      <th>6277</th>\n      <td>Just Like Heaven</td>\n      <td>595</td>\n      <td>6</td>\n      <td>2005</td>\n      <td>5.681521</td>\n    </tr>\n    <tr>\n      <th>6959</th>\n      <td>The Spiderwick Chronicles</td>\n      <td>593</td>\n      <td>6</td>\n      <td>2008</td>\n      <td>5.680901</td>\n    </tr>\n    <tr>\n      <th>7494</th>\n      <td>American Pie Presents: The Book of Love</td>\n      <td>454</td>\n      <td>5</td>\n      <td>2009</td>\n      <td>5.119690</td>\n    </tr>\n    <tr>\n      <th>7332</th>\n      <td>Ghosts of Girlfriends Past</td>\n      <td>716</td>\n      <td>5</td>\n      <td>2009</td>\n      <td>5.092422</td>\n    </tr>\n    <tr>\n      <th>7905</th>\n      <td>Mr. Popper's Penguins</td>\n      <td>775</td>\n      <td>5</td>\n      <td>2011</td>\n      <td>5.087912</td>\n    </tr>\n  </tbody>\n</table>\n</div>"
     },
     "metadata": {},
     "execution_count": 55
    }
   ],
   "source": [
    "improved_recommendations('Mean Girls')\n"
   ]
  },
  {
   "cell_type": "markdown",
   "metadata": {},
   "source": [
    "### Collaborative Filtering"
   ]
  },
  {
   "cell_type": "code",
   "execution_count": 56,
   "metadata": {},
   "outputs": [],
   "source": [
    "reader = Reader()\n"
   ]
  },
  {
   "cell_type": "code",
   "execution_count": 57,
   "metadata": {},
   "outputs": [
    {
     "output_type": "execute_result",
     "data": {
      "text/plain": "   userId  movieId  rating   timestamp\n0       1       31     2.5  1260759144\n1       1     1029     3.0  1260759179\n2       1     1061     3.0  1260759182\n3       1     1129     2.0  1260759185\n4       1     1172     4.0  1260759205",
      "text/html": "<div>\n<style scoped>\n    .dataframe tbody tr th:only-of-type {\n        vertical-align: middle;\n    }\n\n    .dataframe tbody tr th {\n        vertical-align: top;\n    }\n\n    .dataframe thead th {\n        text-align: right;\n    }\n</style>\n<table border=\"1\" class=\"dataframe\">\n  <thead>\n    <tr style=\"text-align: right;\">\n      <th></th>\n      <th>userId</th>\n      <th>movieId</th>\n      <th>rating</th>\n      <th>timestamp</th>\n    </tr>\n  </thead>\n  <tbody>\n    <tr>\n      <th>0</th>\n      <td>1</td>\n      <td>31</td>\n      <td>2.5</td>\n      <td>1260759144</td>\n    </tr>\n    <tr>\n      <th>1</th>\n      <td>1</td>\n      <td>1029</td>\n      <td>3.0</td>\n      <td>1260759179</td>\n    </tr>\n    <tr>\n      <th>2</th>\n      <td>1</td>\n      <td>1061</td>\n      <td>3.0</td>\n      <td>1260759182</td>\n    </tr>\n    <tr>\n      <th>3</th>\n      <td>1</td>\n      <td>1129</td>\n      <td>2.0</td>\n      <td>1260759185</td>\n    </tr>\n    <tr>\n      <th>4</th>\n      <td>1</td>\n      <td>1172</td>\n      <td>4.0</td>\n      <td>1260759205</td>\n    </tr>\n  </tbody>\n</table>\n</div>"
     },
     "metadata": {},
     "execution_count": 57
    }
   ],
   "source": [
    "ratings = pd.read_csv('../input/ratings_small.csv')\n",
    "ratings.head()"
   ]
  },
  {
   "cell_type": "code",
   "execution_count": 58,
   "metadata": {},
   "outputs": [],
   "source": [
    "data = Dataset.load_from_df(ratings[['userId', 'movieId', 'rating']], reader)\n",
    "# data.split(n_folds=5)"
   ]
  },
  {
   "cell_type": "code",
   "execution_count": 59,
   "metadata": {},
   "outputs": [],
   "source": [
    "# svd = SVD()\n",
    "# evaluate(svd, data, measures=['RMSE', 'MAE'])"
   ]
  },
  {
   "cell_type": "code",
   "execution_count": 60,
   "metadata": {},
   "outputs": [],
   "source": [
    "# trainset = data.build_full_trainset()\n",
    "# svd.train(trainset)"
   ]
  },
  {
   "cell_type": "code",
   "execution_count": 61,
   "metadata": {},
   "outputs": [],
   "source": [
    "# ratings[ratings['userId'] == 1]\n"
   ]
  },
  {
   "cell_type": "code",
   "execution_count": 62,
   "metadata": {},
   "outputs": [],
   "source": [
    "# svd.predict(1, 302, 3)\n"
   ]
  },
  {
   "cell_type": "markdown",
   "metadata": {},
   "source": [
    "# Hybrid Recommender (not working)"
   ]
  },
  {
   "cell_type": "code",
   "execution_count": 63,
   "metadata": {},
   "outputs": [],
   "source": [
    "def convert_int(x):\n",
    "    try:\n",
    "        return int(x)\n",
    "    except:\n",
    "        return np.nan"
   ]
  },
  {
   "cell_type": "code",
   "execution_count": 64,
   "metadata": {},
   "outputs": [],
   "source": [
    "id_map = pd.read_csv('../input/links_small.csv')[['movieId', 'tmdbId']]\n",
    "id_map['tmdbId'] = id_map['tmdbId'].apply(convert_int)\n",
    "id_map.columns = ['movieId', 'id']\n",
    "id_map = id_map.merge(smd[['title', 'id']], on='id').set_index('title')\n",
    "#id_map = id_map.set_index('tmdbId')"
   ]
  },
  {
   "cell_type": "code",
   "execution_count": 65,
   "metadata": {},
   "outputs": [],
   "source": [
    "indices_map = id_map.set_index('id')\n"
   ]
  },
  {
   "cell_type": "code",
   "execution_count": 66,
   "metadata": {},
   "outputs": [],
   "source": [
    "def hybrid(userId, title):\n",
    "    idx = indices[title]\n",
    "    tmdbId = id_map.loc[title]['id']\n",
    "    #print(idx)\n",
    "    movie_id = id_map.loc[title]['movieId']\n",
    "    \n",
    "    sim_scores = list(enumerate(cosine_sim[int(idx)]))\n",
    "    sim_scores = sorted(sim_scores, key=lambda x: x[1], reverse=True)\n",
    "    sim_scores = sim_scores[1:26]\n",
    "    movie_indices = [i[0] for i in sim_scores]\n",
    "    \n",
    "    movies = smd.iloc[movie_indices][['title', 'vote_count', 'vote_average', 'year', 'id']]\n",
    "    movies['est'] = movies['id'].apply(lambda x: svd.predict(userId, indices_map.loc[x]['movieId']).est)\n",
    "    movies = movies.sort_values('est', ascending=False)\n",
    "    return movies.head(10)"
   ]
  },
  {
   "cell_type": "code",
   "execution_count": 67,
   "metadata": {},
   "outputs": [],
   "source": [
    "# hybrid(1, 'Avatar')\n"
   ]
  },
  {
   "cell_type": "code",
   "execution_count": 68,
   "metadata": {},
   "outputs": [],
   "source": [
    "# hybrid(500, 'Avatar')"
   ]
  },
  {
   "cell_type": "code",
   "execution_count": 69,
   "metadata": {},
   "outputs": [
    {
     "output_type": "stream",
     "name": "stdout",
     "text": "hello world\n"
    }
   ],
   "source": [
    "print('hello world')"
   ]
  }
 ],
 "metadata": {
  "language_info": {
   "codemirror_mode": {
    "name": "ipython",
    "version": 3
   },
   "file_extension": ".py",
   "mimetype": "text/x-python",
   "name": "python",
   "nbconvert_exporter": "python",
   "pygments_lexer": "ipython3",
   "version": "3.7.4-final"
  },
  "orig_nbformat": 2,
  "kernelspec": {
   "name": "python37464bitenvvenvc6419c7479fb4c348c72c3d2f96f3f35",
   "display_name": "Python 3.7.4 64-bit ('env': venv)"
  }
 },
 "nbformat": 4,
 "nbformat_minor": 2
}
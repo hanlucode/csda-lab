{
 "cells": [
  {
   "cell_type": "markdown",
   "metadata": {},
   "source": [
    "# Recommender Systems by Group 8 in CSDA1040 Class Fall 2019\n",
    "\n",
    "Work is based on [Movie Recommender Systems on Kaggle](https://www.kaggle.com/rounakbanik/movie-recommender-systems) with modification to codebase for fixes, clarifications and adaptation for DASH app.\n"
   ]
  },
  {
   "cell_type": "code",
   "execution_count": 1,
   "metadata": {},
   "outputs": [],
   "source": [
    "%matplotlib inline\n",
    "import pandas as pd\n",
    "import numpy as np\n",
    "import matplotlib.pyplot as plt\n",
    "import seaborn as sns\n",
    "from scipy import stats\n",
    "\n",
    "from ast import literal_eval\n",
    "from sklearn.feature_extraction.text import TfidfVectorizer, CountVectorizer\n",
    "from sklearn.metrics.pairwise import linear_kernel, cosine_similarity\n",
    "from nltk.stem.snowball import SnowballStemmer\n",
    "from nltk.stem.wordnet import WordNetLemmatizer\n",
    "from nltk.corpus import wordnet\n",
    "\n",
    "#Recommender System Library surprise\n",
    "from surprise import Dataset, SVD\n",
    "from surprise import Reader\n",
    "\n",
    "from surprise.model_selection import cross_validate\n",
    "\n",
    "from collections import defaultdict\n",
    "\n",
    "\n",
    "# depreciated\n",
    "# from surprise import evaluate\n"
   ]
  },
  {
   "cell_type": "code",
   "execution_count": 2,
   "metadata": {},
   "outputs": [
    {
     "output_type": "execute_result",
     "data": {
      "text/plain": "   Unnamed: 0  adult                              belongs_to_collection  \\\n0           0  False  {'id': 10194, 'name': 'Toy Story Collection', ...   \n1           1  False                                                NaN   \n2           2  False  {'id': 119050, 'name': 'Grumpy Old Men Collect...   \n3           3  False                                                NaN   \n4           4  False  {'id': 96871, 'name': 'Father of the Bride Col...   \n\n       budget                              genres  \\\n0  30000000.0   ['Animation', 'Comedy', 'Family']   \n1  65000000.0  ['Adventure', 'Fantasy', 'Family']   \n2         0.0               ['Romance', 'Comedy']   \n3  16000000.0      ['Comedy', 'Drama', 'Romance']   \n4         0.0                          ['Comedy']   \n\n                               homepage     id  imdb_id original_language  \\\n0  http://toystory.disney.com/toy-story    862      NaN                en   \n1                                   NaN   8844      NaN                en   \n2                                   NaN  15602      NaN                en   \n3                                   NaN  31357      NaN                en   \n4                                   NaN  11862      NaN                en   \n\n                original_title  ... release_date      revenue runtime  \\\n0                    Toy Story  ...   1995-10-30  373554033.0    81.0   \n1                      Jumanji  ...   1995-12-15  262797249.0   104.0   \n2             Grumpier Old Men  ...   1995-12-22          0.0   101.0   \n3            Waiting to Exhale  ...   1995-12-22   81452156.0   127.0   \n4  Father of the Bride Part II  ...   1995-02-10   76578911.0   106.0   \n\n                                    spoken_languages    status  \\\n0           [{'iso_639_1': 'en', 'name': 'English'}]  Released   \n1  [{'iso_639_1': 'en', 'name': 'English'}, {'iso...  Released   \n2           [{'iso_639_1': 'en', 'name': 'English'}]  Released   \n3           [{'iso_639_1': 'en', 'name': 'English'}]  Released   \n4           [{'iso_639_1': 'en', 'name': 'English'}]  Released   \n\n                                             tagline  \\\n0                                                NaN   \n1          Roll the dice and unleash the excitement!   \n2  Still Yelling. Still Fighting. Still Ready for...   \n3  Friends are the people who let you be yourself...   \n4  Just When His World Is Back To Normal... He's ...   \n\n                         title  video vote_average vote_count  \n0                    Toy Story  False          7.7     5415.0  \n1                      Jumanji  False          6.9     2413.0  \n2             Grumpier Old Men  False          6.5       92.0  \n3            Waiting to Exhale  False          6.1       34.0  \n4  Father of the Bride Part II  False          5.7      173.0  \n\n[5 rows x 25 columns]",
      "text/html": "<div>\n<style scoped>\n    .dataframe tbody tr th:only-of-type {\n        vertical-align: middle;\n    }\n\n    .dataframe tbody tr th {\n        vertical-align: top;\n    }\n\n    .dataframe thead th {\n        text-align: right;\n    }\n</style>\n<table border=\"1\" class=\"dataframe\">\n  <thead>\n    <tr style=\"text-align: right;\">\n      <th></th>\n      <th>Unnamed: 0</th>\n      <th>adult</th>\n      <th>belongs_to_collection</th>\n      <th>budget</th>\n      <th>genres</th>\n      <th>homepage</th>\n      <th>id</th>\n      <th>imdb_id</th>\n      <th>original_language</th>\n      <th>original_title</th>\n      <th>...</th>\n      <th>release_date</th>\n      <th>revenue</th>\n      <th>runtime</th>\n      <th>spoken_languages</th>\n      <th>status</th>\n      <th>tagline</th>\n      <th>title</th>\n      <th>video</th>\n      <th>vote_average</th>\n      <th>vote_count</th>\n    </tr>\n  </thead>\n  <tbody>\n    <tr>\n      <th>0</th>\n      <td>0</td>\n      <td>False</td>\n      <td>{'id': 10194, 'name': 'Toy Story Collection', ...</td>\n      <td>30000000.0</td>\n      <td>['Animation', 'Comedy', 'Family']</td>\n      <td>http://toystory.disney.com/toy-story</td>\n      <td>862</td>\n      <td>NaN</td>\n      <td>en</td>\n      <td>Toy Story</td>\n      <td>...</td>\n      <td>1995-10-30</td>\n      <td>373554033.0</td>\n      <td>81.0</td>\n      <td>[{'iso_639_1': 'en', 'name': 'English'}]</td>\n      <td>Released</td>\n      <td>NaN</td>\n      <td>Toy Story</td>\n      <td>False</td>\n      <td>7.7</td>\n      <td>5415.0</td>\n    </tr>\n    <tr>\n      <th>1</th>\n      <td>1</td>\n      <td>False</td>\n      <td>NaN</td>\n      <td>65000000.0</td>\n      <td>['Adventure', 'Fantasy', 'Family']</td>\n      <td>NaN</td>\n      <td>8844</td>\n      <td>NaN</td>\n      <td>en</td>\n      <td>Jumanji</td>\n      <td>...</td>\n      <td>1995-12-15</td>\n      <td>262797249.0</td>\n      <td>104.0</td>\n      <td>[{'iso_639_1': 'en', 'name': 'English'}, {'iso...</td>\n      <td>Released</td>\n      <td>Roll the dice and unleash the excitement!</td>\n      <td>Jumanji</td>\n      <td>False</td>\n      <td>6.9</td>\n      <td>2413.0</td>\n    </tr>\n    <tr>\n      <th>2</th>\n      <td>2</td>\n      <td>False</td>\n      <td>{'id': 119050, 'name': 'Grumpy Old Men Collect...</td>\n      <td>0.0</td>\n      <td>['Romance', 'Comedy']</td>\n      <td>NaN</td>\n      <td>15602</td>\n      <td>NaN</td>\n      <td>en</td>\n      <td>Grumpier Old Men</td>\n      <td>...</td>\n      <td>1995-12-22</td>\n      <td>0.0</td>\n      <td>101.0</td>\n      <td>[{'iso_639_1': 'en', 'name': 'English'}]</td>\n      <td>Released</td>\n      <td>Still Yelling. Still Fighting. Still Ready for...</td>\n      <td>Grumpier Old Men</td>\n      <td>False</td>\n      <td>6.5</td>\n      <td>92.0</td>\n    </tr>\n    <tr>\n      <th>3</th>\n      <td>3</td>\n      <td>False</td>\n      <td>NaN</td>\n      <td>16000000.0</td>\n      <td>['Comedy', 'Drama', 'Romance']</td>\n      <td>NaN</td>\n      <td>31357</td>\n      <td>NaN</td>\n      <td>en</td>\n      <td>Waiting to Exhale</td>\n      <td>...</td>\n      <td>1995-12-22</td>\n      <td>81452156.0</td>\n      <td>127.0</td>\n      <td>[{'iso_639_1': 'en', 'name': 'English'}]</td>\n      <td>Released</td>\n      <td>Friends are the people who let you be yourself...</td>\n      <td>Waiting to Exhale</td>\n      <td>False</td>\n      <td>6.1</td>\n      <td>34.0</td>\n    </tr>\n    <tr>\n      <th>4</th>\n      <td>4</td>\n      <td>False</td>\n      <td>{'id': 96871, 'name': 'Father of the Bride Col...</td>\n      <td>0.0</td>\n      <td>['Comedy']</td>\n      <td>NaN</td>\n      <td>11862</td>\n      <td>NaN</td>\n      <td>en</td>\n      <td>Father of the Bride Part II</td>\n      <td>...</td>\n      <td>1995-02-10</td>\n      <td>76578911.0</td>\n      <td>106.0</td>\n      <td>[{'iso_639_1': 'en', 'name': 'English'}]</td>\n      <td>Released</td>\n      <td>Just When His World Is Back To Normal... He's ...</td>\n      <td>Father of the Bride Part II</td>\n      <td>False</td>\n      <td>5.7</td>\n      <td>173.0</td>\n    </tr>\n  </tbody>\n</table>\n<p>5 rows × 25 columns</p>\n</div>"
     },
     "metadata": {},
     "execution_count": 2
    }
   ],
   "source": [
    "# reading csv from movie.ipynb output for a cleaned csv based on movies_metadata.csv\n",
    "md = pd.read_csv('../input/movies_cleaned.csv')\n",
    "md.head()"
   ]
  },
  {
   "cell_type": "markdown",
   "metadata": {},
   "source": [
    "## A Simple Top Movies Listing based on different genres\n",
    "From the previous study, we are able to summarize all movies into 32 different genres. By feeding build_top_chart function for different genres, we are able to pull out movies with top vote_average. Then, we filter out those that are more trust worthy ones (where movies that have vote counts in the upper 0.05% (or above 99.95%) quantile and show it to end_user"
   ]
  },
  {
   "cell_type": "code",
   "execution_count": 3,
   "metadata": {},
   "outputs": [],
   "source": [
    "import re\n",
    "\n",
    "def get_top_chart_by_genre(genre, quantile=0.995):\n",
    "    qualified_df = md[md['vote_count'] > md['vote_count'].quantile(quantile)].sort_values('vote_average', ascending=False)\n",
    "    genre_filtered_df = qualified_df['genres'].str.contains(genre, flags=re.IGNORECASE, regex=True)\n",
    "    if genre != '':\n",
    "        # return qualified_df[genre_filtered_df]\n",
    "        return qualified_df[genre_filtered_df].index\n",
    "    else:\n",
    "        # return qualified_df\n",
    "        return qualified_df.index\n",
    "        "
   ]
  },
  {
   "cell_type": "code",
   "execution_count": 4,
   "metadata": {},
   "outputs": [
    {
     "output_type": "execute_result",
     "data": {
      "text/plain": "                          title release_date  vote_average  vote_count\n828               The Godfather   1972-03-14           8.5      6024.0\n313    The Shawshank Redemption   1994-09-23           8.5      8358.0\n521            Schindler's List   1993-11-29           8.3      4436.0\n12421           The Dark Knight   2008-07-16           8.3     12269.0\n2198          Life Is Beautiful   1997-12-20           8.3      3643.0\n2828                 Fight Club   1999-10-15           8.3      9678.0\n23496                  Whiplash   2014-10-10           8.3      4376.0\n291                Pulp Fiction   1994-09-10           8.3      8670.0\n5453              Spirited Away   2001-07-20           8.3      3968.0\n350                Forrest Gump   1994-07-06           8.2      8147.0",
      "text/html": "<div>\n<style scoped>\n    .dataframe tbody tr th:only-of-type {\n        vertical-align: middle;\n    }\n\n    .dataframe tbody tr th {\n        vertical-align: top;\n    }\n\n    .dataframe thead th {\n        text-align: right;\n    }\n</style>\n<table border=\"1\" class=\"dataframe\">\n  <thead>\n    <tr style=\"text-align: right;\">\n      <th></th>\n      <th>title</th>\n      <th>release_date</th>\n      <th>vote_average</th>\n      <th>vote_count</th>\n    </tr>\n  </thead>\n  <tbody>\n    <tr>\n      <th>828</th>\n      <td>The Godfather</td>\n      <td>1972-03-14</td>\n      <td>8.5</td>\n      <td>6024.0</td>\n    </tr>\n    <tr>\n      <th>313</th>\n      <td>The Shawshank Redemption</td>\n      <td>1994-09-23</td>\n      <td>8.5</td>\n      <td>8358.0</td>\n    </tr>\n    <tr>\n      <th>521</th>\n      <td>Schindler's List</td>\n      <td>1993-11-29</td>\n      <td>8.3</td>\n      <td>4436.0</td>\n    </tr>\n    <tr>\n      <th>12421</th>\n      <td>The Dark Knight</td>\n      <td>2008-07-16</td>\n      <td>8.3</td>\n      <td>12269.0</td>\n    </tr>\n    <tr>\n      <th>2198</th>\n      <td>Life Is Beautiful</td>\n      <td>1997-12-20</td>\n      <td>8.3</td>\n      <td>3643.0</td>\n    </tr>\n    <tr>\n      <th>2828</th>\n      <td>Fight Club</td>\n      <td>1999-10-15</td>\n      <td>8.3</td>\n      <td>9678.0</td>\n    </tr>\n    <tr>\n      <th>23496</th>\n      <td>Whiplash</td>\n      <td>2014-10-10</td>\n      <td>8.3</td>\n      <td>4376.0</td>\n    </tr>\n    <tr>\n      <th>291</th>\n      <td>Pulp Fiction</td>\n      <td>1994-09-10</td>\n      <td>8.3</td>\n      <td>8670.0</td>\n    </tr>\n    <tr>\n      <th>5453</th>\n      <td>Spirited Away</td>\n      <td>2001-07-20</td>\n      <td>8.3</td>\n      <td>3968.0</td>\n    </tr>\n    <tr>\n      <th>350</th>\n      <td>Forrest Gump</td>\n      <td>1994-07-06</td>\n      <td>8.2</td>\n      <td>8147.0</td>\n    </tr>\n  </tbody>\n</table>\n</div>"
     },
     "metadata": {},
     "execution_count": 4
    }
   ],
   "source": [
    "idx = get_top_chart_by_genre('')\n",
    "# idx.shape\n",
    "qf_df = md[md.index.isin(idx)]\n",
    "qf_df[['title', 'release_date', 'vote_average', 'vote_count' ]].sort_values('vote_average', ascending=False).head(10)"
   ]
  },
  {
   "cell_type": "code",
   "execution_count": 5,
   "metadata": {},
   "outputs": [
    {
     "output_type": "execute_result",
     "data": {
      "text/plain": "                                       title release_date  vote_average  \\\n350                             Forrest Gump   1994-07-06           8.2   \n7168   Eternal Sunshine of the Spotless Mind   2004-03-19           7.9   \n22003                                    Her   2013-12-18           7.9   \n40458                             La La Land   2016-11-29           7.9   \n23337                 The Fault in Our Stars   2014-05-16           7.6   \n1628                                 Titanic   1997-11-18           7.5   \n2165                     Edward Scissorhands   1990-12-05           7.5   \n580                                  Aladdin   1992-11-25           7.4   \n20762                       The Great Gatsby   2013-05-10           7.3   \n19598                Silver Linings Playbook   2012-09-08           7.0   \n\n       vote_count  \n350        8147.0  \n7168       3758.0  \n22003      4215.0  \n40458      4745.0  \n23337      3868.0  \n1628       7770.0  \n2165       3731.0  \n580        3495.0  \n20762      3885.0  \n19598      4840.0  ",
      "text/html": "<div>\n<style scoped>\n    .dataframe tbody tr th:only-of-type {\n        vertical-align: middle;\n    }\n\n    .dataframe tbody tr th {\n        vertical-align: top;\n    }\n\n    .dataframe thead th {\n        text-align: right;\n    }\n</style>\n<table border=\"1\" class=\"dataframe\">\n  <thead>\n    <tr style=\"text-align: right;\">\n      <th></th>\n      <th>title</th>\n      <th>release_date</th>\n      <th>vote_average</th>\n      <th>vote_count</th>\n    </tr>\n  </thead>\n  <tbody>\n    <tr>\n      <th>350</th>\n      <td>Forrest Gump</td>\n      <td>1994-07-06</td>\n      <td>8.2</td>\n      <td>8147.0</td>\n    </tr>\n    <tr>\n      <th>7168</th>\n      <td>Eternal Sunshine of the Spotless Mind</td>\n      <td>2004-03-19</td>\n      <td>7.9</td>\n      <td>3758.0</td>\n    </tr>\n    <tr>\n      <th>22003</th>\n      <td>Her</td>\n      <td>2013-12-18</td>\n      <td>7.9</td>\n      <td>4215.0</td>\n    </tr>\n    <tr>\n      <th>40458</th>\n      <td>La La Land</td>\n      <td>2016-11-29</td>\n      <td>7.9</td>\n      <td>4745.0</td>\n    </tr>\n    <tr>\n      <th>23337</th>\n      <td>The Fault in Our Stars</td>\n      <td>2014-05-16</td>\n      <td>7.6</td>\n      <td>3868.0</td>\n    </tr>\n    <tr>\n      <th>1628</th>\n      <td>Titanic</td>\n      <td>1997-11-18</td>\n      <td>7.5</td>\n      <td>7770.0</td>\n    </tr>\n    <tr>\n      <th>2165</th>\n      <td>Edward Scissorhands</td>\n      <td>1990-12-05</td>\n      <td>7.5</td>\n      <td>3731.0</td>\n    </tr>\n    <tr>\n      <th>580</th>\n      <td>Aladdin</td>\n      <td>1992-11-25</td>\n      <td>7.4</td>\n      <td>3495.0</td>\n    </tr>\n    <tr>\n      <th>20762</th>\n      <td>The Great Gatsby</td>\n      <td>2013-05-10</td>\n      <td>7.3</td>\n      <td>3885.0</td>\n    </tr>\n    <tr>\n      <th>19598</th>\n      <td>Silver Linings Playbook</td>\n      <td>2012-09-08</td>\n      <td>7.0</td>\n      <td>4840.0</td>\n    </tr>\n  </tbody>\n</table>\n</div>"
     },
     "metadata": {},
     "execution_count": 5
    }
   ],
   "source": [
    "idx = get_top_chart_by_genre('Romance')\n",
    "# idx.shape\n",
    "qf_df = md[md.index.isin(idx)]\n",
    "qf_df[['title', 'release_date', 'vote_average', 'vote_count' ]].sort_values('vote_average', ascending=False).head(10)"
   ]
  },
  {
   "cell_type": "markdown",
   "metadata": {},
   "source": [
    "## Content Based Recommender System\n",
    "The previous method can only show top rated movies by all voters. However, we want something that is tailored to an individual user. We will try different ways to recommend movies to our end users. First, we will try to find movies that are similiar."
   ]
  },
  {
   "cell_type": "markdown",
   "metadata": {},
   "source": [
    "## Recommender System based on text mining of Movie Descriptor \n",
    "We will try to suggest movies based on keywords from the descriptive text provided in the database, and we will use this info to find the best match for end user."
   ]
  },
  {
   "cell_type": "code",
   "execution_count": 6,
   "metadata": {},
   "outputs": [],
   "source": [
    "md['tagline'] = md['tagline'].fillna('')\n",
    "md['overview'] = md['overview'].fillna('')\n",
    "md['keywords'] = md['tagline'] + ' ' + md['overview']"
   ]
  },
  {
   "cell_type": "code",
   "execution_count": 7,
   "metadata": {
    "tags": [
     "outputPrepend"
    ]
   },
   "outputs": [],
   "source": [
    "# We build a Term Frequency (TF)-Inverse Data Frequency (IDF) summary of keywords using scikit-learn library\n",
    "# https://scikit-learn.org/stable/modules/generated/sklearn.feature_extraction.text.TfidfVectorizer.html\n",
    "\n",
    "vectorizer = TfidfVectorizer(analyzer='word', ngram_range=(1, 2),min_df=0, stop_words='english')\n",
    "X = vectorizer.fit_transform(md['keywords'])\n",
    "\n",
    "# Show TF-IDF Vectorizer properties\n",
    "# print('Shape: ')\n",
    "# print(X.shape)\n",
    "# print('Feature Names: ')\n",
    "# print(vectorizer.get_feature_names())\n",
    "\n",
    "# Next We build a lookup matrix that share similarity score for all movies title in the database\n",
    "cosine_similarity = linear_kernel(X,X)\n",
    "# showing cosine_similiarty characteristics\n",
    "# cosine_similarity.shape"
   ]
  },
  {
   "cell_type": "code",
   "execution_count": 8,
   "metadata": {},
   "outputs": [],
   "source": [
    "\n",
    "def get_recommended_movies_by_title(title, n=30):\n",
    "    #a = md.index[md['Title'] == 'The Godfather']\n",
    "    a = md[md['title'] == title]\n",
    "    if a.empty:\n",
    "        #print('Is Empty')\n",
    "        return []\n",
    "    else:\n",
    "        # print('Found Title')\n",
    "        # print(a.index)\n",
    "        \n",
    "        b = a.index.astype('int')\n",
    "        # print(b)\n",
    "        \n",
    "        # slice the cosine_similiarity matrix for this specific title\n",
    "        c = cosine_similarity[b]\n",
    "        d = c.tolist()\n",
    "        e = list(*d)\n",
    "        f = list(enumerate(e))\n",
    "        g = sorted(f, key=lambda x:x[1], reverse=True)\n",
    "        g = g[1:n+1]\n",
    "        movies_id = [x[0] for x in g]\n",
    "        return movies_id"
   ]
  },
  {
   "cell_type": "code",
   "execution_count": 9,
   "metadata": {
    "tags": [
     "outputPrepend",
     "outputPrepend",
     "outputPrepend",
     "outputPrepend",
     "outputPrepend",
     "outputPrepend",
     "outputPrepend",
     "outputPrepend",
     "outputPrepend",
     "outputPrepend",
     "outputPrepend",
     "outputPrepend",
     "outputPrepend",
     "outputPrepend",
     "outputPrepend",
     "outputPrepend",
     "outputPrepend",
     "outputPrepend",
     "outputPrepend",
     "outputPrepend",
     "outputPrepend",
     "outputPrepend",
     "outputPrepend",
     "outputPrepend",
     "outputPrepend",
     "outputPrepend",
     "outputPrepend",
     "outputPrepend",
     "outputPrepend",
     "outputPrepend",
     "outputPrepend",
     "outputPrepend",
     "outputPrepend",
     "outputPrepend",
     "outputPrepend",
     "outputPrepend",
     "outputPrepend",
     "outputPrepend",
     "outputPrepend",
     "outputPrepend",
     "outputPrepend",
     "outputPrepend",
     "outputPrepend",
     "outputPrepend",
     "outputPrepend",
     "outputPrepend",
     "outputPrepend"
    ]
   },
   "outputs": [
    {
     "output_type": "execute_result",
     "data": {
      "text/plain": "      Unnamed: 0  adult                              belongs_to_collection  \\\n795          801  False                                                NaN   \n3909        3928  False  {'id': 107469, 'name': 'Save The Last Dance Co...   \n3984        4004  False                                                NaN   \n\n          budget                                   genres homepage    id  \\\n795          0.0                    ['Comedy', 'Foreign']      NaN  9098   \n3909  13000000.0  ['Drama', 'Family', 'Romance', 'Music']      NaN  9816   \n3984         0.0                    ['Comedy', 'Fantasy']      NaN  2608   \n\n      imdb_id original_language       original_title  ...     revenue  \\\n795       NaN                de          Echte Kerle  ...         0.0   \n3909      NaN                en  Save the Last Dance  ...  91038276.0   \n3984      NaN                en        Maid to Order  ...   9868521.0   \n\n      runtime                                   spoken_languages    status  \\\n795     100.0           [{'iso_639_1': 'de', 'name': 'Deutsch'}]  Released   \n3909    112.0           [{'iso_639_1': 'en', 'name': 'English'}]  Released   \n3984     93.0  [{'iso_639_1': 'es', 'name': 'Español'}, {'iso...  Released   \n\n                                                tagline                title  \\\n795   Macho cop finds himself in a relationship with...         Regular Guys   \n3909        The Only Person You Need To Be Is Yourself.  Save the Last Dance   \n3984  She was raised in a Beverly Hills mansion. Now...        Maid to Order   \n\n      video  vote_average vote_count  \\\n795   False           5.2        9.0   \n3909  False           6.3      359.0   \n3984  False           5.2       17.0   \n\n                                               keywords  \n795   Macho cop finds himself in a relationship with...  \n3909  The Only Person You Need To Be Is Yourself. A ...  \n3984  She was raised in a Beverly Hills mansion. Now...  \n\n[3 rows x 26 columns]",
      "text/html": "<div>\n<style scoped>\n    .dataframe tbody tr th:only-of-type {\n        vertical-align: middle;\n    }\n\n    .dataframe tbody tr th {\n        vertical-align: top;\n    }\n\n    .dataframe thead th {\n        text-align: right;\n    }\n</style>\n<table border=\"1\" class=\"dataframe\">\n  <thead>\n    <tr style=\"text-align: right;\">\n      <th></th>\n      <th>Unnamed: 0</th>\n      <th>adult</th>\n      <th>belongs_to_collection</th>\n      <th>budget</th>\n      <th>genres</th>\n      <th>homepage</th>\n      <th>id</th>\n      <th>imdb_id</th>\n      <th>original_language</th>\n      <th>original_title</th>\n      <th>...</th>\n      <th>revenue</th>\n      <th>runtime</th>\n      <th>spoken_languages</th>\n      <th>status</th>\n      <th>tagline</th>\n      <th>title</th>\n      <th>video</th>\n      <th>vote_average</th>\n      <th>vote_count</th>\n      <th>keywords</th>\n    </tr>\n  </thead>\n  <tbody>\n    <tr>\n      <th>795</th>\n      <td>801</td>\n      <td>False</td>\n      <td>NaN</td>\n      <td>0.0</td>\n      <td>['Comedy', 'Foreign']</td>\n      <td>NaN</td>\n      <td>9098</td>\n      <td>NaN</td>\n      <td>de</td>\n      <td>Echte Kerle</td>\n      <td>...</td>\n      <td>0.0</td>\n      <td>100.0</td>\n      <td>[{'iso_639_1': 'de', 'name': 'Deutsch'}]</td>\n      <td>Released</td>\n      <td>Macho cop finds himself in a relationship with...</td>\n      <td>Regular Guys</td>\n      <td>False</td>\n      <td>5.2</td>\n      <td>9.0</td>\n      <td>Macho cop finds himself in a relationship with...</td>\n    </tr>\n    <tr>\n      <th>3909</th>\n      <td>3928</td>\n      <td>False</td>\n      <td>{'id': 107469, 'name': 'Save The Last Dance Co...</td>\n      <td>13000000.0</td>\n      <td>['Drama', 'Family', 'Romance', 'Music']</td>\n      <td>NaN</td>\n      <td>9816</td>\n      <td>NaN</td>\n      <td>en</td>\n      <td>Save the Last Dance</td>\n      <td>...</td>\n      <td>91038276.0</td>\n      <td>112.0</td>\n      <td>[{'iso_639_1': 'en', 'name': 'English'}]</td>\n      <td>Released</td>\n      <td>The Only Person You Need To Be Is Yourself.</td>\n      <td>Save the Last Dance</td>\n      <td>False</td>\n      <td>6.3</td>\n      <td>359.0</td>\n      <td>The Only Person You Need To Be Is Yourself. A ...</td>\n    </tr>\n    <tr>\n      <th>3984</th>\n      <td>4004</td>\n      <td>False</td>\n      <td>NaN</td>\n      <td>0.0</td>\n      <td>['Comedy', 'Fantasy']</td>\n      <td>NaN</td>\n      <td>2608</td>\n      <td>NaN</td>\n      <td>en</td>\n      <td>Maid to Order</td>\n      <td>...</td>\n      <td>9868521.0</td>\n      <td>93.0</td>\n      <td>[{'iso_639_1': 'es', 'name': 'Español'}, {'iso...</td>\n      <td>Released</td>\n      <td>She was raised in a Beverly Hills mansion. Now...</td>\n      <td>Maid to Order</td>\n      <td>False</td>\n      <td>5.2</td>\n      <td>17.0</td>\n      <td>She was raised in a Beverly Hills mansion. Now...</td>\n    </tr>\n  </tbody>\n</table>\n<p>3 rows × 26 columns</p>\n</div>"
     },
     "metadata": {},
     "execution_count": 9
    }
   ],
   "source": [
    "movie_lst = get_recommended_movies_by_title('Family Business')\n",
    "rec_df = md[md.index.isin(movie_lst)]\n",
    "rec_df.head(3)"
   ]
  },
  {
   "cell_type": "code",
   "execution_count": 10,
   "metadata": {},
   "outputs": [
    {
     "output_type": "execute_result",
     "data": {
      "text/plain": "      Unnamed: 0  adult                              belongs_to_collection  \\\n584          585  False  {'id': 120794, 'name': 'Batman Collection', 'p...   \n1321        1328  False  {'id': 120794, 'name': 'Batman Collection', 'p...   \n1482        1491  False  {'id': 120794, 'name': 'Batman Collection', 'p...   \n\n           budget                          genres homepage   id  imdb_id  \\\n584    35000000.0           ['Fantasy', 'Action']      NaN  268      NaN   \n1321   80000000.0           ['Action', 'Fantasy']      NaN  364      NaN   \n1482  125000000.0  ['Action', 'Crime', 'Fantasy']      NaN  415      NaN   \n\n     original_language  original_title  ...      revenue  runtime  \\\n584                 en          Batman  ...  411348924.0    126.0   \n1321                en  Batman Returns  ...  280000000.0    126.0   \n1482                en  Batman & Robin  ...  238207122.0    125.0   \n\n                                       spoken_languages    status  \\\n584   [{'iso_639_1': 'en', 'name': 'English'}, {'iso...  Released   \n1321           [{'iso_639_1': 'en', 'name': 'English'}]  Released   \n1482           [{'iso_639_1': 'en', 'name': 'English'}]  Released   \n\n                                                tagline           title  \\\n584   Have you ever danced with the devil in the pal...          Batman   \n1321                     The Bat, the Cat, the Penguin.  Batman Returns   \n1482             Strength. Courage. Honor. And loyalty.  Batman & Robin   \n\n      video  vote_average vote_count  \\\n584   False           7.0     2145.0   \n1321  False           6.6     1706.0   \n1482  False           4.2     1447.0   \n\n                                               keywords  \n584   Have you ever danced with the devil in the pal...  \n1321  The Bat, the Cat, the Penguin. Having defeated...  \n1482  Strength. Courage. Honor. And loyalty. Along w...  \n\n[3 rows x 26 columns]",
      "text/html": "<div>\n<style scoped>\n    .dataframe tbody tr th:only-of-type {\n        vertical-align: middle;\n    }\n\n    .dataframe tbody tr th {\n        vertical-align: top;\n    }\n\n    .dataframe thead th {\n        text-align: right;\n    }\n</style>\n<table border=\"1\" class=\"dataframe\">\n  <thead>\n    <tr style=\"text-align: right;\">\n      <th></th>\n      <th>Unnamed: 0</th>\n      <th>adult</th>\n      <th>belongs_to_collection</th>\n      <th>budget</th>\n      <th>genres</th>\n      <th>homepage</th>\n      <th>id</th>\n      <th>imdb_id</th>\n      <th>original_language</th>\n      <th>original_title</th>\n      <th>...</th>\n      <th>revenue</th>\n      <th>runtime</th>\n      <th>spoken_languages</th>\n      <th>status</th>\n      <th>tagline</th>\n      <th>title</th>\n      <th>video</th>\n      <th>vote_average</th>\n      <th>vote_count</th>\n      <th>keywords</th>\n    </tr>\n  </thead>\n  <tbody>\n    <tr>\n      <th>584</th>\n      <td>585</td>\n      <td>False</td>\n      <td>{'id': 120794, 'name': 'Batman Collection', 'p...</td>\n      <td>35000000.0</td>\n      <td>['Fantasy', 'Action']</td>\n      <td>NaN</td>\n      <td>268</td>\n      <td>NaN</td>\n      <td>en</td>\n      <td>Batman</td>\n      <td>...</td>\n      <td>411348924.0</td>\n      <td>126.0</td>\n      <td>[{'iso_639_1': 'en', 'name': 'English'}, {'iso...</td>\n      <td>Released</td>\n      <td>Have you ever danced with the devil in the pal...</td>\n      <td>Batman</td>\n      <td>False</td>\n      <td>7.0</td>\n      <td>2145.0</td>\n      <td>Have you ever danced with the devil in the pal...</td>\n    </tr>\n    <tr>\n      <th>1321</th>\n      <td>1328</td>\n      <td>False</td>\n      <td>{'id': 120794, 'name': 'Batman Collection', 'p...</td>\n      <td>80000000.0</td>\n      <td>['Action', 'Fantasy']</td>\n      <td>NaN</td>\n      <td>364</td>\n      <td>NaN</td>\n      <td>en</td>\n      <td>Batman Returns</td>\n      <td>...</td>\n      <td>280000000.0</td>\n      <td>126.0</td>\n      <td>[{'iso_639_1': 'en', 'name': 'English'}]</td>\n      <td>Released</td>\n      <td>The Bat, the Cat, the Penguin.</td>\n      <td>Batman Returns</td>\n      <td>False</td>\n      <td>6.6</td>\n      <td>1706.0</td>\n      <td>The Bat, the Cat, the Penguin. Having defeated...</td>\n    </tr>\n    <tr>\n      <th>1482</th>\n      <td>1491</td>\n      <td>False</td>\n      <td>{'id': 120794, 'name': 'Batman Collection', 'p...</td>\n      <td>125000000.0</td>\n      <td>['Action', 'Crime', 'Fantasy']</td>\n      <td>NaN</td>\n      <td>415</td>\n      <td>NaN</td>\n      <td>en</td>\n      <td>Batman &amp; Robin</td>\n      <td>...</td>\n      <td>238207122.0</td>\n      <td>125.0</td>\n      <td>[{'iso_639_1': 'en', 'name': 'English'}]</td>\n      <td>Released</td>\n      <td>Strength. Courage. Honor. And loyalty.</td>\n      <td>Batman &amp; Robin</td>\n      <td>False</td>\n      <td>4.2</td>\n      <td>1447.0</td>\n      <td>Strength. Courage. Honor. And loyalty. Along w...</td>\n    </tr>\n  </tbody>\n</table>\n<p>3 rows × 26 columns</p>\n</div>"
     },
     "metadata": {},
     "execution_count": 10
    }
   ],
   "source": [
    "movie_lst = get_recommended_movies_by_title('Batman Forever')\n",
    "rec_df = md[md.index.isin(movie_lst)]\n",
    "rec_df.head(3)"
   ]
  },
  {
   "cell_type": "markdown",
   "metadata": {},
   "source": [
    "## Collaborative Filtering\n",
    "\n",
    "[Surprise - FAQ How to get the top-N recommendations for each user](https://surprise.readthedocs.io/en/stable/FAQ.html#how-to-get-the-top-n-recommendations-for-each-user)\n",
    "\n"
   ]
  },
  {
   "cell_type": "code",
   "execution_count": 11,
   "metadata": {},
   "outputs": [],
   "source": [
    "# rating_df = pd.read_csv('../input/ratings_small.csv')\n",
    "rating_df = pd.read_csv('../input/ratings_small.csv')\n",
    "reader = Reader()\n",
    "algo = SVD()\n",
    "\n",
    "# The columns must correspond to user id, item id and ratings (in that order).\n",
    "data = Dataset.load_from_df(rating_df[['userId', 'movieId', 'rating']], reader)\n",
    "\n",
    "# We can now use this dataset as we please, e.g. calling cross_validate\n",
    "trainset = data.build_full_trainset()\n",
    "algo.fit(trainset)\n",
    "\n",
    "testset = trainset.build_anti_testset()\n",
    "predictions = algo.test(testset)"
   ]
  },
  {
   "cell_type": "code",
   "execution_count": 12,
   "metadata": {},
   "outputs": [
    {
     "output_type": "stream",
     "name": "stdout",
     "text": "Evaluating RMSE, MAE of algorithm SVD on 5 split(s).\n\n                  Fold 1  Fold 2  Fold 3  Fold 4  Fold 5  Mean    Std     \nRMSE (testset)    0.8984  0.8965  0.8918  0.8994  0.8954  0.8963  0.0027  \nMAE (testset)     0.6891  0.6907  0.6882  0.6912  0.6903  0.6899  0.0011  \nFit time          3.60    3.63    3.64    3.63    3.63    3.63    0.01    \nTest time         0.11    0.10    0.10    0.10    0.10    0.10    0.00    \n"
    },
    {
     "output_type": "execute_result",
     "data": {
      "text/plain": "{'test_rmse': array([0.89840585, 0.89653512, 0.89176526, 0.89940498, 0.89537261]),\n 'test_mae': array([0.68913586, 0.69066048, 0.68815402, 0.69123848, 0.6902898 ]),\n 'fit_time': (3.603806972503662,\n  3.628370761871338,\n  3.642861843109131,\n  3.634511947631836,\n  3.630908250808716),\n 'test_time': (0.10542988777160645,\n  0.10388422012329102,\n  0.10273623466491699,\n  0.10292220115661621,\n  0.10204815864562988)}"
     },
     "metadata": {},
     "execution_count": 12
    }
   ],
   "source": [
    "# We can now use this dataset as we please, e.g. calling cross_validate\n",
    "cross_validate(algo, data, measures=['RMSE', 'MAE'], cv=5, verbose=True)"
   ]
  },
  {
   "cell_type": "code",
   "execution_count": 13,
   "metadata": {},
   "outputs": [
    {
     "output_type": "stream",
     "name": "stdout",
     "text": "RMSE: 0.9088\nRMSE: 0.9005\nRMSE: 0.9035\n"
    }
   ],
   "source": [
    "from surprise.model_selection import KFold\n",
    "from surprise import accuracy\n",
    "\n",
    "kf = KFold(n_splits=3)\n",
    "\n",
    "for trainset, testset in kf.split(data):\n",
    "\n",
    "    # train and test algorithm.\n",
    "    algo.fit(trainset)\n",
    "    predictions = algo.test(testset)\n",
    "\n",
    "    # Compute and print Root Mean Squared Error\n",
    "    accuracy.rmse(predictions, verbose=True)"
   ]
  },
  {
   "cell_type": "code",
   "execution_count": 14,
   "metadata": {},
   "outputs": [],
   "source": [
    "def get_top_n(predictions, n=10):\n",
    "    '''Return the top-N recommendation for each user from a set of predictions.\n",
    "\n",
    "    Args:\n",
    "        predictions(list of Prediction objects): The list of predictions, as\n",
    "            returned by the test method of an algorithm.\n",
    "        n(int): The number of recommendation to output for each user. Default\n",
    "            is 10.\n",
    "\n",
    "    Returns:\n",
    "    A dict where keys are user (raw) ids and values are lists of tuples:\n",
    "        [(raw item id, rating estimation), ...] of size n.\n",
    "    '''\n",
    "\n",
    "    # First map the predictions to each user.\n",
    "    top_n = defaultdict(list)\n",
    "    for uid, iid, true_r, est, _ in predictions:\n",
    "        top_n[uid].append((iid, est))\n",
    "\n",
    "    # Then sort the predictions for each user and retrieve the k highest ones.\n",
    "    for uid, user_ratings in top_n.items():\n",
    "        user_ratings.sort(key=lambda x: x[1], reverse=True)\n",
    "        top_n[uid] = user_ratings[:n]\n",
    "\n",
    "    return top_n"
   ]
  },
  {
   "cell_type": "code",
   "execution_count": 15,
   "metadata": {
    "tags": [
     "outputPrepend"
    ]
   },
   "outputs": [
    {
     "output_type": "stream",
     "name": "stdout",
     "text": "2, 2905, 720, 2678, 215, 4271, 117, 3718, 4278, 334]\n159 [296, 2959, 4226, 4973, 913, 1136, 260, 2858, 1198, 2329]\n649 [307, 593, 527, 457, 319, 235, 364, 293, 32, 417]\n96 [908, 923, 50, 912, 969, 1212, 56367, 527, 48394, 7361]\n270 [50, 4226, 7361, 56367, 1704, 48780, 109487, 48516, 79132, 4973]\n174 [1094, 1380, 342, 48]\n395 [110, 3471, 2916, 2640, 2023, 1206, 2240]\n621 [4993, 1136, 1704, 356, 3671, 2918, 8961, 2571, 914, 3101]\n168 [296, 912, 589, 32, 110, 150, 924, 509, 1, 514]\n532 [5952, 6377, 1097, 1262, 110, 733, 2268, 5377, 480, 2151]\n576 [260, 2571, 1036, 1960, 1270, 1249, 1537, 4034, 480, 2006]\n192 [527, 356, 457, 551, 364, 595, 474, 316, 2, 587]\n402 [858, 1196, 1035, 1198, 78499, 31658, 5618, 5952, 6539, 76093]\n94 [7153, 2692, 1233, 55820, 78499, 1222, 50, 110, 858, 6016]\n617 [527, 1225, 457, 919, 356, 2572, 1784, 1387, 480, 1997]\n562 [50, 527, 778, 1210, 44191, 1213, 4993, 5989, 3578, 4306]\n569 [913, 912, 908, 1225, 1358, 1247, 2359, 920, 2804, 931]\n615 [593, 2858, 7502, 58559, 134853, 5989, 4878, 1136, 4226, 6807]\n671 [4993, 260, 2396, 1197, 1291, 1, 2918, 4886, 457, 4011]\n158 [3386, 54286, 319, 60293, 62956, 2004, 481, 2412, 327]\n211 [778, 969, 1225, 1617, 1270, 1625, 32, 728, 595, 1527]\n500 [1207, 56367, 1704, 6942, 4993, 919, 5989, 2571, 4973, 7361]\n35 [1267, 2289, 3072, 1047, 24]\n134 [2692, 4226, 1208, 296, 2858, 541, 1233, 1136, 1259, 2571]\n597 [1196, 904, 2064, 1732, 1267, 1212, 1, 1215, 2467, 1178]\n385 [318, 608, 161, 265, 16, 356, 36, 110, 457, 6]\n455 [296, 2502, 1060, 1, 3147, 356, 364, 377, 145, 736]\n592 [1356, 1148, 1291, 3175, 1954, 4299, 1200, 165, 349, 3397]\n131 [2692, 356, 2762, 1176, 1959, 3852, 4034, 728, 2628, 2688]\n456 [260, 593, 5618, 44191, 31658, 79132, 1198, 6874, 5903, 5952]\n177 [593, 47, 50, 1148, 1097, 1136, 608, 1235, 2144, 1356]\n626 [593, 1682, 2858, 2976, 2761, 3578, 2288, 1968, 2997, 2718]\n612 [1136, 80463, 40815, 1682, 2502, 50872, 74458, 1097, 1246, 2918]\n300 [2858, 593, 260, 1291, 1210, 3147, 110, 3471, 1625, 589]\n453 [589, 3000, 1097, 1573, 1396, 1527, 1100, 1687, 736, 303]\n278 [1252, 908, 296, 1225, 2064, 1960, 2973, 923, 750, 2396]\n577 [858, 541, 912, 1198, 1210, 7361, 2571, 953, 4993, 260]\n416 [296, 593, 589, 150, 353, 39, 349, 780, 594, 592]\n488 [4993, 1136, 5995, 7361, 7153, 319, 5952, 293, 1103, 1357]\n527 [260, 1259, 778, 1293, 36, 1197, 1136, 1704, 1291, 2028]\n610 [8874, 5989, 56367, 55820, 49530, 5995, 57669, 38038, 5225, 538]\n196 [3703, 3072, 2712, 3102, 3702, 2762, 3681, 261, 3510, 3654]\n430 [4993, 1196, 318, 1193, 4878, 2324, 593, 1617, 4973, 6874]\n178 [2959, 899, 951, 1208, 1704, 1228, 3578, 99114, 1247, 1968]\n641 [32, 296, 1366, 1057, 837, 219, 986, 224, 113, 514]\n397 [5971, 65261, 2761, 8961, 68954, 26776, 69481, 71838, 6283, 3267]\n29 [778, 58559, 2065, 6365, 73268, 2384, 2717, 2713]\n541 [923, 2762, 356, 3175, 3219, 2693, 2657, 785, 2840, 2628]\n34 [2064, 858, 1193, 1208, 750, 1259, 1213, 527, 260, 1240]\n666 [527, 356, 457, 590, 6, 539, 587, 39, 597, 165]\n191 [380, 588, 231, 592, 165, 185, 344]\n419 [2959, 6539, 3481, 1, 3408, 1784, 5876, 2321, 1641, 4886]\n182 [457, 62, 594, 838, 1084, 13, 508, 616, 224, 587]\n506 [858, 376, 1059, 780, 788, 724, 1391]\n450 [57669, 2692, 2019, 608, 1617, 296, 908, 4027, 7361, 61323]\n12 [2959, 529, 2529, 3408, 3794, 1374, 1639, 3809, 3791, 3885]\n339 [2692, 2571, 260, 5952, 1036, 70286, 7153, 3006, 2028, 2273]\n599 [78499, 745, 4973, 2918, 1251, 56367, 81847, 88125, 80906, 2291]\n558 [1299, 3578, 4226, 2858, 2300, 858, 1952, 1080, 2599, 1256]\n432 [318, 50, 5995, 4235, 48780, 2502, 293, 1258, 5418, 4034]\n117 [527, 2324, 1957, 1674, 1235, 215, 1185, 1271, 81845, 73023]\n282 [318, 1197, 1270, 4995, 457, 1210, 356, 5952, 1641, 4306]\n273 [296, 4878, 1197, 51255, 1210, 2762, 115617, 8874, 73017, 6874]\n556 [593, 590, 474, 349, 364, 231, 434, 344, 208]\n223 [608, 260, 36, 32, 6, 113, 62, 86, 613, 802]\n102 [593, 1719, 1208, 2300, 541, 2064, 50, 1197, 608, 1256]\n202 [318, 296, 1304, 1953, 1210, 1333, 1997, 3412, 4008, 3701]\n190 [2858, 2692, 2580, 2070, 2310, 785, 2686, 2987, 2390, 1097]\n458 [5952, 858, 527, 1089, 2571, 1265, 1270, 1097, 1214, 3578]\n118 [913, 50, 1212, 1276, 593, 922, 904, 750, 1219, 3543]\n428 [50, 58559, 1208, 1259, 589, 2959, 4995, 1201, 919, 2324]\n154 [1, 62, 52, 648, 1405, 711, 708, 107, 806, 673]\n559 [260, 1196, 541, 608, 1276, 1247, 1952, 2081, 1198, 1500]\n263 [2019, 2959, 318, 1267, 593, 110, 1617, 1222, 4995, 1784]\n422 [1213, 1060, 2324, 1223, 1265, 296, 2712, 3418, 36, 2028]\n555 [296, 527, 497, 50, 306, 260, 509, 535, 308, 154]\n21 [912, 1148, 899, 1217, 1196, 260, 593, 1079, 1252, 923]\n655 [4993, 5952, 50, 2571, 1198, 1197, 1270, 296, 1291, 6539]\n80 [608, 16, 25, 141, 191, 802, 20, 46, 610, 105]\n207 [914, 3256, 69122, 431, 69757, 72209, 59834, 70121, 779, 333]\n520 [1221, 4993, 1210, 1247, 111, 47, 1213, 1060, 475, 1198]\n425 [593, 4993, 4226, 2959, 2329, 5952, 1200, 1210, 7263, 4327]\n528 [858, 908, 296, 111, 899, 608, 2542, 50, 1278, 1196]\n58 [969, 2791, 1225, 1927, 940, 3510, 3153, 3070, 1917, 2180]\n494 [260, 1193, 318, 527, 1210, 1704, 1267, 68157, 44191, 296]\n467 [1213, 608, 928, 1704, 2580, 2997, 2165, 2396, 2762, 2725]\n625 [112552, 1197, 68358, 134853, 109374, 110102, 88744, 81591, 115713, 74458]\n241 [50, 235, 261, 194, 555, 589, 223, 36, 509, 780]\n394 [296, 246, 1221, 1213, 1784, 1198, 5989, 8636, 926, 1207]\n376 [1233, 1193, 904, 922, 1212, 4361, 1230, 4239, 2396, 1952]\n396 [272, 497, 594, 150, 17, 440, 279, 161, 275, 520]\n517 [527, 356, 47, 17, 253, 500, 595, 592, 231, 95]\n414 [969, 4973, 1244, 953, 589, 28, 2962, 21, 4420, 4021]\n436 [2019, 1233, 912, 919, 904, 1411, 608, 1283, 1224, 1206]\n37 [1196, 3481, 2081, 4014, 364, 902, 3996, 2085, 4054, 3977]\n40 [1196, 260, 79702, 49272, 109487, 44191, 51255, 122882, 106920, 33794]\n275 [56782, 2959, 2542, 745, 3578, 59315, 1198, 97938, 3481, 1240]\n616 [1, 32, 733, 832, 805, 141, 6, 1183, 140, 635]\n42 [260, 59315, 1291, 109487, 2571, 106782, 134853, 349, 1097, 79132]\n46 [81834, 89745, 3868, 5952, 7153, 88125, 59018, 91529, 2541, 2398]\n103 [4973, 2858, 2571, 593, 47, 293, 8636, 1215, 1200, 6502]\n344 [232, 296, 1196, 1136, 1263, 1203, 1247, 1214, 1200, 1201]\n55 [260, 608, 376, 1073, 141, 708, 112, 95, 736, 724]\n83 [908, 2300, 904, 1358, 3362, 1276, 3897, 1278, 235, 1060]\n451 [2064, 1225, 2959, 581, 3996, 52, 1797, 4009, 1192, 1484]\n542 [4993, 1221, 1704, 4886, 78499, 91529, 68954, 89745, 8368, 46578]\n228 [1682, 1196, 1200, 2005, 1198, 4085, 2571, 1197, 2716, 1220]\n325 [4085, 1022, 2694, 1339, 1371, 724]\n281 [1193, 922, 296, 908, 1252, 1207, 919, 1250, 3468, 903]\n638 [1223, 2359, 2391, 1019, 3148, 3354, 1882]\n473 [76093, 1704, 356, 5377, 58559, 59315, 112852, 4306, 2571, 85414]\n443 [318, 1196, 106782, 260, 65261, 89864, 6350, 104841]\n18 [85, 17, 52, 805, 376, 780, 25, 640, 81, 748]\n364 [1240, 47, 541, 109374, 26776, 56367, 26662, 3948, 106696, 109249]\n170 [1272, 2144, 2355, 524, 2078, 616, 2723, 1373]\n256 [32, 608, 25, 52, 376, 95, 5, 9]\n478 [59315, 5995, 68157, 778, 80463, 1089, 4995, 293, 74458, 7361]\n594 [296, 858, 527, 1196, 246, 2289, 1304, 1089, 1198, 2248]\n329 [32, 1, 7, 95, 104, 3, 802, 653, 736]\n320 [908, 318, 2858, 527, 912, 109487, 44191, 39183, 924, 4306]\n352 [1213, 2918, 1196, 1732, 260, 91529, 61240, 1097, 2716, 3114]\n293 [750, 5952, 1641, 1197, 1080, 2788, 1200, 1240, 594, 4306]\n197 [1196, 750, 1215, 1240, 1356, 1376, 1527, 3638, 1019, 3703]\n162 [36, 100, 736, 605, 7, 494, 650, 719]\n204 [1230, 3996, 7438, 4306, 8838, 1374, 4700, 8899, 2011, 112]\n389 [588, 380, 54, 238, 237, 339, 333, 253, 252, 208]\n62 [111, 68157, 112552, 134130, 6016, 70286, 81591, 1210, 106920, 2028]\n398 [1198, 2140, 3361, 2115, 2174, 1923, 3793, 3799, 3751, 2716]\n272 [89745, 96079, 33794, 81847, 94777, 5218, 95510, 110553, 592, 4367]\n420 [923, 1250, 1304, 1198, 903, 1193, 953, 1079, 1220, 593]\n63 [1221, 720, 2959, 4306, 457, 5952, 1304, 2174, 3897, 3471]\n483 [318, 112852, 260, 1196, 110, 293, 8874, 1259, 106100, 3702]\n582 [899, 1196, 594, 1204, 5952, 3114, 1580, 2857, 2144, 6539]\n370 [318, 953, 2959, 4226, 110, 1196, 527, 1673, 1261, 3578]\n6 [1358, 2692, 8874, 1259, 5952, 1250, 596, 3751, 2657, 2001]\n540 [4973, 7373, 5309, 4975, 34048]\n164 [913, 111, 4027, 922, 954, 260, 1203, 1732, 296, 223]\n322 [1968, 3952, 3386, 903, 3730, 1086, 924, 906, 3251, 2206]\n515 [48516, 70286, 2804, 3386, 3246, 3275, 8827, 53125, 169, 273]\n524 [296, 1206, 2997, 8368, 64957, 40815, 49272, 8874, 4896, 2596]\n143 [318, 5669, 527, 1206, 1380, 30810, 3949, 353, 480, 4979]\n11 [97938, 3424, 96079, 1408, 5669, 26614, 6598, 71211, 2042, 169]\n411 [912, 527, 1221, 1196, 1219, 2762, 2439, 2541, 3076]\n135 [10, 27, 747, 20, 18, 102, 818, 762]\n516 [318, 232, 741, 47, 1079, 32, 555, 34, 161, 30]\n633 [36, 440, 539, 587, 508, 21, 329, 500]\n657 [318, 150, 380, 590, 592, 648, 344]\n378 [2858, 296, 293, 318, 4226, 1089, 1258, 1193, 1333, 68157]\n568 [300, 150, 377, 590, 595, 733, 316, 253, 231, 329]\n507 [1210, 32, 36, 1, 832, 141, 62, 100, 376, 648]\n511 [608, 296, 50, 246, 720, 235, 223, 36, 337, 293]\n307 [1193, 527, 5995, 49530, 54286, 2959, 48394, 8950, 27831, 2329]\n326 [1193, 919, 1210, 1197, 1259, 1580, 337, 1127, 3412, 2987]\n383 [1198, 1357, 356, 1, 32, 29, 62, 1046, 1049, 34]\n351 [858, 1207, 950, 4008, 94, 524, 4003, 3959, 3963, 3957]\n586 [318, 7153, 1270, 527, 5952, 1196, 3386, 260, 6539, 1952]\n372 [1278, 912, 265, 1172, 1066, 1307, 2935, 907, 2390, 2424]\n217 [858, 2599, 110, 2115, 2028, 1610, 2000, 3098, 5500, 2502]\n140 [1197, 318, 31658, 5618, 4306, 593, 4896, 81845, 4963, 72641]\n189 [913, 1959, 2762, 3793, 3186, 2997, 1230, 1732, 608, 2712]\n536 [318, 194, 47, 223, 233, 154, 555, 161, 39, 431]\n121 [50, 296, 527, 593, 497, 307, 17, 223, 349, 300]\n104 [318, 1196, 58559, 2571, 115617, 79132, 71135, 150, 293, 110]\n276 [1215, 4085, 1408, 2804, 3213, 1129, 168, 673, 70]\n400 [318, 356, 110, 590, 454, 595, 480, 596, 500, 592]\n622 [1198, 58559, 593, 4993, 1234, 1704, 44191, 2571, 48394, 64614]\n60 [745, 1221, 1208, 2324, 720, 111, 5952, 27773, 3018, 16]\n132 [3000, 296, 2571, 44555, 2357, 72226, 68954, 8012, 6711, 2395]\n435 [1196, 750, 1080, 1230, 1246, 778, 1566, 1425, 1722]\n314 [318, 2542, 1196, 1270, 260, 50872, 122882, 112556, 480, 114935]\n474 [2019, 858, 2300, 260, 951, 1221, 1198, 1219, 919, 3578]\n280 [260, 838, 1639, 1094, 1393, 1183, 1408, 2006]\n595 [2692, 318, 1213, 2396, 2324, 581, 1148, 1, 2971, 556]\n477 [65982, 1027, 158, 1644, 37386, 5481, 3717, 193]\n25 [260, 778, 608, 832, 1073, 780, 842, 802, 1405, 784]\n642 [1079, 800, 1218, 1643, 950, 1084, 162, 1251, 549, 1649]\n658 [356, 497, 1233, 2396, 58, 608, 1210, 111, 1617, 161]\n631 [318, 1625, 47, 1183, 1689, 1722, 1686, 1687, 1597, 1438]\n447 [318, 110, 300, 593, 235, 477, 150, 349, 339, 151]\n670 [527, 32, 1923, 1245, 34]\n153 [2959, 1259, 920, 2396, 2571, 3897, 1, 5952, 1277, 6093]\n647 [608, 926, 1945, 1207, 1221, 1260, 1211, 745, 2973, 1617]\n216 [1196, 2959, 1198, 1617, 1197, 1270, 1262, 4034, 7156, 551]\n438 [296, 923, 48516, 1089, 92259, 109487, 1682, 99114]\n166 [912, 3578, 1682, 293, 3897, 4886, 4223, 6333, 480, 785]\n629 [364, 224, 34, 587, 610]\n360 [47, 2571, 1732, 593, 924, 1953, 1240, 1097, 628, 111]\n97 [296, 908, 1267, 50, 58559, 48516, 2571, 1213, 1219, 912]\n369 [318, 527, 590, 509, 595, 588, 364, 2, 21, 454]\n151 [50, 296, 457, 150, 357, 300, 509, 480, 539, 292]\n274 [296, 608, 2959, 778, 1089, 293, 471, 1682, 3471, 22]\n206 [1036, 1968, 1291, 1957, 1200, 1173, 1302, 1297, 592, 2054]\n659 [858, 1222, 233, 1089, 1210, 36, 471, 265, 337, 509]\n10 [1196, 1197, 318, 1200, 2108, 2926, 2841, 1101, 2344, 3005]\n110 [356, 733, 345, 16, 266, 7, 466, 588, 237, 253]\n349 [2542, 593, 1222, 3949, 4369, 3793, 1792, 4367, 4638, 3316]\n116 [4993, 593, 5952, 4306, 260, 6539, 2890, 356, 1573, 153]\n578 [1259, 2959, 2028, 1196, 92259, 79132, 17, 356, 74458, 63082]\n539 [1704, 527, 1066, 2352, 326, 17, 3424, 3158, 3142, 46]\n401 [1196, 1198, 1215, 2571, 1265, 1097, 1077, 924, 356, 3499]\n493 [608, 497, 1252, 905, 1197, 2324, 2352, 3114, 1643, 3551]\n618 [3462, 319, 2677, 4308, 3676, 4811, 4300, 2553, 2641]\n238 [318, 1203, 104374, 356, 1682, 92259, 593, 57669, 50872, 56367]\n315 [5952, 1253, 1278, 6060, 6003, 6183, 2109, 5880, 6014, 5954]\n336 [527, 953, 912, 356, 4427, 4191, 919, 1084, 4486, 1372]\n51 [2396, 1959, 2841, 2763, 2734, 1888, 2688, 2699, 2724, 2713]\n361 [858, 52, 733, 32, 1183, 86, 1073, 748, 647, 640]\n440 [589, 47, 353, 480, 595, 587, 225, 466, 367, 485]\n338 [318, 356, 457, 515, 47, 36, 590, 161, 595, 265]\n188 [527, 475, 671, 150, 1012, 364, 589, 594, 262, 661]\n54 [3462, 48780, 78499, 8665, 2571, 48997, 96655, 77846, 69640, 2991]\n31 [318, 50, 858, 58559, 55820, 778, 904, 4993, 541, 1957]\n227 [2355, 2336, 2333, 2321, 2335, 2315, 2386, 2296, 2392]\n448 [5952, 593, 356, 1198, 1291, 79132]\n3 [318, 7153, 110, 6377, 2716, 1271, 2028, 1884, 595, 1235]\n225 [589, 47, 592, 588, 454, 253, 231, 724, 153]\n570 [1213, 116797, 1258, 457, 608, 1198, 58559, 2268, 4901, 2028]\n296 [1223, 4973, 4306, 3396, 833]\n5 [4995, 150, 30749, 2273, 1784, 1968, 2023, 39, 3408, 4022]\n567 [858, 48516, 1213, 4011, 1208, 4878, 1206, 1265, 1175, 589]\n390 [1221, 1304, 1270, 1, 608, 1527, 457, 62, 991, 1242]\n194 [32, 590, 150, 353, 377, 592, 253, 780, 204, 317]\n330 [318, 994, 899, 1172, 2467, 246, 1028, 589, 1249, 593]\n446 [7153, 70286, 87232, 5445, 111759, 8644, 120466, 63992]\n319 [356, 593, 480, 380, 196]\n237 [1210, 1285, 1196, 260, 5952, 32, 1408, 1320, 2657, 198]\n549 [318, 1221, 50, 3019, 671, 2716, 3740]\n147 [296, 2692, 4011, 2324, 4306, 3949, 8873, 1665, 2686, 2116]\n328 [318, 1207, 899, 1197, 1136, 8961, 1617, 356, 1291, 3363]\n20 [912, 527, 745, 750, 4993, 905, 296, 7153, 1960, 904]\n305 [307, 296, 541, 1580, 1097, 164, 480, 1125, 2943, 1783]\n454 [50, 1221, 2542, 608, 1193, 296, 92259, 6016, 593, 2028]\n39 [593, 50, 162, 73, 353, 588, 170, 553, 648, 592]\n301 [262, 1429, 68848, 3148, 68554, 4214, 2471, 2088]\n173 [260, 6, 780, 1542, 62, 832, 1552, 494, 799, 100]\n246 [2028, 1580, 2916, 1907, 3015, 1544, 421, 552, 455]\n588 [50, 318, 527, 475, 1036, 300, 428, 161, 733, 590]\n406 [3462, 923, 5971, 1228, 541, 7153, 68954, 26662, 5475, 1]\n252 [494, 25, 830, 648, 743, 104, 653, 788, 761, 135]\n583 [858, 109487, 1221, 2959, 58559, 1704, 54503]\n623 [527, 296, 48516, 6016, 2542, 2858, 8961, 4011, 4878, 7361]\n209 [555, 2395, 163, 802, 466, 2406, 543, 2699, 172, 552]\n255 [58559, 2858, 923, 953, 7153, 49272, 54001, 3742, 6711, 32587]\n639 [296, 111, 246, 299, 300, 364, 110, 588, 161, 231]\n643 [318, 260, 204, 1385, 5541, 4673, 4701, 1918, 2379]\n538 [150, 1, 509, 595, 288, 207, 316, 185]\n459 [628, 32, 733, 7, 95, 3, 135]\n653 [457, 2125, 1197, 1, 539, 3176, 986, 588, 2083, 595]\n136 [953, 912, 4993, 4886, 34332, 1, 4306, 595, 588, 2926]\n156 [48516, 56367, 69481, 36, 2395, 72226, 3101, 4239, 8533, 77561]\n552 [1079, 356, 508, 377, 588, 590, 466, 165, 718, 305]\n269 [1617, 1183, 1584, 1683, 1057, 1721, 1597, 1711, 1676]\n521 [4993, 1172, 904, 608, 1198, 471, 1282, 1275, 1597, 376]\n590 [318, 6, 293, 47, 337, 353, 440, 780, 480, 590]\n233 [608, 17, 58, 780, 1427, 1049, 648, 832, 141, 612]\n340 [858, 4993, 296, 5952, 7360, 364, 356, 3681, 2951, 102125]\n260 [1704, 590, 3578, 6539, 45722, 4022, 6711, 1620, 1981, 3249]\n421 [593, 300, 265, 293, 39, 261, 266, 364, 11, 480]\n323 [858, 4973, 912, 1250, 4995, 4034, 3176, 225, 2006, 236]\n593 [307, 457, 589, 150, 353, 616, 25, 141, 380, 531]\n415 [457, 161, 292, 380, 434, 736, 185]\n184 [589, 457, 593, 246, 377, 431, 180, 474, 334, 231]\n512 [318, 48780, 1198, 3578, 5064, 6942, 2115, 60069, 69122, 84152]\n141 [318, 2571, 2028, 3916, 349, 1693, 480, 3623, 4022, 1876]\n513 [356, 480, 151, 344, 208]\n53 [2997, 2761, 1610, 3114, 2093, 238, 392, 3160, 3107, 1772]\n661 [318, 1259, 1704, 3198, 1077, 1296, 2352, 6104, 3552]\n59 [50, 745, 6787, 296, 2797, 1148, 1968, 590, 150, 2329]\n429 [2858, 4226, 4993, 2329, 4973, 1350]\n476 [111, 1198, 2858, 1097, 2987, 2396, 3160, 16, 2762, 1093]\n347 [858, 1196, 5952, 778, 6539]\n337 [541, 260, 1200, 1356, 1345, 891, 1969]\n357 [745, 272, 32, 223, 58, 588, 161, 203, 595, 249]\n183 [318, 2692, 1196, 1193, 2542, 1199, 593, 2762, 924, 1046]\n571 [2858, 2329, 6502, 2572, 150, 4238, 27660, 47518, 54997, 55765]\n82 [39, 300, 110, 595, 150, 34, 339, 165, 454, 10]\n343 [858, 32, 81, 1407, 25, 1006, 1485]\n302 [457, 590, 1084, 480, 509, 357, 594, 596, 165, 316]\n155 [1196, 1197, 750, 912, 2571, 1200, 1965, 1957, 2916, 2028]\n640 [608, 1357, 116, 62, 1398, 648, 780, 1183, 104, 631]\n409 [296, 307, 319, 348, 110, 306, 431, 417, 265, 590]\n127 [480, 380, 597, 236, 135, 193]\n179 [4226, 56367, 49272, 1682, 69757, 6539, 46976, 80693, 8368, 8972]\n464 [260, 62, 588, 10, 592, 257, 165, 204, 610, 344]\n317 [592, 595, 292, 153]\n348 [1233, 1682, 3089, 1213, 1193, 1207, 32, 296, 778, 1952]\n651 [1250, 1907, 2671, 2145]\n27 [50, 1704, 73, 296, 2712, 593, 2762, 2501, 1343]\n365 [8961, 7153, 1103, 909, 1947, 3635, 2352, 1345, 40819, 4994]\n600 [106782, 116797, 50872, 76093, 79132, 6377, 104841, 104374, 90866]\n498 [1136, 1197, 2918, 1569, 588, 5459, 1544]\n650 [86, 140, 704, 105, 637, 15, 4]\n126 [593, 471, 58, 368, 377, 551, 440, 480, 596, 474]\n635 [2959, 608, 593, 111, 8874, 1222, 1485]\n386 [527, 2959, 2318, 111, 4878, 920, 431, 1120, 25, 2712]\n545 [1193, 1172, 1961, 608, 300, 1704, 2313, 2290, 2712, 2114]\n226 [64716, 62081, 3301, 6942, 50804, 2340, 673]\n74 [1704, 1080, 1097, 16, 2700, 2333, 592, 1584, 104, 2002]\n180 [223, 1197, 1240, 1265, 2700, 2987, 2541, 2013, 2581]\n391 [1204, 1641, 319, 1225, 1172, 1254, 1207, 1293, 1224, 1263]\n16 [6016, 1961, 1653, 4738, 7346, 4246, 2539, 3623]\n526 [79132, 85414, 4995, 8368, 7153, 6333, 50872, 88744, 8644, 4370]\n249 [593, 357, 337, 480, 597, 590, 500, 231, 153, 367]\n557 [588, 7293, 934, 2142, 7541, 27075, 239, 4386, 1021, 2123]\n630 [1252, 908, 356, 904, 4262]\n129 [1611, 3618, 3598, 3691, 3745, 3793, 3616, 3615, 3624, 2163]\n122 [497, 296, 28, 356, 73, 529, 349, 380, 339, 165]\n462 [2324, 1580, 1265, 1500, 1625, 1923, 1396, 2108, 2671, 2353]\n137 [296, 260, 50, 898, 1200, 2858, 2918, 5060, 531, 1292]\n663 [356, 122882, 122900, 134368, 111781, 135861, 117529]\n334 [778, 116797, 356, 79132, 2571, 99114, 6874, 68954, 115713, 2355]\n606 [858, 1221, 1219, 175, 6874, 2571, 2863, 1285, 72226, 235]\n359 [858, 912, 2858, 2959, 922, 590, 6385, 6235, 3258]\n210 [1968, 1307, 524, 1394, 6365, 2461, 539, 432]\n368 [3175, 1073, 3429, 2581, 3101, 1377, 2724]\n374 [1961, 4886, 3252, 5927, 5225, 5293, 5324, 3614, 5151, 5312]\n485 [3006, 8823, 105, 3717]\n106 [58559, 3210, 4886, 2762, 2395, 60069, 3786, 39408, 5296]\n503 [912, 858, 953, 593, 4993, 1196, 89745, 260, 76093, 78499]\n445 [296, 2004, 2384, 4874, 502, 4270, 2380]\n484 [1073, 640, 3, 65]\n289 [69757, 68135, 1296, 6565, 2687, 1125, 837, 1033, 7444, 1713]\n403 [1258, 1215, 1387, 1343, 247, 1, 1333, 1261, 188, 1348]\n71 [1617, 1259, 1957, 3481, 1673, 589]\n318 [1210, 991, 1041, 733, 608, 1057, 996, 783, 1133, 782]\n65 [858, 260, 2289, 1299, 1952, 1230, 920, 1238, 1256, 1956]\n399 [509, 481, 480, 597, 10]\n375 [356, 457, 349, 589, 595, 454, 329, 231, 165, 253]\n490 [1, 6, 36, 648, 14, 112]\n45 [899, 2692, 903, 1673, 3307]\n566 [318, 58559, 89745, 1792, 4255]\n581 [750, 2191, 7312, 5413, 5864, 32153, 7283, 3617, 1642, 65802]\n356 [994, 1222, 2360, 2231, 2501, 2707, 361, 8133, 2145]\n112 [6, 1356, 95, 648, 708]\n377 [52975, 54272, 934, 4899, 44225, 4980, 54004, 53993]\n64 [593, 595, 349, 329, 592, 344]\n637 [32, 3361, 2746, 3107, 135, 1409, 849]\n591 [953, 3088, 1097, 2987, 2321, 5060, 596, 2006, 48]\n114 [593, 356, 349, 590, 339, 208, 586, 153]\n632 [58559, 2959, 68157, 8961, 33794, 780, 2948, 69640, 480, 3555]\n404 [1287, 5470, 2023, 5337, 4865, 1446, 5382, 5349, 216, 1457]\n14 [3114, 594, 2355, 2716, 3623, 3157, 3354]\n144 [296, 457, 349, 593, 39, 553, 377, 480, 592, 329]\n601 [58559, 70286, 4878, 63082, 48774, 6283, 5294, 2605, 3755]\n1 [1293, 1172, 1129, 1405, 2455, 1371]\n444 [3967, 3984, 4000, 3987]\n565 [994, 2359, 150, 337, 589, 3100, 2826]\n24 [36, 356, 590, 380, 588]\n341 [1267, 1172, 1272]\n310 [1285, 1375, 256]\n645 [596, 3176, 543, 2012, 6263]\n413 [733, 1073, 708, 494]\n259 [541, 2396, 2997, 1097, 1210, 1189, 785]\n437 [440, 150, 48, 208]\n604 [32, 2278, 3256, 2949, 2990, 2953]\n221 [16, 1917, 1485, 315]\n"
    }
   ],
   "source": [
    "top_n = get_top_n(predictions, n=10)\n",
    "\n",
    "# Print the recommended items for each user\n",
    "for uid, user_ratings in top_n.items():\n",
    "    print(uid, [iid for (iid, _) in user_ratings])\n"
   ]
  },
  {
   "cell_type": "code",
   "execution_count": 16,
   "metadata": {},
   "outputs": [
    {
     "output_type": "execute_result",
     "data": {
      "text/plain": "[(48516, 4.602314507027896),\n (70286, 4.5372254958182925),\n (2804, 4.38298495713748),\n (3386, 4.350281306956536),\n (3246, 4.318912263418754),\n (3275, 4.2379702891274995),\n (8827, 4.0432662888209245),\n (53125, 3.796329959206197),\n (169, 3.768941592111123),\n (273, 3.7406592903604063)]"
     },
     "metadata": {},
     "execution_count": 16
    }
   ],
   "source": [
    "top_n[515]"
   ]
  },
  {
   "cell_type": "markdown",
   "metadata": {},
   "source": [
    "# Hybrid Recommender\n",
    "In Hybrid Recommeder, we combine both content based filter and user-based collaborative filtering into another recommender. First, we generate a list of movies that are top rated based on movies title that a user selected. Then, we apply prediction to the set of top rated movies that the user might like to watch by giving predicted rating for each top rated movies. "
   ]
  },
  {
   "cell_type": "code",
   "execution_count": 21,
   "metadata": {},
   "outputs": [],
   "source": [
    "def get_user_based_recommedation_by_title(uid, title):\n",
    "    movie_lst = get_recommended_movies_by_title(title)\n",
    "    rec_df = md[md.index.isin(movie_lst)][['id', 'title']]\n",
    "    rec_df['est_rating'] = rec_df['id'].apply(lambda x: algo.predict(uid, x).est)\n",
    "    rec_df = rec_df.sort_values('est_rating', ascending=False)\n",
    "    # comment to show estimated rating for the df\n",
    "    # print(rec_df) \n",
    "    return rec_df.id"
   ]
  },
  {
   "cell_type": "code",
   "execution_count": 23,
   "metadata": {},
   "outputs": [
    {
     "output_type": "stream",
     "name": "stdout",
     "text": "id                                              title  est_rating\n167     10428                                            Hackers    3.548695\n602      8766                              Hellraiser: Bloodline    3.548695\n43670   24959                                            Program    3.548695\n43669   24914                                        Kid's Story    3.548695\n43665   24960                                       World Record    3.548695\n43663   24660                                  A Detective Story    3.548695\n41235   29333                             Murder in a Blue World    3.548695\n41127  210052                                        Wolfskinder    3.548695\n34933    1877                                     Doctor Mordrid    3.548695\n33545  281826                                          Algorithm    3.548695\n29990   51604                                     The Rain Fairy    3.548695\n28419  265712                               Stand by Me Doraemon    3.548695\n27294   34205                Halloweentown II: Kalabar's Revenge    3.548695\n26278   44663                                       Moscow Chill    3.548695\n25641  259912                                      Memed My Hawk    3.548695\n25115   17135                                         Omega Doom    3.548695\n24017  284427                                           Who Am I    3.548695\n23555   71704                                          Air Panic    3.548695\n22616  157834                                   The Zero Theorem    3.548695\n20561  136698              Underground: The Julian Assange Story    3.548695\n14479   19995                                             Avatar    3.548695\n13821   16911                               The Inhabited Island    3.548695\n12756   14154                           War Games: The Dead Code    3.548695\n10758    9682                                              Pulse    3.548695\n9323    55931                                      The Animatrix    3.548695\n9110    10429                                           Takedown    3.548695\n6478    10999                                           Commando    3.548695\n3057    10384                                          Supernova    3.548695\n44350  296834  An Alternative Reality: The Football Manager D...    3.548695\n1340     2322                                           Sneakers    3.366758\n"
    },
    {
     "output_type": "execute_result",
     "data": {
      "text/plain": "                                                   title  vote_count  \\\n167                                              Hackers       406.0   \n602                                Hellraiser: Bloodline       111.0   \n1340                                            Sneakers       301.0   \n3057                                           Supernova       109.0   \n6478                                            Commando       753.0   \n9110                                            Takedown        56.0   \n9323                                       The Animatrix       433.0   \n10758                                              Pulse       154.0   \n12756                           War Games: The Dead Code        47.0   \n13821                               The Inhabited Island        24.0   \n14479                                             Avatar     12114.0   \n20561              Underground: The Julian Assange Story        18.0   \n22616                                   The Zero Theorem       383.0   \n23555                                          Air Panic        11.0   \n24017                                           Who Am I       430.0   \n25115                                         Omega Doom        20.0   \n25641                                      Memed My Hawk         1.0   \n26278                                       Moscow Chill         5.0   \n27294                Halloweentown II: Kalabar's Revenge        62.0   \n28419                               Stand by Me Doraemon       103.0   \n29990                                     The Rain Fairy         2.0   \n33545                                          Algorithm        10.0   \n34933                                     Doctor Mordrid         9.0   \n41127                                        Wolfskinder         5.0   \n41235                             Murder in a Blue World         3.0   \n43663                                  A Detective Story        30.0   \n43665                                       World Record        28.0   \n43669                                        Kid's Story        37.0   \n43670                                            Program        26.0   \n44350  An Alternative Reality: The Football Manager D...         2.0   \n\n       vote_average      id  \n167             6.2   10428  \n602             4.9    8766  \n1340            6.7    2322  \n3057            4.9   10384  \n6478            6.4   10999  \n9110            6.3   10429  \n9323            6.9   55931  \n10758           5.0    9682  \n12756           5.1   14154  \n13821           5.4   16911  \n14479           7.2   19995  \n20561           5.8  136698  \n22616           5.9  157834  \n23555           4.1   71704  \n24017           7.6  284427  \n25115           4.3   17135  \n25641           5.0  259912  \n26278           3.5   44663  \n27294           6.3   34205  \n28419           7.0  265712  \n29990           4.5   51604  \n33545           5.4  281826  \n34933           6.1    1877  \n41127           7.1  210052  \n41235           4.2   29333  \n43663           7.2   24660  \n43665           7.1   24960  \n43669           7.2   24914  \n43670           6.9   24959  \n44350           6.5  296834  ",
      "text/html": "<div>\n<style scoped>\n    .dataframe tbody tr th:only-of-type {\n        vertical-align: middle;\n    }\n\n    .dataframe tbody tr th {\n        vertical-align: top;\n    }\n\n    .dataframe thead th {\n        text-align: right;\n    }\n</style>\n<table border=\"1\" class=\"dataframe\">\n  <thead>\n    <tr style=\"text-align: right;\">\n      <th></th>\n      <th>title</th>\n      <th>vote_count</th>\n      <th>vote_average</th>\n      <th>id</th>\n    </tr>\n  </thead>\n  <tbody>\n    <tr>\n      <th>167</th>\n      <td>Hackers</td>\n      <td>406.0</td>\n      <td>6.2</td>\n      <td>10428</td>\n    </tr>\n    <tr>\n      <th>602</th>\n      <td>Hellraiser: Bloodline</td>\n      <td>111.0</td>\n      <td>4.9</td>\n      <td>8766</td>\n    </tr>\n    <tr>\n      <th>1340</th>\n      <td>Sneakers</td>\n      <td>301.0</td>\n      <td>6.7</td>\n      <td>2322</td>\n    </tr>\n    <tr>\n      <th>3057</th>\n      <td>Supernova</td>\n      <td>109.0</td>\n      <td>4.9</td>\n      <td>10384</td>\n    </tr>\n    <tr>\n      <th>6478</th>\n      <td>Commando</td>\n      <td>753.0</td>\n      <td>6.4</td>\n      <td>10999</td>\n    </tr>\n    <tr>\n      <th>9110</th>\n      <td>Takedown</td>\n      <td>56.0</td>\n      <td>6.3</td>\n      <td>10429</td>\n    </tr>\n    <tr>\n      <th>9323</th>\n      <td>The Animatrix</td>\n      <td>433.0</td>\n      <td>6.9</td>\n      <td>55931</td>\n    </tr>\n    <tr>\n      <th>10758</th>\n      <td>Pulse</td>\n      <td>154.0</td>\n      <td>5.0</td>\n      <td>9682</td>\n    </tr>\n    <tr>\n      <th>12756</th>\n      <td>War Games: The Dead Code</td>\n      <td>47.0</td>\n      <td>5.1</td>\n      <td>14154</td>\n    </tr>\n    <tr>\n      <th>13821</th>\n      <td>The Inhabited Island</td>\n      <td>24.0</td>\n      <td>5.4</td>\n      <td>16911</td>\n    </tr>\n    <tr>\n      <th>14479</th>\n      <td>Avatar</td>\n      <td>12114.0</td>\n      <td>7.2</td>\n      <td>19995</td>\n    </tr>\n    <tr>\n      <th>20561</th>\n      <td>Underground: The Julian Assange Story</td>\n      <td>18.0</td>\n      <td>5.8</td>\n      <td>136698</td>\n    </tr>\n    <tr>\n      <th>22616</th>\n      <td>The Zero Theorem</td>\n      <td>383.0</td>\n      <td>5.9</td>\n      <td>157834</td>\n    </tr>\n    <tr>\n      <th>23555</th>\n      <td>Air Panic</td>\n      <td>11.0</td>\n      <td>4.1</td>\n      <td>71704</td>\n    </tr>\n    <tr>\n      <th>24017</th>\n      <td>Who Am I</td>\n      <td>430.0</td>\n      <td>7.6</td>\n      <td>284427</td>\n    </tr>\n    <tr>\n      <th>25115</th>\n      <td>Omega Doom</td>\n      <td>20.0</td>\n      <td>4.3</td>\n      <td>17135</td>\n    </tr>\n    <tr>\n      <th>25641</th>\n      <td>Memed My Hawk</td>\n      <td>1.0</td>\n      <td>5.0</td>\n      <td>259912</td>\n    </tr>\n    <tr>\n      <th>26278</th>\n      <td>Moscow Chill</td>\n      <td>5.0</td>\n      <td>3.5</td>\n      <td>44663</td>\n    </tr>\n    <tr>\n      <th>27294</th>\n      <td>Halloweentown II: Kalabar's Revenge</td>\n      <td>62.0</td>\n      <td>6.3</td>\n      <td>34205</td>\n    </tr>\n    <tr>\n      <th>28419</th>\n      <td>Stand by Me Doraemon</td>\n      <td>103.0</td>\n      <td>7.0</td>\n      <td>265712</td>\n    </tr>\n    <tr>\n      <th>29990</th>\n      <td>The Rain Fairy</td>\n      <td>2.0</td>\n      <td>4.5</td>\n      <td>51604</td>\n    </tr>\n    <tr>\n      <th>33545</th>\n      <td>Algorithm</td>\n      <td>10.0</td>\n      <td>5.4</td>\n      <td>281826</td>\n    </tr>\n    <tr>\n      <th>34933</th>\n      <td>Doctor Mordrid</td>\n      <td>9.0</td>\n      <td>6.1</td>\n      <td>1877</td>\n    </tr>\n    <tr>\n      <th>41127</th>\n      <td>Wolfskinder</td>\n      <td>5.0</td>\n      <td>7.1</td>\n      <td>210052</td>\n    </tr>\n    <tr>\n      <th>41235</th>\n      <td>Murder in a Blue World</td>\n      <td>3.0</td>\n      <td>4.2</td>\n      <td>29333</td>\n    </tr>\n    <tr>\n      <th>43663</th>\n      <td>A Detective Story</td>\n      <td>30.0</td>\n      <td>7.2</td>\n      <td>24660</td>\n    </tr>\n    <tr>\n      <th>43665</th>\n      <td>World Record</td>\n      <td>28.0</td>\n      <td>7.1</td>\n      <td>24960</td>\n    </tr>\n    <tr>\n      <th>43669</th>\n      <td>Kid's Story</td>\n      <td>37.0</td>\n      <td>7.2</td>\n      <td>24914</td>\n    </tr>\n    <tr>\n      <th>43670</th>\n      <td>Program</td>\n      <td>26.0</td>\n      <td>6.9</td>\n      <td>24959</td>\n    </tr>\n    <tr>\n      <th>44350</th>\n      <td>An Alternative Reality: The Football Manager D...</td>\n      <td>2.0</td>\n      <td>6.5</td>\n      <td>296834</td>\n    </tr>\n  </tbody>\n</table>\n</div>"
     },
     "metadata": {},
     "execution_count": 23
    }
   ],
   "source": [
    "movie_lst = get_user_based_recommedation_by_title(800,'The Matrix')\n",
    "rec_df = md[md.id.isin(movie_lst)]\n",
    "rec_df[['title', 'vote_count', 'vote_average', 'id']]"
   ]
  },
  {
   "cell_type": "code",
   "execution_count": 22,
   "metadata": {},
   "outputs": [
    {
     "output_type": "stream",
     "name": "stdout",
     "text": "id                                       title  est_rating\n2444      603                                  The Matrix    2.943148\n602      8766                       Hellraiser: Bloodline    2.837423\n35368  132873                        Die Mondverschwörung    2.837423\n35336  111480               OSS 117: Mission for a Killer    2.837423\n33339  334394                                      Baskin    2.837423\n32657  331592                                   Listening    2.837423\n29891   13179                                 Tinker Bell    2.837423\n29747   61803                                   Shakedown    2.837423\n28419  265712                        Stand by Me Doraemon    2.837423\n27300   48841           Vengeance: The Story of Tony Cimo    2.837423\n27270  196255                             Gregory Go Boom    2.837423\n23454   89187                              Beware of Pity    2.837423\n22600  422906                       The Wizard of Baghdad    2.837423\n21420   49802              The Secret of the Third Planet    2.837423\n19809   61591                   Welcome to the Space Show    2.837423\n18326   50357                                   Apollo 18    2.837423\n17894  113105                       The War of the Robots    2.837423\n15984  114096                               Bloodbrothers    2.837423\n15627   27579                                The American    2.837423\n14818   22972                                  Green Zone    2.837423\n13821   16911                        The Inhabited Island    2.837423\n9028    63054                                    Fetishes    2.837423\n6044     9567                            Tears of the Sun    2.837423\n4590     8922                            Jeepers Creepers    2.837423\n3638    26270                           Project Moon Base    2.837423\n3633    16096                               House Party 2    2.837423\n3517    38688             Pandora and the Flying Dutchman    2.837423\n3057    10384                                   Supernova    2.837423\n35771  279096                                  Lazer Team    2.837423\n6378     1996  Lara Croft Tomb Raider: The Cradle of Life    2.525451\n"
    },
    {
     "output_type": "execute_result",
     "data": {
      "text/plain": "                                            title  vote_count  vote_average  \\\n602                         Hellraiser: Bloodline       111.0           4.9   \n2444                                   The Matrix      9079.0           7.9   \n3057                                    Supernova       109.0           4.9   \n3517              Pandora and the Flying Dutchman        19.0           6.5   \n3633                                House Party 2        22.0           4.7   \n3638                            Project Moon Base         4.0           2.5   \n4590                             Jeepers Creepers       731.0           6.1   \n6044                             Tears of the Sun       582.0           6.4   \n6378   Lara Croft Tomb Raider: The Cradle of Life      1443.0           5.5   \n9028                                     Fetishes        10.0           5.1   \n13821                        The Inhabited Island        24.0           5.4   \n14818                                  Green Zone       730.0           6.4   \n15627                                The American       488.0           5.8   \n15984                               Bloodbrothers         4.0           6.1   \n17894                       The War of the Robots         2.0           2.5   \n18326                                   Apollo 18       359.0           5.0   \n19809                   Welcome to the Space Show        18.0           6.2   \n21420              The Secret of the Third Planet        18.0           5.9   \n22600                       The Wizard of Baghdad         0.0           0.0   \n23454                              Beware of Pity         4.0           4.5   \n27270                             Gregory Go Boom         4.0           6.3   \n27300           Vengeance: The Story of Tony Cimo         1.0           4.8   \n28419                        Stand by Me Doraemon       103.0           7.0   \n29747                                   Shakedown         2.0           3.0   \n29891                                 Tinker Bell       319.0           6.5   \n32657                                   Listening        31.0           5.5   \n33339                                      Baskin        73.0           5.8   \n35336               OSS 117: Mission for a Killer         2.0           8.5   \n35368                        Die Mondverschwörung         7.0           7.6   \n35771                                  Lazer Team       103.0           5.7   \n\n           id  \n602      8766  \n2444      603  \n3057    10384  \n3517    38688  \n3633    16096  \n3638    26270  \n4590     8922  \n6044     9567  \n6378     1996  \n9028    63054  \n13821   16911  \n14818   22972  \n15627   27579  \n15984  114096  \n17894  113105  \n18326   50357  \n19809   61591  \n21420   49802  \n22600  422906  \n23454   89187  \n27270  196255  \n27300   48841  \n28419  265712  \n29747   61803  \n29891   13179  \n32657  331592  \n33339  334394  \n35336  111480  \n35368  132873  \n35771  279096  ",
      "text/html": "<div>\n<style scoped>\n    .dataframe tbody tr th:only-of-type {\n        vertical-align: middle;\n    }\n\n    .dataframe tbody tr th {\n        vertical-align: top;\n    }\n\n    .dataframe thead th {\n        text-align: right;\n    }\n</style>\n<table border=\"1\" class=\"dataframe\">\n  <thead>\n    <tr style=\"text-align: right;\">\n      <th></th>\n      <th>title</th>\n      <th>vote_count</th>\n      <th>vote_average</th>\n      <th>id</th>\n    </tr>\n  </thead>\n  <tbody>\n    <tr>\n      <th>602</th>\n      <td>Hellraiser: Bloodline</td>\n      <td>111.0</td>\n      <td>4.9</td>\n      <td>8766</td>\n    </tr>\n    <tr>\n      <th>2444</th>\n      <td>The Matrix</td>\n      <td>9079.0</td>\n      <td>7.9</td>\n      <td>603</td>\n    </tr>\n    <tr>\n      <th>3057</th>\n      <td>Supernova</td>\n      <td>109.0</td>\n      <td>4.9</td>\n      <td>10384</td>\n    </tr>\n    <tr>\n      <th>3517</th>\n      <td>Pandora and the Flying Dutchman</td>\n      <td>19.0</td>\n      <td>6.5</td>\n      <td>38688</td>\n    </tr>\n    <tr>\n      <th>3633</th>\n      <td>House Party 2</td>\n      <td>22.0</td>\n      <td>4.7</td>\n      <td>16096</td>\n    </tr>\n    <tr>\n      <th>3638</th>\n      <td>Project Moon Base</td>\n      <td>4.0</td>\n      <td>2.5</td>\n      <td>26270</td>\n    </tr>\n    <tr>\n      <th>4590</th>\n      <td>Jeepers Creepers</td>\n      <td>731.0</td>\n      <td>6.1</td>\n      <td>8922</td>\n    </tr>\n    <tr>\n      <th>6044</th>\n      <td>Tears of the Sun</td>\n      <td>582.0</td>\n      <td>6.4</td>\n      <td>9567</td>\n    </tr>\n    <tr>\n      <th>6378</th>\n      <td>Lara Croft Tomb Raider: The Cradle of Life</td>\n      <td>1443.0</td>\n      <td>5.5</td>\n      <td>1996</td>\n    </tr>\n    <tr>\n      <th>9028</th>\n      <td>Fetishes</td>\n      <td>10.0</td>\n      <td>5.1</td>\n      <td>63054</td>\n    </tr>\n    <tr>\n      <th>13821</th>\n      <td>The Inhabited Island</td>\n      <td>24.0</td>\n      <td>5.4</td>\n      <td>16911</td>\n    </tr>\n    <tr>\n      <th>14818</th>\n      <td>Green Zone</td>\n      <td>730.0</td>\n      <td>6.4</td>\n      <td>22972</td>\n    </tr>\n    <tr>\n      <th>15627</th>\n      <td>The American</td>\n      <td>488.0</td>\n      <td>5.8</td>\n      <td>27579</td>\n    </tr>\n    <tr>\n      <th>15984</th>\n      <td>Bloodbrothers</td>\n      <td>4.0</td>\n      <td>6.1</td>\n      <td>114096</td>\n    </tr>\n    <tr>\n      <th>17894</th>\n      <td>The War of the Robots</td>\n      <td>2.0</td>\n      <td>2.5</td>\n      <td>113105</td>\n    </tr>\n    <tr>\n      <th>18326</th>\n      <td>Apollo 18</td>\n      <td>359.0</td>\n      <td>5.0</td>\n      <td>50357</td>\n    </tr>\n    <tr>\n      <th>19809</th>\n      <td>Welcome to the Space Show</td>\n      <td>18.0</td>\n      <td>6.2</td>\n      <td>61591</td>\n    </tr>\n    <tr>\n      <th>21420</th>\n      <td>The Secret of the Third Planet</td>\n      <td>18.0</td>\n      <td>5.9</td>\n      <td>49802</td>\n    </tr>\n    <tr>\n      <th>22600</th>\n      <td>The Wizard of Baghdad</td>\n      <td>0.0</td>\n      <td>0.0</td>\n      <td>422906</td>\n    </tr>\n    <tr>\n      <th>23454</th>\n      <td>Beware of Pity</td>\n      <td>4.0</td>\n      <td>4.5</td>\n      <td>89187</td>\n    </tr>\n    <tr>\n      <th>27270</th>\n      <td>Gregory Go Boom</td>\n      <td>4.0</td>\n      <td>6.3</td>\n      <td>196255</td>\n    </tr>\n    <tr>\n      <th>27300</th>\n      <td>Vengeance: The Story of Tony Cimo</td>\n      <td>1.0</td>\n      <td>4.8</td>\n      <td>48841</td>\n    </tr>\n    <tr>\n      <th>28419</th>\n      <td>Stand by Me Doraemon</td>\n      <td>103.0</td>\n      <td>7.0</td>\n      <td>265712</td>\n    </tr>\n    <tr>\n      <th>29747</th>\n      <td>Shakedown</td>\n      <td>2.0</td>\n      <td>3.0</td>\n      <td>61803</td>\n    </tr>\n    <tr>\n      <th>29891</th>\n      <td>Tinker Bell</td>\n      <td>319.0</td>\n      <td>6.5</td>\n      <td>13179</td>\n    </tr>\n    <tr>\n      <th>32657</th>\n      <td>Listening</td>\n      <td>31.0</td>\n      <td>5.5</td>\n      <td>331592</td>\n    </tr>\n    <tr>\n      <th>33339</th>\n      <td>Baskin</td>\n      <td>73.0</td>\n      <td>5.8</td>\n      <td>334394</td>\n    </tr>\n    <tr>\n      <th>35336</th>\n      <td>OSS 117: Mission for a Killer</td>\n      <td>2.0</td>\n      <td>8.5</td>\n      <td>111480</td>\n    </tr>\n    <tr>\n      <th>35368</th>\n      <td>Die Mondverschwörung</td>\n      <td>7.0</td>\n      <td>7.6</td>\n      <td>132873</td>\n    </tr>\n    <tr>\n      <th>35771</th>\n      <td>Lazer Team</td>\n      <td>103.0</td>\n      <td>5.7</td>\n      <td>279096</td>\n    </tr>\n  </tbody>\n</table>\n</div>"
     },
     "metadata": {},
     "execution_count": 22
    }
   ],
   "source": [
    "movie_lst = get_user_based_recommedation_by_title(1,'Avatar')\n",
    "rec_df = md[md.id.isin(movie_lst)]\n",
    "rec_df[['title', 'vote_count', 'vote_average', 'id']]"
   ]
  },
  {
   "cell_type": "code",
   "execution_count": null,
   "metadata": {},
   "outputs": [],
   "source": []
  }
 ],
 "metadata": {
  "language_info": {
   "codemirror_mode": {
    "name": "ipython",
    "version": 3
   },
   "file_extension": ".py",
   "mimetype": "text/x-python",
   "name": "python",
   "nbconvert_exporter": "python",
   "pygments_lexer": "ipython3",
   "version": "3.7.4-final"
  },
  "orig_nbformat": 2,
  "kernelspec": {
   "name": "python37464bitenvvenvc6419c7479fb4c348c72c3d2f96f3f35",
   "display_name": "Python 3.7.4 64-bit ('env': venv)"
  }
 },
 "nbformat": 4,
 "nbformat_minor": 2
}